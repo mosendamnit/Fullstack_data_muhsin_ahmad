{
 "cells": [
  {
   "cell_type": "code",
   "execution_count": 2,
   "metadata": {},
   "outputs": [
    {
     "data": {
      "text/plain": [
       "('Mohsin', 34, True)"
      ]
     },
     "execution_count": 2,
     "metadata": {},
     "output_type": "execute_result"
    }
   ],
   "source": [
    "name = \"Mohsin\"\n",
    "age = 34\n",
    "love_cat = True\n",
    "\n",
    "\n",
    "name , age , love_cat"
   ]
  },
  {
   "cell_type": "code",
   "execution_count": 2,
   "metadata": {},
   "outputs": [
    {
     "data": {
      "text/html": [
       "<div>\n",
       "<style scoped>\n",
       "    .dataframe tbody tr th:only-of-type {\n",
       "        vertical-align: middle;\n",
       "    }\n",
       "\n",
       "    .dataframe tbody tr th {\n",
       "        vertical-align: top;\n",
       "    }\n",
       "\n",
       "    .dataframe thead th {\n",
       "        text-align: right;\n",
       "    }\n",
       "</style>\n",
       "<table border=\"1\" class=\"dataframe\">\n",
       "  <thead>\n",
       "    <tr style=\"text-align: right;\">\n",
       "      <th></th>\n",
       "      <th>Temperature</th>\n",
       "      <th>Revenue</th>\n",
       "    </tr>\n",
       "  </thead>\n",
       "  <tbody>\n",
       "    <tr>\n",
       "      <th>0</th>\n",
       "      <td>24.566884</td>\n",
       "      <td>534.799028</td>\n",
       "    </tr>\n",
       "    <tr>\n",
       "      <th>1</th>\n",
       "      <td>26.005191</td>\n",
       "      <td>625.190122</td>\n",
       "    </tr>\n",
       "    <tr>\n",
       "      <th>2</th>\n",
       "      <td>27.790554</td>\n",
       "      <td>660.632289</td>\n",
       "    </tr>\n",
       "    <tr>\n",
       "      <th>3</th>\n",
       "      <td>20.595335</td>\n",
       "      <td>487.706960</td>\n",
       "    </tr>\n",
       "    <tr>\n",
       "      <th>4</th>\n",
       "      <td>11.503498</td>\n",
       "      <td>316.240194</td>\n",
       "    </tr>\n",
       "    <tr>\n",
       "      <th>...</th>\n",
       "      <td>...</td>\n",
       "      <td>...</td>\n",
       "    </tr>\n",
       "    <tr>\n",
       "      <th>495</th>\n",
       "      <td>22.274899</td>\n",
       "      <td>524.746364</td>\n",
       "    </tr>\n",
       "    <tr>\n",
       "      <th>496</th>\n",
       "      <td>32.893092</td>\n",
       "      <td>755.818399</td>\n",
       "    </tr>\n",
       "    <tr>\n",
       "      <th>497</th>\n",
       "      <td>12.588157</td>\n",
       "      <td>306.090719</td>\n",
       "    </tr>\n",
       "    <tr>\n",
       "      <th>498</th>\n",
       "      <td>22.362402</td>\n",
       "      <td>566.217304</td>\n",
       "    </tr>\n",
       "    <tr>\n",
       "      <th>499</th>\n",
       "      <td>28.957736</td>\n",
       "      <td>655.660388</td>\n",
       "    </tr>\n",
       "  </tbody>\n",
       "</table>\n",
       "<p>500 rows × 2 columns</p>\n",
       "</div>"
      ],
      "text/plain": [
       "     Temperature     Revenue\n",
       "0      24.566884  534.799028\n",
       "1      26.005191  625.190122\n",
       "2      27.790554  660.632289\n",
       "3      20.595335  487.706960\n",
       "4      11.503498  316.240194\n",
       "..           ...         ...\n",
       "495    22.274899  524.746364\n",
       "496    32.893092  755.818399\n",
       "497    12.588157  306.090719\n",
       "498    22.362402  566.217304\n",
       "499    28.957736  655.660388\n",
       "\n",
       "[500 rows x 2 columns]"
      ]
     },
     "execution_count": 2,
     "metadata": {},
     "output_type": "execute_result"
    }
   ],
   "source": [
    "import pandas as pd\n",
    "\n",
    "pd.read_csv(\"../data/IceCreamData.csv\")"
   ]
  },
  {
   "cell_type": "markdown",
   "metadata": {},
   "source": [
    "# f-string"
   ]
  },
  {
   "cell_type": "code",
   "execution_count": 3,
   "metadata": {},
   "outputs": [
    {
     "name": "stdout",
     "output_type": "stream",
     "text": [
      "name data type:  <class 'str'>\n",
      "age data type:  <class 'int'>\n",
      "love_cat data type:  <class 'bool'>\n"
     ]
    }
   ],
   "source": [
    "print(f\"name data type:  {type(name)}\")\n",
    "print(f\"age data type:  {type(age)}\")\n",
    "print(f\"love_cat data type:  {type(love_cat)}\")"
   ]
  },
  {
   "cell_type": "markdown",
   "metadata": {},
   "source": [
    "# List"
   ]
  },
  {
   "cell_type": "code",
   "execution_count": 4,
   "metadata": {},
   "outputs": [
    {
     "data": {
      "text/plain": [
       "['Mohsin', 34, True]"
      ]
     },
     "execution_count": 4,
     "metadata": {},
     "output_type": "execute_result"
    }
   ],
   "source": [
    "hobby = [\"youtube\" , \"playstation\" , \"cycling\" , \"swimming\"]\n",
    "# list can be a collection of different data type element\n",
    "\n",
    "person = [\"Mohsin\" , 34 , True]\n",
    "person"
   ]
  },
  {
   "cell_type": "code",
   "execution_count": 5,
   "metadata": {},
   "outputs": [
    {
     "data": {
      "text/plain": [
       "['Mohsin', 34, True, ['youtube', 'playstation', 'cycling', 'swimming']]"
      ]
     },
     "execution_count": 5,
     "metadata": {},
     "output_type": "execute_result"
    }
   ],
   "source": [
    "person.append(hobby)\n",
    "person"
   ]
  },
  {
   "cell_type": "code",
   "execution_count": 6,
   "metadata": {},
   "outputs": [
    {
     "name": "stdout",
     "output_type": "stream",
     "text": [
      "person[0] = 'Mohsin'\n",
      "person[1] = 34\n"
     ]
    }
   ],
   "source": [
    "print(f\"{person[0] = }\")\n",
    "print(f\"{person[1] = }\")\n"
   ]
  },
  {
   "cell_type": "code",
   "execution_count": 7,
   "metadata": {},
   "outputs": [
    {
     "name": "stdout",
     "output_type": "stream",
     "text": [
      "original list\n",
      "person =['Mohsin', 34, True, ['youtube', 'playstation', 'cycling', 'swimming']] \n",
      "\n",
      "slice fromm 0 to 2\n",
      " ['Mohsin', 34] \n",
      "\n",
      "print every second element\n",
      " ['Mohsin', True]\n",
      "Print in reverse order\n",
      "[['youtube', 'playstation', 'cycling', 'swimming'], True, 34, 'Mohsin']\n"
     ]
    }
   ],
   "source": [
    "print(\"original list\")\n",
    "print(f\"{person =} \\n\")\n",
    "\n",
    "print(\"slice fromm 0 to 2\")\n",
    "print(f\" {person[:2]} \\n\")\n",
    "\n",
    "\n",
    "print(\"print every second element\")\n",
    "print(f\" {person[0::2]}\")\n",
    "\n",
    "print(\"Print in reverse order\")\n",
    "print(f\"{person[: : -1]}\")"
   ]
  },
  {
   "cell_type": "markdown",
   "metadata": {},
   "source": [
    "# Iterating over lists "
   ]
  },
  {
   "cell_type": "code",
   "execution_count": 8,
   "metadata": {},
   "outputs": [
    {
     "name": "stdout",
     "output_type": "stream",
     "text": [
      "numbers = [0, 1, 2, 3, 4, 5, 6, 7, 8, 9]\n",
      "square = [0, 1, 4, 9, 16, 25, 36, 49, 64, 81]\n",
      " 8 before we cross the 500\n"
     ]
    }
   ],
   "source": [
    "numbers = []\n",
    "\n",
    "for i in range(10):\n",
    "    numbers.append(i)\n",
    "\n",
    "print(f\"{numbers = }\")\n",
    "\n",
    "\n",
    "square = []\n",
    "\n",
    "for number in numbers:\n",
    "    square.append(number**2)\n",
    "\n",
    "print(f\"{square = }\")\n",
    "\n",
    "\n",
    "i , cubes = 0 , [0]\n",
    "\n",
    "while (i+1) **3 < 500 :\n",
    "    i +=1\n",
    "    cubes.append(i**3)\n",
    "\n",
    "print(f\" {len(cubes)} before we cross the 500\")"
   ]
  },
  {
   "cell_type": "markdown",
   "metadata": {},
   "source": [
    "# list comprehensions for list creations"
   ]
  },
  {
   "cell_type": "code",
   "execution_count": 9,
   "metadata": {},
   "outputs": [
    {
     "name": "stdout",
     "output_type": "stream",
     "text": [
      " number = [0, 1, 2, 3, 4, 5, 6, 7, 8, 9]\n",
      " square = [0, 1, 4, 9, 16, 25, 36, 49, 64, 81]\n",
      " cubes = [0, 1, 8, 27, 64, 125, 216, 343]\n"
     ]
    }
   ],
   "source": [
    "number = [ number for number in range(10)]\n",
    "square = [number **2 for number in range(10)]\n",
    "\n",
    "# if -statement in list comprehension\n",
    "\n",
    "cubes = [number **3 for number in range(10) if number **3 < 500]\n",
    "\n",
    "print(f\" {number = }\")\n",
    "print(f\" {square = }\")\n",
    "print(f\" {cubes = }\")"
   ]
  },
  {
   "cell_type": "code",
   "execution_count": 10,
   "metadata": {},
   "outputs": [
    {
     "name": "stdout",
     "output_type": "stream",
     "text": [
      "dices = [1, 2, 6, 3, 5, 3, 3, 2, 4, 4]\n",
      "unique_dices = {1, 2, 3, 4, 5, 6}\n"
     ]
    }
   ],
   "source": [
    "import random as rnd\n",
    "\n",
    "dices = [\n",
    "    rnd.randint(1, 6) for i in range(10)\n",
    "]\n",
    "\n",
    "print(f\"{dices = }\")\n",
    "\n",
    "unique_dices = set(dices)\n",
    "print(f\"{unique_dices = }\")"
   ]
  },
  {
   "cell_type": "markdown",
   "metadata": {},
   "source": [
    "# set logic"
   ]
  },
  {
   "cell_type": "code",
   "execution_count": 11,
   "metadata": {},
   "outputs": [
    {
     "name": "stdout",
     "output_type": "stream",
     "text": [
      "unique_dices = {1, 2, 3, 4, 5, 6}\n",
      "set2 ={1, 10, 3, 15}\n",
      "\n",
      "unique_dices.union(set2) = {1, 2, 3, 4, 5, 6, 10, 15}\n",
      "unique_dices |  set2 = {1, 2, 3, 4, 5, 6, 10, 15} \n",
      "\n"
     ]
    }
   ],
   "source": [
    "set2 = {1,3,10,15}\n",
    "\n",
    "print(f\"{unique_dices = }\")\n",
    "print(f\"{set2 =}\\n\")\n",
    "\n",
    "\n",
    "print(f\"{unique_dices.union(set2) = }\") # union\n",
    "print(f\"{unique_dices |  set2 = } \\n\")\n",
    "\n"
   ]
  },
  {
   "cell_type": "markdown",
   "metadata": {},
   "source": [
    "# Dictionary - two different syntaxes\n",
    "The two different syntaxes to create dictionary in Python are\n",
    "\n",
    "using the dict keyword\n",
    "using bracket syntax"
   ]
  },
  {
   "cell_type": "code",
   "execution_count": 12,
   "metadata": {},
   "outputs": [
    {
     "name": "stdout",
     "output_type": "stream",
     "text": [
      "Print both synatx format of dictionary \n",
      " {'name': 'Mohsin', 'age': 34, 'love_cat': True} \n",
      " {'name': 'Mohsin', 'age ': 34, 'love_cat': True}\n"
     ]
    },
    {
     "data": {
      "text/plain": [
       "('0x10bfaa680', '0x10c073700')"
      ]
     },
     "execution_count": 12,
     "metadata": {},
     "output_type": "execute_result"
    }
   ],
   "source": [
    "person_dict_syntax = dict (\n",
    "    name = \"Mohsin\" , age = 34 , love_cat = True\n",
    ")\n",
    "\n",
    "person_bracket_syntax = {\n",
    "    \"name\" : \"Mohsin\",\n",
    "    \"age \" : 34,\n",
    "    \"love_cat\" : True,\n",
    "}\n",
    "\n",
    "\n",
    "print(f\"Print both synatx format of dictionary \\n {person_dict_syntax} \\n {person_bracket_syntax}\")\n",
    "\n",
    "\n",
    "hex(id(person_bracket_syntax)) , hex(id(person_dict_syntax))"
   ]
  },
  {
   "cell_type": "code",
   "execution_count": 13,
   "metadata": {},
   "outputs": [
    {
     "data": {
      "text/plain": [
       "('0x10c073940', '0x10c073a40')"
      ]
     },
     "execution_count": 13,
     "metadata": {},
     "output_type": "execute_result"
    }
   ],
   "source": [
    "person_dict_syntax = dict (\n",
    "    name = \"Mohsin\" , age = 34 , love_cat = True\n",
    ")\n",
    "\n",
    "person2_dict_syntax = dict (\n",
    "    name = \"Mohsin\" , age = 34 , love_cat = True\n",
    ")\n",
    "\n",
    "hex(id(person_dict_syntax)) , hex(id(person2_dict_syntax))   # It doesnt matter how dict is constructed the memory address will be different unless the variable and values are same . "
   ]
  },
  {
   "cell_type": "markdown",
   "metadata": {},
   "source": [
    "# Iterating over dictionary"
   ]
  },
  {
   "cell_type": "code",
   "execution_count": 14,
   "metadata": {},
   "outputs": [
    {
     "name": "stdout",
     "output_type": "stream",
     "text": [
      "name\n",
      "age\n",
      "love_cat\n"
     ]
    }
   ],
   "source": [
    "for key in person2_dict_syntax:\n",
    "    print(key)"
   ]
  },
  {
   "cell_type": "code",
   "execution_count": 15,
   "metadata": {},
   "outputs": [
    {
     "name": "stdout",
     "output_type": "stream",
     "text": [
      "Key: Value\n",
      "name Mohsin\n",
      "age 34\n",
      "love_cat True\n"
     ]
    }
   ],
   "source": [
    "print ( \"Key\" \":\" \" Value\")\n",
    "\n",
    "for key , value in person_dict_syntax.items():\n",
    "    print(key , value)"
   ]
  },
  {
   "cell_type": "markdown",
   "metadata": {},
   "source": [
    "# dictionary comprehension"
   ]
  },
  {
   "cell_type": "code",
   "execution_count": 16,
   "metadata": {},
   "outputs": [
    {
     "data": {
      "text/plain": [
       "{'supervised learning': 'learns from labeled data.',\n",
       " 'unsupervised learning': 'finds patterns in unlabeled data.',\n",
       " 'feature engineering': 'enhances input features for models.',\n",
       " 'overfitting': 'model fits training data too closely.',\n",
       " 'cross-validation': 'evaluates model performance robustly.'}"
      ]
     },
     "execution_count": 16,
     "metadata": {},
     "output_type": "execute_result"
    }
   ],
   "source": [
    "ml_terms = [\n",
    "    \"Supervised Learning\",\n",
    "    \"Unsupervised Learning\",\n",
    "    \"Feature Engineering\",\n",
    "    \"Overfitting\",\n",
    "    \"Cross-Validation\"\n",
    "]\n",
    "\n",
    "\n",
    "ml_explanations = [\n",
    "    \"Learns from labeled data.\",\n",
    "    \"Finds patterns in unlabeled data.\",\n",
    "    \"Enhances input features for models.\",\n",
    "    \"Model fits training data too closely.\",\n",
    "    \"Evaluates model performance robustly.\"\n",
    "]\n",
    "\n",
    "\n",
    "glossary = {terms.lower() : explanations.lower() for terms , explanations in zip(ml_terms , ml_explanations)}\n",
    "\n",
    "glossary\n"
   ]
  },
  {
   "cell_type": "markdown",
   "metadata": {},
   "source": [
    "# Strings\n",
    "important to understand how to manipulate strings as we will clean a lot of data in our work"
   ]
  },
  {
   "cell_type": "code",
   "execution_count": 17,
   "metadata": {},
   "outputs": [
    {
     "name": "stdout",
     "output_type": "stream",
     "text": [
      "len(ml_term) = 19\n",
      "ml_term.strip() = 'sUpervised LearNing'\n",
      "ml_term.split() = ['sUpervised', 'LearNing']\n",
      "Print Cleaned data \n",
      "' '.join(ml_term.split()).lower() = 'supervised learning'\n"
     ]
    }
   ],
   "source": [
    "ml_term = \"sUpervised LearNing\"\n",
    "\n",
    "print(f\"{len(ml_term) = }\")\n",
    "\n",
    "print(f\"{ml_term.strip() = }\")\n",
    "print(f\"{ml_term.split() = }\")\n",
    "\n",
    "print(\"Print Cleaned data \")\n",
    "print(f\"{' '.join(ml_term.split()).lower() = }\")\n",
    "\n",
    "\n"
   ]
  },
  {
   "cell_type": "markdown",
   "metadata": {},
   "source": [
    "# if-statement\n",
    "\n",
    "- conditional control structure\n",
    "- execute block of code if condition fulfilled\n",
    "- Some concepts of if-statements have been covered already throughout other concepts, hence this section will be shorter and try cover parts that are new"
   ]
  },
  {
   "cell_type": "code",
   "execution_count": 18,
   "metadata": {},
   "outputs": [
    {
     "name": "stdout",
     "output_type": "stream",
     "text": [
      "Positive  prediction for disces with probibitly 0.8\n"
     ]
    }
   ],
   "source": [
    "prediction_probability = 0.8\n",
    "\n",
    "if prediction_probability > 0.5:\n",
    "    y_pred = 1\n",
    "else:\n",
    "    y_pred = 0\n",
    "\n",
    "Prediction = \"Positive \" if y_pred else \"Negative\"\n",
    "\n",
    "print(\n",
    "    f\"{Prediction} prediction for disces with probibitly {prediction_probability}\"\n",
    ")\n"
   ]
  },
  {
   "cell_type": "code",
   "execution_count": 19,
   "metadata": {},
   "outputs": [
    {
     "name": "stdout",
     "output_type": "stream",
     "text": [
      "The accuracy of your model is 0.5 and the performace is Bad\n"
     ]
    }
   ],
   "source": [
    "accuracy = float (input(\"give your model accuracy\"))\n",
    "\n",
    "if accuracy > .9:\n",
    "    model_perfomace = \"Good\"\n",
    "\n",
    "elif accuracy > .7:\n",
    "    model_perfomace = \"Moderate\"\n",
    "\n",
    "else:\n",
    "    model_perfomace = \"Bad\"\n",
    "\n",
    "print(f\"The accuracy of your model is {accuracy} and the performace is {model_perfomace}\")"
   ]
  },
  {
   "cell_type": "markdown",
   "metadata": {},
   "source": [
    "# function"
   ]
  },
  {
   "cell_type": "code",
   "execution_count": 20,
   "metadata": {},
   "outputs": [
    {
     "name": "stdout",
     "output_type": "stream",
     "text": [
      "27\n",
      "[0, 1, 8, 27, 64]\n"
     ]
    }
   ],
   "source": [
    "def cube (x):\n",
    "    return x**3\n",
    "\n",
    "print(cube(3))\n",
    "\n",
    "cubes = [cube(x) for x in range(5)]\n",
    "print(cubes)"
   ]
  },
  {
   "cell_type": "code",
   "execution_count": 21,
   "metadata": {},
   "outputs": [
    {
     "data": {
      "text/plain": [
       "3"
      ]
     },
     "execution_count": 21,
     "metadata": {},
     "output_type": "execute_result"
    }
   ],
   "source": [
    "def smallest (number1 , number2):\n",
    "    if number1 > number2:\n",
    "        return number2\n",
    "    \n",
    "    return number1\n",
    "\n",
    "smallest(3, 7)\n"
   ]
  },
  {
   "cell_type": "code",
   "execution_count": 22,
   "metadata": {},
   "outputs": [
    {
     "name": "stdout",
     "output_type": "stream",
     "text": [
      "3.0\n"
     ]
    }
   ],
   "source": [
    "def my_mean (*args):\n",
    "    sum = 0\n",
    "    for arg in args:\n",
    "        sum += arg\n",
    "    return sum / len(args)\n",
    "\n",
    "print(my_mean(1,2,3,4,5))"
   ]
  },
  {
   "cell_type": "markdown",
   "metadata": {},
   "source": [
    "# Matplotlib"
   ]
  },
  {
   "cell_type": "code",
   "execution_count": 29,
   "metadata": {},
   "outputs": [
    {
     "data": {
      "text/plain": [
       "[<matplotlib.lines.Line2D at 0x116a40bd0>]"
      ]
     },
     "execution_count": 29,
     "metadata": {},
     "output_type": "execute_result"
    },
    {
     "data": {
      "image/png": "[encoded data removed]",
      "text/plain": [
       "<Figure size 640x480 with 1 Axes>"
      ]
     },
     "metadata": {},
     "output_type": "display_data"
    }
   ],
   "source": [
    "import matplotlib.pyplot as plt\n",
    "\n",
    "f = lambda x: 3 * x - 2\n",
    "\n",
    "def g(x):\n",
    "    return x**2 -2\n",
    "\n",
    "\n",
    "x = tuple(range(-5,5))\n",
    "\n",
    "y = [f (i) for i in x]\n",
    "y2 = [g(i) for i in x]\n",
    "\n",
    "plt.plot(x , y)\n",
    "plt.plot(x , y2)\n",
    "\n",
    "\n"
   ]
  },
  {
   "cell_type": "code",
   "execution_count": 34,
   "metadata": {},
   "outputs": [
    {
     "name": "stdout",
     "output_type": "stream",
     "text": [
      "[-3.14159265 -3.01336438 -2.88513611 -2.75690784 -2.62867957 -2.5004513\n",
      " -2.37222302 -2.24399475 -2.11576648 -1.98753821 -1.85930994 -1.73108167\n",
      " -1.60285339 -1.47462512 -1.34639685 -1.21816858 -1.08994031 -0.96171204\n",
      " -0.83348377 -0.70525549 -0.57702722 -0.44879895 -0.32057068 -0.19234241\n",
      " -0.06411414  0.06411414  0.19234241  0.32057068  0.44879895  0.57702722\n",
      "  0.70525549  0.83348377  0.96171204  1.08994031  1.21816858  1.34639685\n",
      "  1.47462512  1.60285339  1.73108167  1.85930994  1.98753821  2.11576648\n",
      "  2.24399475  2.37222302  2.5004513   2.62867957  2.75690784  2.88513611\n",
      "  3.01336438  3.14159265]\n"
     ]
    },
    {
     "data": {
      "text/plain": [
       "[<matplotlib.lines.Line2D at 0x116ad04d0>]"
      ]
     },
     "execution_count": 34,
     "metadata": {},
     "output_type": "execute_result"
    },
    {
     "data": {
      "image/png": "[encoded data removed]",
      "text/plain": [
       "<Figure size 640x480 with 1 Axes>"
      ]
     },
     "metadata": {},
     "output_type": "display_data"
    },
    {
     "data": {
      "text/plain": [
       "<Figure size 640x480 with 0 Axes>"
      ]
     },
     "metadata": {},
     "output_type": "display_data"
    }
   ],
   "source": [
    "import numpy as np\n",
    "\n",
    "x = np.linspace(-np.pi , np.pi)\n",
    "\n",
    "print(x)\n",
    "\n",
    "\n",
    "f = lambda x : x**2 +1\n",
    "g = lambda x: np.sin(x) +5\n",
    "\n",
    "ax , fig = plt.axes() , plt.figure()\n",
    "\n",
    "ax.plot(x , f(x))\n",
    "ax.plot(x , g(x))"
   ]
  },
  {
   "cell_type": "code",
   "execution_count": 48,
   "metadata": {},
   "outputs": [
    {
     "name": "stdout",
     "output_type": "stream",
     "text": [
      "Today data is 2024-08-22\n",
      "What day is today Thursday\n",
      "What week is it 34\n"
     ]
    }
   ],
   "source": [
    "from datetime import datetime\n",
    "\n",
    "now = datetime.now()\n",
    "\n",
    "print(f\"Today data is {now.date()}\")\n",
    "\n",
    "\n",
    "print(f\"What day is today {now.strftime('%A')}\")\n",
    "\n",
    "print(f\"What week is it {now.strftime ('%W')}\")\n",
    "\n",
    "\n",
    "\n"
   ]
  },
  {
   "cell_type": "code",
   "execution_count": 55,
   "metadata": {},
   "outputs": [
    {
     "name": "stdout",
     "output_type": "stream",
     "text": [
      "2024-12-13 00:00:00\n"
     ]
    }
   ],
   "source": [
    "flight_date = \"13/12/2024\"\n",
    "\n",
    "flight_date = datetime.strptime(flight_date , \"%d/%m/%Y\")\n",
    "\n",
    "print(flight_date)"
   ]
  },
  {
   "cell_type": "code",
   "execution_count": 58,
   "metadata": {},
   "outputs": [
    {
     "name": "stdout",
     "output_type": "stream",
     "text": [
      "112 days, 7:44:34.617287\n"
     ]
    }
   ],
   "source": [
    "remening_time = flight_date - now \n",
    "print(remening_time)"
   ]
  },
  {
   "cell_type": "markdown",
   "metadata": {},
   "source": [
    "# class "
   ]
  },
  {
   "cell_type": "code",
   "execution_count": 62,
   "metadata": {},
   "outputs": [
    {
     "name": "stdout",
     "output_type": "stream",
     "text": [
      "Person1 program AI\n",
      " Person1 program Front End\n",
      "Person1 namme : Mohsin\n",
      "person2 name : Zozo\n"
     ]
    }
   ],
   "source": [
    "class Antagning:\n",
    "    def __init__(self , Name , School , Accept , Program):\n",
    "        self.Name = Name\n",
    "        self.School = School\n",
    "        self.Accept = Accept\n",
    "        self.Program = Program\n",
    "\n",
    "person1 = Antagning(Name = \"Mohsin\" , School= \"Nbi school\" , Accept=True , Program= \"AI\" )\n",
    "person2 = Antagning(Name= \"Zozo\" , School= \"Cool School \" , Accept= False , Program= \"SOS\")\n",
    "\n",
    "\n",
    "print(f\"Person1 program {person1.Program}\")\n",
    "person1.Program = \"Front End\"\n",
    "print(f\" Person1 program {person1.Program}\")\n",
    "\n",
    "print(f\"Person1 namme : {person1.Name}\" )\n",
    "print(f\"person2 name : {person2.Name}\")"
   ]
  },
  {
   "cell_type": "code",
   "execution_count": 67,
   "metadata": {},
   "outputs": [
    {
     "name": "stdout",
     "output_type": "stream",
     "text": [
      "Patien (Mohsin , Corona , 34  )\n",
      "Patient1 name changed\n",
      "Patien (Zozo , Corona , 34  )\n"
     ]
    }
   ],
   "source": [
    "class Patient:\n",
    "    def __init__(self , name , disceas , age):\n",
    "        self._name = name\n",
    "        self._disceas = disceas\n",
    "        self._age = age\n",
    "\n",
    "    def __repr__(self):\n",
    "        return f\"Patien ({self._name} , {self._disceas} , {self._age}  )\"\n",
    "    \n",
    "\n",
    "Patient1 = Patient( \"Mohsin\" , \"Corona\" , 34)\n",
    "print(Patient1)\n",
    "\n",
    "\n",
    "print(\"Patient1 name changed\")\n",
    "\n",
    "Patient1._name = \"Zozo\"\n",
    "\n",
    "print(Patient1)"
   ]
  },
  {
   "cell_type": "code",
   "execution_count": 4,
   "metadata": {},
   "outputs": [
    {
     "name": "stdout",
     "output_type": "stream",
     "text": [
      " Toyota  and Corolla  honks so loudly\n",
      " My car make is Toyota  , and the model is Corolla   and the year is 2010\n"
     ]
    }
   ],
   "source": [
    "class Vehicle:\n",
    "    def __init__(self , make , model , year) -> None:\n",
    "        self.make = make \n",
    "        self.model = model\n",
    "        self.year = year\n",
    "\n",
    "    def __str__(self) -> str:\n",
    "        return f\" My car make is {self.make} , and the model is {self.model}  and the year is {self.year}\"\n",
    "\n",
    "\n",
    "\n",
    "class Car (Vehicle):\n",
    "    def __init__(self, make, model, year) -> None:\n",
    "        super().__init__(make, model, year)\n",
    "\n",
    "    def honk(self):\n",
    "        print(f\" {self.make} and {self.model} honks so loudly\")\n",
    "\n",
    "\n",
    "Vehicle_instance = Car( make = \"Toyota \" , model = \"Corolla \" , year = 2010)\n",
    "\n",
    "\n",
    "Vehicle_instance.honk()\n",
    "print(Vehicle_instance)"
   ]
  },
  {
   "cell_type": "code",
   "execution_count": 12,
   "metadata": {},
   "outputs": [
    {
     "name": "stdout",
     "output_type": "stream",
     "text": [
      "Downloading Python Programmaring which is 30 MB in size.\n",
      " The book' Python Programmaring' written by 'John Doe' and published in year '2001' \n"
     ]
    }
   ],
   "source": [
    "class Book:\n",
    "    def __init__(self , title , author , year_published):\n",
    "        self.title = title\n",
    "        self.author = author\n",
    "        self.year_published = year_published\n",
    "\n",
    "\n",
    "    def __str__(self) -> str:\n",
    "        return f\" The book' {self.title}' written by '{self.author}' and published in year '{self.year_published}' \"\n",
    "    \n",
    "\n",
    "class Ebook(Book):\n",
    "    def __init__(self, title, author, year_published , file_size):\n",
    "        super().__init__(title, author, year_published )\n",
    "        self.file_size = file_size\n",
    "\n",
    "    def download(self):\n",
    "        print(f\"Downloading {self.title} which is {self.file_size} MB in size.\" )\n",
    "\n",
    "    \n",
    "\n",
    "\n",
    "ebook = Ebook(title = \"Python Programmaring\" , author= \"John Doe\" , year_published= 2001 , file_size= 30)\n",
    "\n",
    "ebook.download()\n",
    "\n",
    "print(ebook)\n",
    "\n"
   ]
  }
 ],
 "metadata": {
  "kernelspec": {
   "display_name": "venv",
   "language": "python",
   "name": "python3"
  },
  "language_info": {
   "codemirror_mode": {
    "name": "ipython",
    "version": 3
   },
   "file_extension": ".py",
   "mimetype": "text/x-python",
   "name": "python",
   "nbconvert_exporter": "python",
   "pygments_lexer": "ipython3",
   "version": "3.11.7"
  }
 },
 "nbformat": 4,
 "nbformat_minor": 2
}
