{
 "cells": [
  {
   "cell_type": "markdown",
   "metadata": {},
   "source": [
    "# 0. Supahcoolsoft employee data\n"
   ]
  },
  {
   "cell_type": "markdown",
   "metadata": {},
   "source": [
    "## a) Do some initial EDA on this dataset. For example checking null values, look at some statistical properties."
   ]
  },
  {
   "cell_type": "code",
   "execution_count": 1,
   "metadata": {},
   "outputs": [
    {
     "data": {
      "text/html": [
       "<div>\n",
       "<style scoped>\n",
       "    .dataframe tbody tr th:only-of-type {\n",
       "        vertical-align: middle;\n",
       "    }\n",
       "\n",
       "    .dataframe tbody tr th {\n",
       "        vertical-align: top;\n",
       "    }\n",
       "\n",
       "    .dataframe thead th {\n",
       "        text-align: right;\n",
       "    }\n",
       "</style>\n",
       "<table border=\"1\" class=\"dataframe\">\n",
       "  <thead>\n",
       "    <tr style=\"text-align: right;\">\n",
       "      <th></th>\n",
       "      <th>EmployeeID</th>\n",
       "      <th>FirstName</th>\n",
       "      <th>LastName</th>\n",
       "      <th>Age</th>\n",
       "      <th>Department</th>\n",
       "      <th>Position</th>\n",
       "      <th>Salary_SEK</th>\n",
       "      <th>Email</th>\n",
       "      <th>PhoneNumber</th>\n",
       "    </tr>\n",
       "  </thead>\n",
       "  <tbody>\n",
       "    <tr>\n",
       "      <th>0</th>\n",
       "      <td>E001</td>\n",
       "      <td>Ann</td>\n",
       "      <td>Larsson</td>\n",
       "      <td>41</td>\n",
       "      <td>Product Management</td>\n",
       "      <td>AI Specialist</td>\n",
       "      <td>60777.0</td>\n",
       "      <td>ann.larsson@supacoolsoft.se</td>\n",
       "      <td>+46 (0)25 37 22 30</td>\n",
       "    </tr>\n",
       "    <tr>\n",
       "      <th>1</th>\n",
       "      <td>E002</td>\n",
       "      <td>Emma</td>\n",
       "      <td>Kim</td>\n",
       "      <td>52</td>\n",
       "      <td>Engineering</td>\n",
       "      <td>Database Administrator</td>\n",
       "      <td>46020.0</td>\n",
       "      <td>emma.kim@supacoolsoft.se</td>\n",
       "      <td>+46 (0)855 449 66</td>\n",
       "    </tr>\n",
       "    <tr>\n",
       "      <th>2</th>\n",
       "      <td>E003</td>\n",
       "      <td>Barbro</td>\n",
       "      <td>Andersson</td>\n",
       "      <td>59</td>\n",
       "      <td>DevOps</td>\n",
       "      <td>Data Scientist</td>\n",
       "      <td>48503.0</td>\n",
       "      <td>barbro.andersson@supacoolsoft.se</td>\n",
       "      <td>+46 (0)47 61 73 44</td>\n",
       "    </tr>\n",
       "    <tr>\n",
       "      <th>3</th>\n",
       "      <td>E004</td>\n",
       "      <td>Magnus</td>\n",
       "      <td>Söderström</td>\n",
       "      <td>52</td>\n",
       "      <td>Product Management</td>\n",
       "      <td>Junior Data Scientist</td>\n",
       "      <td>47296.0</td>\n",
       "      <td>magnus.söderström@supacoolsoft.se</td>\n",
       "      <td>+46 (0)258 579 26</td>\n",
       "    </tr>\n",
       "    <tr>\n",
       "      <th>4</th>\n",
       "      <td>E005</td>\n",
       "      <td>Therese</td>\n",
       "      <td>Ljungberg</td>\n",
       "      <td>46</td>\n",
       "      <td>Product Management</td>\n",
       "      <td>Junior Data Scientist</td>\n",
       "      <td>42435.0</td>\n",
       "      <td>therese.ljungberg@supacoolsoft.se</td>\n",
       "      <td>+46 (0)575 495 24</td>\n",
       "    </tr>\n",
       "  </tbody>\n",
       "</table>\n",
       "</div>"
      ],
      "text/plain": [
       "  EmployeeID FirstName    LastName  Age          Department  \\\n",
       "0       E001       Ann     Larsson   41  Product Management   \n",
       "1       E002      Emma         Kim   52         Engineering   \n",
       "2       E003    Barbro   Andersson   59              DevOps   \n",
       "3       E004    Magnus  Söderström   52  Product Management   \n",
       "4       E005   Therese   Ljungberg   46  Product Management   \n",
       "\n",
       "                 Position  Salary_SEK                              Email  \\\n",
       "0           AI Specialist     60777.0        ann.larsson@supacoolsoft.se   \n",
       "1  Database Administrator     46020.0           emma.kim@supacoolsoft.se   \n",
       "2          Data Scientist     48503.0   barbro.andersson@supacoolsoft.se   \n",
       "3   Junior Data Scientist     47296.0  magnus.söderström@supacoolsoft.se   \n",
       "4   Junior Data Scientist     42435.0  therese.ljungberg@supacoolsoft.se   \n",
       "\n",
       "          PhoneNumber  \n",
       "0  +46 (0)25 37 22 30  \n",
       "1   +46 (0)855 449 66  \n",
       "2  +46 (0)47 61 73 44  \n",
       "3   +46 (0)258 579 26  \n",
       "4   +46 (0)575 495 24  "
      ]
     },
     "execution_count": 1,
     "metadata": {},
     "output_type": "execute_result"
    }
   ],
   "source": [
    "import pandas as pd\n",
    "import numpy as np\n",
    "\n",
    "df = pd.read_csv(\"../data/supahcoolsoft.csv\")\n",
    "df.head()\n"
   ]
  },
  {
   "cell_type": "code",
   "execution_count": 2,
   "metadata": {},
   "outputs": [
    {
     "name": "stdout",
     "output_type": "stream",
     "text": [
      "<class 'pandas.core.frame.DataFrame'>\n",
      "RangeIndex: 100 entries, 0 to 99\n",
      "Data columns (total 9 columns):\n",
      " #   Column       Non-Null Count  Dtype  \n",
      "---  ------       --------------  -----  \n",
      " 0   EmployeeID   100 non-null    object \n",
      " 1   FirstName    100 non-null    object \n",
      " 2   LastName     100 non-null    object \n",
      " 3   Age          100 non-null    int64  \n",
      " 4   Department   98 non-null     object \n",
      " 5   Position     99 non-null     object \n",
      " 6   Salary_SEK   99 non-null     float64\n",
      " 7   Email        100 non-null    object \n",
      " 8   PhoneNumber  100 non-null    object \n",
      "dtypes: float64(1), int64(1), object(7)\n",
      "memory usage: 7.2+ KB\n"
     ]
    }
   ],
   "source": [
    "df.info()"
   ]
  },
  {
   "cell_type": "code",
   "execution_count": 3,
   "metadata": {},
   "outputs": [
    {
     "data": {
      "text/plain": [
       "(100, 9)"
      ]
     },
     "execution_count": 3,
     "metadata": {},
     "output_type": "execute_result"
    }
   ],
   "source": [
    "df.shape"
   ]
  },
  {
   "cell_type": "code",
   "execution_count": 4,
   "metadata": {},
   "outputs": [
    {
     "data": {
      "text/html": [
       "<div>\n",
       "<style scoped>\n",
       "    .dataframe tbody tr th:only-of-type {\n",
       "        vertical-align: middle;\n",
       "    }\n",
       "\n",
       "    .dataframe tbody tr th {\n",
       "        vertical-align: top;\n",
       "    }\n",
       "\n",
       "    .dataframe thead th {\n",
       "        text-align: right;\n",
       "    }\n",
       "</style>\n",
       "<table border=\"1\" class=\"dataframe\">\n",
       "  <thead>\n",
       "    <tr style=\"text-align: right;\">\n",
       "      <th></th>\n",
       "      <th>Age</th>\n",
       "      <th>Salary_SEK</th>\n",
       "    </tr>\n",
       "  </thead>\n",
       "  <tbody>\n",
       "    <tr>\n",
       "      <th>count</th>\n",
       "      <td>100.000000</td>\n",
       "      <td>99.000000</td>\n",
       "    </tr>\n",
       "    <tr>\n",
       "      <th>mean</th>\n",
       "      <td>43.430000</td>\n",
       "      <td>52049.181818</td>\n",
       "    </tr>\n",
       "    <tr>\n",
       "      <th>std</th>\n",
       "      <td>10.032528</td>\n",
       "      <td>10993.553359</td>\n",
       "    </tr>\n",
       "    <tr>\n",
       "      <th>min</th>\n",
       "      <td>25.000000</td>\n",
       "      <td>30452.000000</td>\n",
       "    </tr>\n",
       "    <tr>\n",
       "      <th>25%</th>\n",
       "      <td>35.000000</td>\n",
       "      <td>43179.000000</td>\n",
       "    </tr>\n",
       "    <tr>\n",
       "      <th>50%</th>\n",
       "      <td>42.500000</td>\n",
       "      <td>52919.000000</td>\n",
       "    </tr>\n",
       "    <tr>\n",
       "      <th>75%</th>\n",
       "      <td>52.000000</td>\n",
       "      <td>60942.000000</td>\n",
       "    </tr>\n",
       "    <tr>\n",
       "      <th>max</th>\n",
       "      <td>60.000000</td>\n",
       "      <td>69742.000000</td>\n",
       "    </tr>\n",
       "  </tbody>\n",
       "</table>\n",
       "</div>"
      ],
      "text/plain": [
       "              Age    Salary_SEK\n",
       "count  100.000000     99.000000\n",
       "mean    43.430000  52049.181818\n",
       "std     10.032528  10993.553359\n",
       "min     25.000000  30452.000000\n",
       "25%     35.000000  43179.000000\n",
       "50%     42.500000  52919.000000\n",
       "75%     52.000000  60942.000000\n",
       "max     60.000000  69742.000000"
      ]
     },
     "execution_count": 4,
     "metadata": {},
     "output_type": "execute_result"
    }
   ],
   "source": [
    "df.describe()"
   ]
  },
  {
   "cell_type": "code",
   "execution_count": 5,
   "metadata": {},
   "outputs": [
    {
     "data": {
      "text/plain": [
       "EmployeeID     0\n",
       "FirstName      0\n",
       "LastName       0\n",
       "Age            0\n",
       "Department     2\n",
       "Position       1\n",
       "Salary_SEK     1\n",
       "Email          0\n",
       "PhoneNumber    0\n",
       "dtype: int64"
      ]
     },
     "execution_count": 5,
     "metadata": {},
     "output_type": "execute_result"
    }
   ],
   "source": [
    "df.isnull().sum()"
   ]
  },
  {
   "cell_type": "code",
   "execution_count": 6,
   "metadata": {},
   "outputs": [
    {
     "data": {
      "text/plain": [
       "<Axes: xlabel='Age', ylabel='Salary_SEK'>"
      ]
     },
     "execution_count": 6,
     "metadata": {},
     "output_type": "execute_result"
    },
    {
     "data": {
      "image/png": "[encoded data removed]",
      "text/plain": [
       "<Figure size 640x480 with 1 Axes>"
      ]
     },
     "metadata": {},
     "output_type": "display_data"
    }
   ],
   "source": [
    "df.plot(x = \"Age\" , y= \"Salary_SEK\" , kind= \"scatter\" )"
   ]
  },
  {
   "cell_type": "markdown",
   "metadata": {},
   "source": [
    "## b) See if there are some null values that you can fill in based on your domain knowledge within the data field."
   ]
  },
  {
   "cell_type": "code",
   "execution_count": 7,
   "metadata": {},
   "outputs": [
    {
     "data": {
      "text/plain": [
       "EmployeeID     0\n",
       "FirstName      0\n",
       "LastName       0\n",
       "Age            0\n",
       "Department     2\n",
       "Position       1\n",
       "Salary_SEK     1\n",
       "Email          0\n",
       "PhoneNumber    0\n",
       "dtype: int64"
      ]
     },
     "execution_count": 7,
     "metadata": {},
     "output_type": "execute_result"
    }
   ],
   "source": [
    "df.isnull().sum()"
   ]
  },
  {
   "cell_type": "code",
   "execution_count": 8,
   "metadata": {},
   "outputs": [],
   "source": [
    "# Department column is missing values in two rows and is filled with Unknown\n",
    "\n",
    "df[\"Department\"] = df[\"Department\"].fillna('Unknown')"
   ]
  },
  {
   "cell_type": "code",
   "execution_count": 9,
   "metadata": {},
   "outputs": [],
   "source": [
    "# Position column is missing values in one row and is filled with Unknown\n",
    "\n",
    "df[\"Position\"] = df[\"Position\"].fillna('Unknown')"
   ]
  },
  {
   "cell_type": "code",
   "execution_count": 10,
   "metadata": {},
   "outputs": [],
   "source": [
    "# To convert any non numeric data in column to nan \n",
    "\n",
    "df[\"Salary_SEK\"] = pd.to_numeric(df[\"Salary_SEK\"] , errors='coerce')"
   ]
  },
  {
   "cell_type": "code",
   "execution_count": 11,
   "metadata": {},
   "outputs": [],
   "source": [
    "# Salary column is missing values in one row and is filled with mean\n",
    "\n",
    "df[\"Salary_SEK\"] = df[\"Salary_SEK\"].fillna(df[\"Salary_SEK\"].mean())"
   ]
  },
  {
   "cell_type": "code",
   "execution_count": 12,
   "metadata": {},
   "outputs": [
    {
     "data": {
      "text/plain": [
       "EmployeeID     0\n",
       "FirstName      0\n",
       "LastName       0\n",
       "Age            0\n",
       "Department     0\n",
       "Position       0\n",
       "Salary_SEK     0\n",
       "Email          0\n",
       "PhoneNumber    0\n",
       "dtype: int64"
      ]
     },
     "execution_count": 12,
     "metadata": {},
     "output_type": "execute_result"
    }
   ],
   "source": [
    "df.isnull().sum()\n"
   ]
  },
  {
   "cell_type": "markdown",
   "metadata": {},
   "source": [
    "## c) Find out some statistical information about the salary, e.g. mean, median, min, max, 10 percentile and 90 percentile."
   ]
  },
  {
   "cell_type": "code",
   "execution_count": 13,
   "metadata": {},
   "outputs": [
    {
     "data": {
      "text/plain": [
       "np.float64(52049.181818181816)"
      ]
     },
     "execution_count": 13,
     "metadata": {},
     "output_type": "execute_result"
    }
   ],
   "source": [
    "# Mean of salary culoumn\n",
    "\n",
    "df_mean_salary = df[\"Salary_SEK\"].mean()\n",
    "df_mean_salary"
   ]
  },
  {
   "cell_type": "code",
   "execution_count": 14,
   "metadata": {},
   "outputs": [
    {
     "data": {
      "text/plain": [
       "np.float64(52787.0)"
      ]
     },
     "execution_count": 14,
     "metadata": {},
     "output_type": "execute_result"
    }
   ],
   "source": [
    "# Median of salary column \n",
    "\n",
    "df_median_salary = df[\"Salary_SEK\"].median()\n",
    "df_median_salary"
   ]
  },
  {
   "cell_type": "code",
   "execution_count": 15,
   "metadata": {},
   "outputs": [
    {
     "data": {
      "text/plain": [
       "np.float64(30452.0)"
      ]
     },
     "execution_count": 15,
     "metadata": {},
     "output_type": "execute_result"
    }
   ],
   "source": [
    "# Min values in salary colummn\n",
    "\n",
    "df_min_salary = df[\"Salary_SEK\"].min()\n",
    "df_min_salary"
   ]
  },
  {
   "cell_type": "code",
   "execution_count": 16,
   "metadata": {},
   "outputs": [
    {
     "data": {
      "text/plain": [
       "np.float64(69742.0)"
      ]
     },
     "execution_count": 16,
     "metadata": {},
     "output_type": "execute_result"
    }
   ],
   "source": [
    "# Max values in salary column \n",
    "\n",
    "df_max_salary = df[\"Salary_SEK\"].max()\n",
    "df_max_salary"
   ]
  },
  {
   "cell_type": "code",
   "execution_count": 17,
   "metadata": {},
   "outputs": [
    {
     "data": {
      "text/plain": [
       "np.float64(36563.8)"
      ]
     },
     "execution_count": 17,
     "metadata": {},
     "output_type": "execute_result"
    }
   ],
   "source": [
    "# 10 Percentile for the salary column \n",
    "\n",
    "percentile_10 = np.percentile(df[\"Salary_SEK\"] , 10)\n",
    "percentile_10\n"
   ]
  },
  {
   "cell_type": "code",
   "execution_count": 18,
   "metadata": {},
   "outputs": [
    {
     "data": {
      "text/plain": [
       "np.float64(67012.7)"
      ]
     },
     "execution_count": 18,
     "metadata": {},
     "output_type": "execute_result"
    }
   ],
   "source": [
    "# 90 Percentile for the salary column\n",
    "\n",
    "percentile_90 = np.percentile(df[\"Salary_SEK\"] , 90)\n",
    "percentile_90"
   ]
  },
  {
   "cell_type": "markdown",
   "metadata": {},
   "source": [
    "##  d) Group by different roles and take the median and average salaries for each group.\n",
    "\n"
   ]
  },
  {
   "cell_type": "code",
   "execution_count": 19,
   "metadata": {},
   "outputs": [
    {
     "data": {
      "text/plain": [
       "Position\n",
       "AI Specialist                60777.0\n",
       "BI Developer                 48608.5\n",
       "Big Data Engineer            57958.0\n",
       "Data Architect               60572.0\n",
       "Data Scientist               51919.0\n",
       "Database Administrator       48482.0\n",
       "ETL Developer                44192.0\n",
       "Junior Data Analyst          34877.5\n",
       "Junior Data Engineer         41905.0\n",
       "Junior Data Scientist        43595.5\n",
       "Machine Learning Engineer    51806.0\n",
       "Senior Data Analyst          57114.5\n",
       "Senior Data Engineer         65740.0\n",
       "Senior Data Scientist        65526.0\n",
       "Unknown                      52931.0\n",
       "Name: Salary_SEK, dtype: float64"
      ]
     },
     "execution_count": 19,
     "metadata": {},
     "output_type": "execute_result"
    }
   ],
   "source": [
    "# Get the median for all different postion salary in group form. \n",
    "\n",
    "df_position = df[\"Position\"].unique()\n",
    "\n",
    "median_group_salary = df.groupby(\"Position\") [\"Salary_SEK\"].median()\n",
    "\n",
    "median_group_salary"
   ]
  },
  {
   "cell_type": "code",
   "execution_count": 20,
   "metadata": {},
   "outputs": [
    {
     "data": {
      "text/plain": [
       "Position\n",
       "AI Specialist                61113.020202\n",
       "BI Developer                 48276.000000\n",
       "Big Data Engineer            57958.000000\n",
       "Data Architect               59525.600000\n",
       "Data Scientist               51722.333333\n",
       "Database Administrator       47706.800000\n",
       "ETL Developer                45239.111111\n",
       "Junior Data Analyst          35195.300000\n",
       "Junior Data Engineer         40000.200000\n",
       "Junior Data Scientist        43813.125000\n",
       "Machine Learning Engineer    53161.875000\n",
       "Senior Data Analyst          58586.800000\n",
       "Senior Data Engineer         64918.750000\n",
       "Senior Data Scientist        64451.857143\n",
       "Unknown                      52931.000000\n",
       "Name: Salary_SEK, dtype: float64"
      ]
     },
     "execution_count": 20,
     "metadata": {},
     "output_type": "execute_result"
    }
   ],
   "source": [
    "# Get the averiage / mean for all different position salary in group form.\n",
    "\n",
    "mean_avrage_groupl_salary = df.groupby(\"Position\")[\"Salary_SEK\"].mean()\n",
    "mean_avrage_groupl_salary"
   ]
  },
  {
   "cell_type": "markdown",
   "metadata": {},
   "source": [
    "##   e) Group by different departments and take the median and average salaries for each group."
   ]
  },
  {
   "cell_type": "code",
   "execution_count": 21,
   "metadata": {},
   "outputs": [
    {
     "data": {
      "text/plain": [
       "Department\n",
       "Data Science          47256.5\n",
       "DevOps                48816.0\n",
       "Engineering           48507.5\n",
       "IT                    53193.0\n",
       "Product Management    53772.0\n",
       "Unknown               57437.5\n",
       "Name: Salary_SEK, dtype: float64"
      ]
     },
     "execution_count": 21,
     "metadata": {},
     "output_type": "execute_result"
    }
   ],
   "source": [
    "# Get the median for all different Department salary in group form. \n",
    "\n",
    "df_department = df[\"Department\"].unique()\n",
    "\n",
    "median_depar_salary = df.groupby(\"Department\")[\"Salary_SEK\"].median()\n",
    "median_depar_salary"
   ]
  },
  {
   "cell_type": "code",
   "execution_count": 22,
   "metadata": {},
   "outputs": [
    {
     "data": {
      "text/plain": [
       "Department\n",
       "Data Science          50978.625000\n",
       "DevOps                51093.309091\n",
       "Engineering           48424.600000\n",
       "IT                    53585.062500\n",
       "Product Management    54871.769231\n",
       "Unknown               57437.500000\n",
       "Name: Salary_SEK, dtype: float64"
      ]
     },
     "execution_count": 22,
     "metadata": {},
     "output_type": "execute_result"
    }
   ],
   "source": [
    "# Get the averiage / mean for all different Department salary in group form.\n",
    "\n",
    "mean_avrage_depar_salary = df.groupby(\"Department\")[\"Salary_SEK\"].mean()\n",
    "mean_avrage_depar_salary"
   ]
  },
  {
   "cell_type": "markdown",
   "metadata": {},
   "source": [
    "##   f) Graph different data engineers salary. There are many approaches to graph this, try different and reason about pros and cons of each you choose."
   ]
  },
  {
   "cell_type": "code",
   "execution_count": 23,
   "metadata": {},
   "outputs": [
    {
     "data": {
      "text/plain": [
       "array(['Product Management', 'Engineering', 'DevOps', 'IT',\n",
       "       'Data Science', 'Unknown'], dtype=object)"
      ]
     },
     "execution_count": 23,
     "metadata": {},
     "output_type": "execute_result"
    }
   ],
   "source": [
    "df[\"Department\"].unique()"
   ]
  },
  {
   "cell_type": "code",
   "execution_count": 24,
   "metadata": {},
   "outputs": [
    {
     "data": {
      "text/html": [
       "<div>\n",
       "<style scoped>\n",
       "    .dataframe tbody tr th:only-of-type {\n",
       "        vertical-align: middle;\n",
       "    }\n",
       "\n",
       "    .dataframe tbody tr th {\n",
       "        vertical-align: top;\n",
       "    }\n",
       "\n",
       "    .dataframe thead th {\n",
       "        text-align: right;\n",
       "    }\n",
       "</style>\n",
       "<table border=\"1\" class=\"dataframe\">\n",
       "  <thead>\n",
       "    <tr style=\"text-align: right;\">\n",
       "      <th></th>\n",
       "      <th>EmployeeID</th>\n",
       "      <th>FirstName</th>\n",
       "      <th>LastName</th>\n",
       "      <th>Age</th>\n",
       "      <th>Department</th>\n",
       "      <th>Position</th>\n",
       "      <th>Salary_SEK</th>\n",
       "      <th>Email</th>\n",
       "      <th>PhoneNumber</th>\n",
       "    </tr>\n",
       "  </thead>\n",
       "  <tbody>\n",
       "    <tr>\n",
       "      <th>1</th>\n",
       "      <td>E002</td>\n",
       "      <td>Emma</td>\n",
       "      <td>Kim</td>\n",
       "      <td>52</td>\n",
       "      <td>Engineering</td>\n",
       "      <td>Database Administrator</td>\n",
       "      <td>46020.0</td>\n",
       "      <td>emma.kim@supacoolsoft.se</td>\n",
       "      <td>+46 (0)855 449 66</td>\n",
       "    </tr>\n",
       "    <tr>\n",
       "      <th>2</th>\n",
       "      <td>E003</td>\n",
       "      <td>Barbro</td>\n",
       "      <td>Andersson</td>\n",
       "      <td>59</td>\n",
       "      <td>DevOps</td>\n",
       "      <td>Data Scientist</td>\n",
       "      <td>48503.0</td>\n",
       "      <td>barbro.andersson@supacoolsoft.se</td>\n",
       "      <td>+46 (0)47 61 73 44</td>\n",
       "    </tr>\n",
       "    <tr>\n",
       "      <th>5</th>\n",
       "      <td>E006</td>\n",
       "      <td>Liam</td>\n",
       "      <td>Wilson</td>\n",
       "      <td>41</td>\n",
       "      <td>IT</td>\n",
       "      <td>Senior Data Analyst</td>\n",
       "      <td>65993.0</td>\n",
       "      <td>liam.wilson@supacoolsoft.se</td>\n",
       "      <td>026-27 51 40</td>\n",
       "    </tr>\n",
       "    <tr>\n",
       "      <th>6</th>\n",
       "      <td>E007</td>\n",
       "      <td>Olivia</td>\n",
       "      <td>Brown</td>\n",
       "      <td>46</td>\n",
       "      <td>DevOps</td>\n",
       "      <td>AI Specialist</td>\n",
       "      <td>66996.0</td>\n",
       "      <td>olivia.brown@supacoolsoft.se</td>\n",
       "      <td>0717-03 48 64</td>\n",
       "    </tr>\n",
       "    <tr>\n",
       "      <th>7</th>\n",
       "      <td>E008</td>\n",
       "      <td>Astrid</td>\n",
       "      <td>Persson</td>\n",
       "      <td>50</td>\n",
       "      <td>Data Science</td>\n",
       "      <td>Data Scientist</td>\n",
       "      <td>36364.0</td>\n",
       "      <td>astrid.persson@supacoolsoft.se</td>\n",
       "      <td>08-025 34 57</td>\n",
       "    </tr>\n",
       "    <tr>\n",
       "      <th>...</th>\n",
       "      <td>...</td>\n",
       "      <td>...</td>\n",
       "      <td>...</td>\n",
       "      <td>...</td>\n",
       "      <td>...</td>\n",
       "      <td>...</td>\n",
       "      <td>...</td>\n",
       "      <td>...</td>\n",
       "      <td>...</td>\n",
       "    </tr>\n",
       "    <tr>\n",
       "      <th>92</th>\n",
       "      <td>E093</td>\n",
       "      <td>Mia</td>\n",
       "      <td>Patel</td>\n",
       "      <td>42</td>\n",
       "      <td>IT</td>\n",
       "      <td>Junior Data Analyst</td>\n",
       "      <td>33401.0</td>\n",
       "      <td>mia.patel@supacoolsoft.se</td>\n",
       "      <td>083-946 68 56</td>\n",
       "    </tr>\n",
       "    <tr>\n",
       "      <th>93</th>\n",
       "      <td>E094</td>\n",
       "      <td>Fatima</td>\n",
       "      <td>Khan</td>\n",
       "      <td>35</td>\n",
       "      <td>IT</td>\n",
       "      <td>Junior Data Analyst</td>\n",
       "      <td>36776.0</td>\n",
       "      <td>fatima.khan@supacoolsoft.se</td>\n",
       "      <td>007-70 46 39</td>\n",
       "    </tr>\n",
       "    <tr>\n",
       "      <th>95</th>\n",
       "      <td>E096</td>\n",
       "      <td>Erik</td>\n",
       "      <td>Höglund</td>\n",
       "      <td>55</td>\n",
       "      <td>Data Science</td>\n",
       "      <td>Junior Data Engineer</td>\n",
       "      <td>42590.0</td>\n",
       "      <td>erik.höglund@supacoolsoft.se</td>\n",
       "      <td>+46 (0)8 454 503 87</td>\n",
       "    </tr>\n",
       "    <tr>\n",
       "      <th>96</th>\n",
       "      <td>E097</td>\n",
       "      <td>Fatima</td>\n",
       "      <td>Khan</td>\n",
       "      <td>26</td>\n",
       "      <td>Engineering</td>\n",
       "      <td>BI Developer</td>\n",
       "      <td>42809.0</td>\n",
       "      <td>fatima.khan@supacoolsoft.se</td>\n",
       "      <td>08-677 430 60</td>\n",
       "    </tr>\n",
       "    <tr>\n",
       "      <th>97</th>\n",
       "      <td>E098</td>\n",
       "      <td>Gunnel</td>\n",
       "      <td>Olofsson</td>\n",
       "      <td>27</td>\n",
       "      <td>Engineering</td>\n",
       "      <td>Senior Data Engineer</td>\n",
       "      <td>62630.0</td>\n",
       "      <td>gunnel.olofsson@supacoolsoft.se</td>\n",
       "      <td>+46 (0)35 20 46 36</td>\n",
       "    </tr>\n",
       "  </tbody>\n",
       "</table>\n",
       "<p>72 rows × 9 columns</p>\n",
       "</div>"
      ],
      "text/plain": [
       "   EmployeeID FirstName   LastName  Age    Department                Position  \\\n",
       "1        E002      Emma        Kim   52   Engineering  Database Administrator   \n",
       "2        E003    Barbro  Andersson   59        DevOps          Data Scientist   \n",
       "5        E006      Liam     Wilson   41            IT     Senior Data Analyst   \n",
       "6        E007    Olivia      Brown   46        DevOps           AI Specialist   \n",
       "7        E008    Astrid    Persson   50  Data Science          Data Scientist   \n",
       "..        ...       ...        ...  ...           ...                     ...   \n",
       "92       E093       Mia      Patel   42            IT     Junior Data Analyst   \n",
       "93       E094    Fatima       Khan   35            IT     Junior Data Analyst   \n",
       "95       E096      Erik    Höglund   55  Data Science    Junior Data Engineer   \n",
       "96       E097    Fatima       Khan   26   Engineering            BI Developer   \n",
       "97       E098    Gunnel   Olofsson   27   Engineering    Senior Data Engineer   \n",
       "\n",
       "    Salary_SEK                             Email          PhoneNumber  \n",
       "1      46020.0          emma.kim@supacoolsoft.se    +46 (0)855 449 66  \n",
       "2      48503.0  barbro.andersson@supacoolsoft.se   +46 (0)47 61 73 44  \n",
       "5      65993.0       liam.wilson@supacoolsoft.se         026-27 51 40  \n",
       "6      66996.0      olivia.brown@supacoolsoft.se        0717-03 48 64  \n",
       "7      36364.0    astrid.persson@supacoolsoft.se         08-025 34 57  \n",
       "..         ...                               ...                  ...  \n",
       "92     33401.0         mia.patel@supacoolsoft.se        083-946 68 56  \n",
       "93     36776.0       fatima.khan@supacoolsoft.se         007-70 46 39  \n",
       "95     42590.0      erik.höglund@supacoolsoft.se  +46 (0)8 454 503 87  \n",
       "96     42809.0       fatima.khan@supacoolsoft.se        08-677 430 60  \n",
       "97     62630.0   gunnel.olofsson@supacoolsoft.se   +46 (0)35 20 46 36  \n",
       "\n",
       "[72 rows x 9 columns]"
      ]
     },
     "execution_count": 24,
     "metadata": {},
     "output_type": "execute_result"
    }
   ],
   "source": [
    "df_depart = df[df[\"Department\"].isin([\"Engineering\", \"DevOps\", \"IT\", \"Data Science\"])]\n",
    "df_depart\n",
    "\n",
    "\n",
    "#df_depart.plot(x = \"Department\" , y = \"Salary_SEK\" , kind= 'bar')"
   ]
  },
  {
   "cell_type": "code",
   "execution_count": 25,
   "metadata": {},
   "outputs": [
    {
     "name": "stdout",
     "output_type": "stream",
     "text": [
      "<pandas.core.groupby.generic.SeriesGroupBy object at 0x115537ad0>\n"
     ]
    }
   ],
   "source": [
    "df__ = df_depart.groupby(\"Department\")[\"Salary_SEK\"]\n",
    "print(df__)"
   ]
  },
  {
   "cell_type": "code",
   "execution_count": 26,
   "metadata": {},
   "outputs": [
    {
     "data": {
      "text/plain": [
       "Department\n",
       "Data Science    Axes(0.125,0.11;0.775x0.77)\n",
       "DevOps          Axes(0.125,0.11;0.775x0.77)\n",
       "Engineering     Axes(0.125,0.11;0.775x0.77)\n",
       "IT              Axes(0.125,0.11;0.775x0.77)\n",
       "Name: Salary_SEK, dtype: object"
      ]
     },
     "execution_count": 26,
     "metadata": {},
     "output_type": "execute_result"
    },
    {
     "data": {
      "image/png": "[encoded data removed]",
      "text/plain": [
       "<Figure size 640x480 with 1 Axes>"
      ]
     },
     "metadata": {},
     "output_type": "display_data"
    }
   ],
   "source": [
    "df__.plot(x= \"Department\" , y= \"Salary_SEK\" , kind= 'line')"
   ]
  },
  {
   "cell_type": "markdown",
   "metadata": {},
   "source": [
    "## g) You are getting interview to this company as a junior data analyst, and you have this dataset. Find out some statistical information about that role and similar role to make a case on what salary you should have."
   ]
  },
  {
   "cell_type": "code",
   "execution_count": 27,
   "metadata": {},
   "outputs": [
    {
     "data": {
      "text/html": [
       "<div>\n",
       "<style scoped>\n",
       "    .dataframe tbody tr th:only-of-type {\n",
       "        vertical-align: middle;\n",
       "    }\n",
       "\n",
       "    .dataframe tbody tr th {\n",
       "        vertical-align: top;\n",
       "    }\n",
       "\n",
       "    .dataframe thead th {\n",
       "        text-align: right;\n",
       "    }\n",
       "</style>\n",
       "<table border=\"1\" class=\"dataframe\">\n",
       "  <thead>\n",
       "    <tr style=\"text-align: right;\">\n",
       "      <th></th>\n",
       "      <th>Position</th>\n",
       "      <th>Salary_SEK</th>\n",
       "    </tr>\n",
       "  </thead>\n",
       "  <tbody>\n",
       "    <tr>\n",
       "      <th>0</th>\n",
       "      <td>AI Specialist</td>\n",
       "      <td>60777.0</td>\n",
       "    </tr>\n",
       "    <tr>\n",
       "      <th>1</th>\n",
       "      <td>Database Administrator</td>\n",
       "      <td>46020.0</td>\n",
       "    </tr>\n",
       "    <tr>\n",
       "      <th>2</th>\n",
       "      <td>Data Scientist</td>\n",
       "      <td>48503.0</td>\n",
       "    </tr>\n",
       "    <tr>\n",
       "      <th>3</th>\n",
       "      <td>Junior Data Scientist</td>\n",
       "      <td>47296.0</td>\n",
       "    </tr>\n",
       "    <tr>\n",
       "      <th>4</th>\n",
       "      <td>Junior Data Scientist</td>\n",
       "      <td>42435.0</td>\n",
       "    </tr>\n",
       "    <tr>\n",
       "      <th>...</th>\n",
       "      <td>...</td>\n",
       "      <td>...</td>\n",
       "    </tr>\n",
       "    <tr>\n",
       "      <th>95</th>\n",
       "      <td>Junior Data Engineer</td>\n",
       "      <td>42590.0</td>\n",
       "    </tr>\n",
       "    <tr>\n",
       "      <th>96</th>\n",
       "      <td>BI Developer</td>\n",
       "      <td>42809.0</td>\n",
       "    </tr>\n",
       "    <tr>\n",
       "      <th>97</th>\n",
       "      <td>Senior Data Engineer</td>\n",
       "      <td>62630.0</td>\n",
       "    </tr>\n",
       "    <tr>\n",
       "      <th>98</th>\n",
       "      <td>Senior Data Analyst</td>\n",
       "      <td>52075.0</td>\n",
       "    </tr>\n",
       "    <tr>\n",
       "      <th>99</th>\n",
       "      <td>Database Administrator</td>\n",
       "      <td>53413.0</td>\n",
       "    </tr>\n",
       "  </tbody>\n",
       "</table>\n",
       "<p>100 rows × 2 columns</p>\n",
       "</div>"
      ],
      "text/plain": [
       "                  Position  Salary_SEK\n",
       "0            AI Specialist     60777.0\n",
       "1   Database Administrator     46020.0\n",
       "2           Data Scientist     48503.0\n",
       "3    Junior Data Scientist     47296.0\n",
       "4    Junior Data Scientist     42435.0\n",
       "..                     ...         ...\n",
       "95    Junior Data Engineer     42590.0\n",
       "96            BI Developer     42809.0\n",
       "97    Senior Data Engineer     62630.0\n",
       "98     Senior Data Analyst     52075.0\n",
       "99  Database Administrator     53413.0\n",
       "\n",
       "[100 rows x 2 columns]"
      ]
     },
     "execution_count": 27,
     "metadata": {},
     "output_type": "execute_result"
    }
   ],
   "source": [
    "selected_df = df[[\"Position\" , \"Salary_SEK\"]]\n",
    "selected_df"
   ]
  },
  {
   "cell_type": "code",
   "execution_count": 28,
   "metadata": {},
   "outputs": [
    {
     "data": {
      "text/html": [
       "<div>\n",
       "<style scoped>\n",
       "    .dataframe tbody tr th:only-of-type {\n",
       "        vertical-align: middle;\n",
       "    }\n",
       "\n",
       "    .dataframe tbody tr th {\n",
       "        vertical-align: top;\n",
       "    }\n",
       "\n",
       "    .dataframe thead th {\n",
       "        text-align: right;\n",
       "    }\n",
       "</style>\n",
       "<table border=\"1\" class=\"dataframe\">\n",
       "  <thead>\n",
       "    <tr style=\"text-align: right;\">\n",
       "      <th></th>\n",
       "      <th>EmployeeID</th>\n",
       "      <th>FirstName</th>\n",
       "      <th>LastName</th>\n",
       "      <th>Age</th>\n",
       "      <th>Department</th>\n",
       "      <th>Position</th>\n",
       "      <th>Salary_SEK</th>\n",
       "      <th>Email</th>\n",
       "      <th>PhoneNumber</th>\n",
       "    </tr>\n",
       "  </thead>\n",
       "  <tbody>\n",
       "    <tr>\n",
       "      <th>29</th>\n",
       "      <td>E030</td>\n",
       "      <td>Sophia</td>\n",
       "      <td>Martinez</td>\n",
       "      <td>31</td>\n",
       "      <td>Engineering</td>\n",
       "      <td>Junior Data Analyst</td>\n",
       "      <td>34687.0</td>\n",
       "      <td>sophia.martinez@supacoolsoft.se</td>\n",
       "      <td>+46 (0)763 808 28</td>\n",
       "    </tr>\n",
       "    <tr>\n",
       "      <th>42</th>\n",
       "      <td>E043</td>\n",
       "      <td>Maria</td>\n",
       "      <td>Larsson</td>\n",
       "      <td>36</td>\n",
       "      <td>Data Science</td>\n",
       "      <td>Junior Data Analyst</td>\n",
       "      <td>39892.0</td>\n",
       "      <td>maria.larsson@supacoolsoft.se</td>\n",
       "      <td>0074-48 00 68</td>\n",
       "    </tr>\n",
       "    <tr>\n",
       "      <th>43</th>\n",
       "      <td>E044</td>\n",
       "      <td>John</td>\n",
       "      <td>Doe</td>\n",
       "      <td>39</td>\n",
       "      <td>DevOps</td>\n",
       "      <td>Junior Data Analyst</td>\n",
       "      <td>37471.0</td>\n",
       "      <td>john.doe@supacoolsoft.se</td>\n",
       "      <td>08-333 15 33</td>\n",
       "    </tr>\n",
       "    <tr>\n",
       "      <th>48</th>\n",
       "      <td>E049</td>\n",
       "      <td>Noah</td>\n",
       "      <td>Lee</td>\n",
       "      <td>51</td>\n",
       "      <td>Engineering</td>\n",
       "      <td>Junior Data Analyst</td>\n",
       "      <td>35068.0</td>\n",
       "      <td>noah.lee@supacoolsoft.se</td>\n",
       "      <td>+46 (0)8 117 411 30</td>\n",
       "    </tr>\n",
       "    <tr>\n",
       "      <th>57</th>\n",
       "      <td>E058</td>\n",
       "      <td>Noah</td>\n",
       "      <td>Lee</td>\n",
       "      <td>51</td>\n",
       "      <td>Engineering</td>\n",
       "      <td>Junior Data Analyst</td>\n",
       "      <td>30452.0</td>\n",
       "      <td>noah.lee@supacoolsoft.se</td>\n",
       "      <td>091-90 11 20</td>\n",
       "    </tr>\n",
       "    <tr>\n",
       "      <th>61</th>\n",
       "      <td>E062</td>\n",
       "      <td>Sten</td>\n",
       "      <td>Olsson</td>\n",
       "      <td>42</td>\n",
       "      <td>Data Science</td>\n",
       "      <td>Junior Data Analyst</td>\n",
       "      <td>32045.0</td>\n",
       "      <td>sten.olsson@supacoolsoft.se</td>\n",
       "      <td>0607-67 04 63</td>\n",
       "    </tr>\n",
       "    <tr>\n",
       "      <th>70</th>\n",
       "      <td>E071</td>\n",
       "      <td>Henrik</td>\n",
       "      <td>Gustafsson</td>\n",
       "      <td>28</td>\n",
       "      <td>DevOps</td>\n",
       "      <td>Junior Data Analyst</td>\n",
       "      <td>33983.0</td>\n",
       "      <td>henrik.gustafsson@supacoolsoft.se</td>\n",
       "      <td>0719-21 04 29</td>\n",
       "    </tr>\n",
       "    <tr>\n",
       "      <th>77</th>\n",
       "      <td>E078</td>\n",
       "      <td>Åke</td>\n",
       "      <td>Karlsson</td>\n",
       "      <td>52</td>\n",
       "      <td>Data Science</td>\n",
       "      <td>Junior Data Analyst</td>\n",
       "      <td>38178.0</td>\n",
       "      <td>åke.karlsson@supacoolsoft.se</td>\n",
       "      <td>+46 (0)8 668 664 03</td>\n",
       "    </tr>\n",
       "    <tr>\n",
       "      <th>92</th>\n",
       "      <td>E093</td>\n",
       "      <td>Mia</td>\n",
       "      <td>Patel</td>\n",
       "      <td>42</td>\n",
       "      <td>IT</td>\n",
       "      <td>Junior Data Analyst</td>\n",
       "      <td>33401.0</td>\n",
       "      <td>mia.patel@supacoolsoft.se</td>\n",
       "      <td>083-946 68 56</td>\n",
       "    </tr>\n",
       "    <tr>\n",
       "      <th>93</th>\n",
       "      <td>E094</td>\n",
       "      <td>Fatima</td>\n",
       "      <td>Khan</td>\n",
       "      <td>35</td>\n",
       "      <td>IT</td>\n",
       "      <td>Junior Data Analyst</td>\n",
       "      <td>36776.0</td>\n",
       "      <td>fatima.khan@supacoolsoft.se</td>\n",
       "      <td>007-70 46 39</td>\n",
       "    </tr>\n",
       "  </tbody>\n",
       "</table>\n",
       "</div>"
      ],
      "text/plain": [
       "   EmployeeID FirstName    LastName  Age    Department             Position  \\\n",
       "29       E030    Sophia    Martinez   31   Engineering  Junior Data Analyst   \n",
       "42       E043     Maria     Larsson   36  Data Science  Junior Data Analyst   \n",
       "43       E044      John         Doe   39        DevOps  Junior Data Analyst   \n",
       "48       E049      Noah         Lee   51   Engineering  Junior Data Analyst   \n",
       "57       E058      Noah         Lee   51   Engineering  Junior Data Analyst   \n",
       "61       E062      Sten      Olsson   42  Data Science  Junior Data Analyst   \n",
       "70       E071    Henrik  Gustafsson   28        DevOps  Junior Data Analyst   \n",
       "77       E078       Åke    Karlsson   52  Data Science  Junior Data Analyst   \n",
       "92       E093       Mia       Patel   42            IT  Junior Data Analyst   \n",
       "93       E094    Fatima        Khan   35            IT  Junior Data Analyst   \n",
       "\n",
       "    Salary_SEK                              Email          PhoneNumber  \n",
       "29     34687.0    sophia.martinez@supacoolsoft.se    +46 (0)763 808 28  \n",
       "42     39892.0      maria.larsson@supacoolsoft.se        0074-48 00 68  \n",
       "43     37471.0           john.doe@supacoolsoft.se         08-333 15 33  \n",
       "48     35068.0           noah.lee@supacoolsoft.se  +46 (0)8 117 411 30  \n",
       "57     30452.0           noah.lee@supacoolsoft.se         091-90 11 20  \n",
       "61     32045.0        sten.olsson@supacoolsoft.se        0607-67 04 63  \n",
       "70     33983.0  henrik.gustafsson@supacoolsoft.se        0719-21 04 29  \n",
       "77     38178.0       åke.karlsson@supacoolsoft.se  +46 (0)8 668 664 03  \n",
       "92     33401.0          mia.patel@supacoolsoft.se        083-946 68 56  \n",
       "93     36776.0        fatima.khan@supacoolsoft.se         007-70 46 39  "
      ]
     },
     "execution_count": 28,
     "metadata": {},
     "output_type": "execute_result"
    }
   ],
   "source": [
    "JDA_  = df[df[\"Position\"] == 'Junior Data Analyst']\n",
    "JDA_"
   ]
  },
  {
   "cell_type": "markdown",
   "metadata": {},
   "source": [
    "    \n",
    "        - According to my analaystion i would have salary between 32000 to 35000 SEK."
   ]
  },
  {
   "cell_type": "markdown",
   "metadata": {},
   "source": [
    "# 1. Olympic games in Paris 2024\n"
   ]
  },
  {
   "cell_type": "markdown",
   "metadata": {},
   "source": [
    "### Here is the wikipedia page for olympic games in paris 2024. We will use it for some data analysis. We'll use pandas pd.read_html() to scrape different tables in this site."
   ]
  },
  {
   "cell_type": "code",
   "execution_count": 29,
   "metadata": {},
   "outputs": [
    {
     "name": "stdout",
     "output_type": "stream",
     "text": [
      "The number of table in the dataframe 27\n",
      "\n",
      "Table 0\n",
      "                                    0  \\\n",
      "0  Emblem of the 2024 Summer Olympics   \n",
      "1                            Location   \n",
      "2                               Motto   \n",
      "3                             Nations   \n",
      "4                            Athletes   \n",
      "\n",
      "                                                   1  \n",
      "0                 Emblem of the 2024 Summer Olympics  \n",
      "1                                      Paris, France  \n",
      "2  Games Wide Open (French: Ouvrons Grand les Jeu...  \n",
      "3              204 (including the AIN and EOR teams)  \n",
      "4                                              10714  \n",
      "Index([0, 1], dtype='int64')\n",
      "\n",
      "Table 1\n",
      "                                                   0\n",
      "0                                Part of a series on\n",
      "1                               2024 Summer Olympics\n",
      "2  Bid process (bid details) Development (venues,...\n",
      "3                                                vte\n",
      "Index([0], dtype='int64')\n",
      "\n",
      "Table 2\n",
      "          City         Nation                  Votes\n",
      "0        Paris         France  Selected as 2024 host\n",
      "1  Los Angeles  United States  Selected as 2028 host\n",
      "2      Hamburg        Germany               Withdrew\n",
      "3         Rome          Italy               Withdrew\n",
      "4     Budapest        Hungary               Withdrew\n",
      "Index(['City', 'Nation', 'Votes'], dtype='object')\n",
      "\n",
      "Table 3\n",
      "                    Venue                                  Events  Capacity  \\\n",
      "0  Yves du Manoir Stadium                            Field hockey     15000   \n",
      "1         Stade de France                            Rugby sevens     77083   \n",
      "2         Stade de France             Athletics (track and field)     77083   \n",
      "3         Stade de France                        Closing ceremony     77083   \n",
      "4  Paris La Défense Arena  Aquatics (swimming, water polo finals)     15220   \n",
      "\n",
      "      Status  Ref.  \n",
      "0  Renovated  [29]  \n",
      "1   Existing  [30]  \n",
      "2   Existing  [30]  \n",
      "3   Existing  [30]  \n",
      "4   Existing  [31]  \n",
      "Index(['Venue', 'Events', 'Capacity', 'Status', 'Ref.'], dtype='object')\n",
      "\n",
      "Table 4\n",
      "                            Venue  \\\n",
      "0                Parc des Princes   \n",
      "1         Stade Roland Garros[38]   \n",
      "2         Stade Roland Garros[38]   \n",
      "3  Paris Expo Porte de Versailles   \n",
      "4  Paris Expo Porte de Versailles   \n",
      "\n",
      "                                              Events  \\\n",
      "0  Football (group stage, quarter-finals and gold...   \n",
      "1                                             Tennis   \n",
      "2                                    Boxing (finals)   \n",
      "3                                         Volleyball   \n",
      "4                                       Table tennis   \n",
      "\n",
      "                           Capacity    Status  \n",
      "0                             48583  Existing  \n",
      "1  36,000 (15,000 + 12,000 + 9,000)  Existing  \n",
      "2  36,000 (15,000 + 12,000 + 9,000)  Existing  \n",
      "3          18,000 (12,000 + 12,000)  Existing  \n",
      "4          18,000 (12,000 + 12,000)  Existing  \n",
      "Index(['Venue', 'Events', 'Capacity', 'Status'], dtype='object')\n",
      "\n",
      "Table 5\n",
      "                                    Venue  \\\n",
      "0     Gardens of the Palace of Versailles   \n",
      "1     Gardens of the Palace of Versailles   \n",
      "2                        Le Golf National   \n",
      "3                          Élancourt Hill   \n",
      "4  Vélodrome de Saint-Quentin-en-Yvelines   \n",
      "\n",
      "                                         Events                  Capacity  \\\n",
      "0                                    Equestrian  80,000 (22,000 + 58,000)   \n",
      "1  Modern pentathlon (excluding fencing rounds)  80,000 (22,000 + 58,000)   \n",
      "2                                          Golf                     35000   \n",
      "3                     Cycling (mountain biking)                     25000   \n",
      "4                               Cycling (track)                      5000   \n",
      "\n",
      "      Status  \n",
      "0  Temporary  \n",
      "1  Temporary  \n",
      "2   Existing  \n",
      "3   Existing  \n",
      "4   Existing  \n",
      "Index(['Venue', 'Events', 'Capacity', 'Status'], dtype='object')\n",
      "\n",
      "Table 6\n",
      "                                               Venue  \\\n",
      "0                       Pierre Mauroy Stadium, Lille   \n",
      "1                       Pierre Mauroy Stadium, Lille   \n",
      "2  National Olympic Nautical Stadium of Île-de-Fr...   \n",
      "3  National Olympic Nautical Stadium of Île-de-Fr...   \n",
      "4                         Stade Vélodrome, Marseille   \n",
      "\n",
      "                                              Events  Capacity    Status  \n",
      "0                           Basketball (group stage)     26000  Existing  \n",
      "1                                  Handball (finals)     26000  Existing  \n",
      "2                                             Rowing     22000  Existing  \n",
      "3                          Canoeing (slalom, sprint)     22000  Existing  \n",
      "4  Football (6 group stage matches, quarter-final...     67394  Existing  \n",
      "Index(['Venue', 'Events', 'Capacity', 'Status'], dtype='object')\n",
      "\n",
      "Table 7\n",
      "                  Venue                   Events         Capacity  \\\n",
      "0  Jardins du Trocadéro         Opening ceremony  30,000 / 13,000   \n",
      "1  Jardins du Trocadéro           Champions Park  30,000 / 13,000   \n",
      "2             The Seine         Opening ceremony           570000   \n",
      "3       Olympic Village          Olympic Village  18,000 athletes   \n",
      "4      Aranui 5, Tahiti  Surfing Olympic Village     256 athletes   \n",
      "\n",
      "                Status  \n",
      "0            Temporary  \n",
      "1            Temporary  \n",
      "2            Temporary  \n",
      "3  Built for the Games  \n",
      "4             Existing  \n",
      "Index(['Venue', 'Events', 'Capacity', 'Status'], dtype='object')\n",
      "\n",
      "Table 8\n",
      "           Participating National Olympic Committees\n",
      "0  Afghanistan (6)  Albania (8)  Algeria (45)  Am...\n",
      "Index(['Participating National Olympic Committees'], dtype='object')\n",
      "\n",
      "Table 9\n",
      "   Ranking            NOC  Athletes\n",
      "0        1  United States       592\n",
      "1        2         France       573\n",
      "2        3      Australia       460\n",
      "3        4        Germany       428\n",
      "4        5          China       405\n",
      "Index(['Ranking', 'NOC', 'Athletes'], dtype='object')\n",
      "\n",
      "Table 10\n",
      "    0                 1  2                   3  4                  5   6  \\\n",
      "0  OC  Opening ceremony  ●  Event competitions  1  Gold medal events  CC   \n",
      "\n",
      "                  7  \n",
      "0  Closing ceremony  \n",
      "Index([0, 1, 2, 3, 4, 5, 6, 7], dtype='int64')\n",
      "\n",
      "Table 11\n",
      "  July/August 2024                        July                             \\\n",
      "  July/August 2024 July/August 2024.1 24th Wed 25th Thu 26th Fri 27th Sat   \n",
      "0       Ceremonies         Ceremonies      NaN      NaN       OC      NaN   \n",
      "1         Aquatics  Artistic swimming      NaN      NaN      NaN      NaN   \n",
      "2         Aquatics             Diving      NaN      NaN      NaN        1   \n",
      "3         Aquatics  Marathon swimming      NaN      NaN      NaN      NaN   \n",
      "4         Aquatics           Swimming      NaN      NaN      NaN        4   \n",
      "\n",
      "                                       ...  August                          \\\n",
      "  28th Sun 29th Mon 30th Tue 31st Wed  ... 3rd Sat 4th Sun 5th Mon 6th Tue   \n",
      "0      NaN      NaN      NaN      NaN  ...     NaN     NaN     NaN     NaN   \n",
      "1      NaN      NaN      NaN      NaN  ...     NaN     NaN       ●       ●   \n",
      "2      NaN        1      NaN        1  ...     NaN     NaN       ●       1   \n",
      "3      NaN      NaN      NaN      NaN  ...     NaN     NaN     NaN     NaN   \n",
      "4        3        5        3        5  ...       4       4     NaN     NaN   \n",
      "\n",
      "                                            Events  \n",
      "  7th Wed 8th Thu 9th Fri 10th Sat 11th Sun Events  \n",
      "0     NaN     NaN     NaN      NaN       CC      —  \n",
      "1       1     NaN       ●        1      NaN      2  \n",
      "2       ●       1       1        1      NaN      8  \n",
      "3     NaN       1       1      NaN      NaN      2  \n",
      "4     NaN     NaN     NaN      NaN      NaN     35  \n",
      "\n",
      "[5 rows x 22 columns]\n",
      "MultiIndex([('July/August 2024',   'July/August 2024'),\n",
      "            ('July/August 2024', 'July/August 2024.1'),\n",
      "            (            'July',           '24th Wed'),\n",
      "            (            'July',           '25th Thu'),\n",
      "            (            'July',           '26th Fri'),\n",
      "            (            'July',           '27th Sat'),\n",
      "            (            'July',           '28th Sun'),\n",
      "            (            'July',           '29th Mon'),\n",
      "            (            'July',           '30th Tue'),\n",
      "            (            'July',           '31st Wed'),\n",
      "            (          'August',            '1st Thu'),\n",
      "            (          'August',            '2nd Fri'),\n",
      "            (          'August',            '3rd Sat'),\n",
      "            (          'August',            '4th Sun'),\n",
      "            (          'August',            '5th Mon'),\n",
      "            (          'August',            '6th Tue'),\n",
      "            (          'August',            '7th Wed'),\n",
      "            (          'August',            '8th Thu'),\n",
      "            (          'August',            '9th Fri'),\n",
      "            (          'August',           '10th Sat'),\n",
      "            (          'August',           '11th Sun'),\n",
      "            (          'Events',             'Events')],\n",
      "           )\n",
      "\n",
      "Table 12\n",
      "  Rank             NOC  Gold  Silver  Bronze  Total\n",
      "0    1  United States‡    40      44      42    126\n",
      "1    2           China    40      27      24     91\n",
      "2    3           Japan    20      12      13     45\n",
      "3    4       Australia    18      19      16     53\n",
      "4    5         France*    16      26      22     64\n",
      "Index(['Rank', 'NOC', 'Gold', 'Silver', 'Bronze', 'Total'], dtype='object')\n",
      "\n",
      "Table 13\n",
      "       Date    Sport           Event    Team          Gold         Silver  \\\n",
      "0  2 August  Cycling  Men's BMX race  France  Joris Daudet  Sylvain André   \n",
      "\n",
      "          Bronze    Ref  \n",
      "0  Romain Mahieu  [173]  \n",
      "Index(['Date', 'Sport', 'Event', 'Team', 'Gold', 'Silver', 'Bronze', 'Ref'], dtype='object')\n",
      "\n",
      "Table 14\n",
      "      Sponsors of the 2024 Summer Olympics[199][200]  \\\n",
      "0  Worldwide Olympic Partners AB InBev (Corona Ce...   \n",
      "1  AB InBev (Corona Cero)[201] Airbnb Alibaba Gro...   \n",
      "2  Premium Partners Accor Carrefour EDF[202] Grou...   \n",
      "3                                    Accor Carrefour   \n",
      "4  Official Partners Air France–KLM (Air France) ...   \n",
      "\n",
      "                                          Unnamed: 1  \\\n",
      "0                                                NaN   \n",
      "1  Bridgestone Coca-Cola-Mengniu Dairy Deloitte I...   \n",
      "2                                                NaN   \n",
      "3                               EDF[202] Groupe BPCE   \n",
      "4                                                NaN   \n",
      "\n",
      "                                          Unnamed: 2   Unnamed: 3  \n",
      "0                                                NaN          NaN  \n",
      "1  Panasonic Procter & Gamble Samsung Electronics...          NaN  \n",
      "2                                                NaN          NaN  \n",
      "3                              LVMH Orange S.A.[203]  Sanofi[204]  \n",
      "4                                                NaN          NaN  \n",
      "Index(['Sponsors of the 2024 Summer Olympics[199][200]', 'Unnamed: 1',\n",
      "       'Unnamed: 2', 'Unnamed: 3'],\n",
      "      dtype='object')\n",
      "\n",
      "Table 15\n",
      "                                                   0  \\\n",
      "0  AB InBev (Corona Cero)[201] Airbnb Alibaba Gro...   \n",
      "\n",
      "                                                   1  \\\n",
      "0  Bridgestone Coca-Cola-Mengniu Dairy Deloitte I...   \n",
      "\n",
      "                                                   2  \n",
      "0  Panasonic Procter & Gamble Samsung Electronics...  \n",
      "Index([0, 1, 2], dtype='int64')\n",
      "\n",
      "Table 16\n",
      "                 0                     1                      2            3\n",
      "0  Accor Carrefour  EDF[202] Groupe BPCE  LVMH Orange S.A.[203]  Sanofi[204]\n",
      "Index([0, 1, 2, 3], dtype='int64')\n",
      "\n",
      "Table 17\n",
      "                                                   0  \\\n",
      "0  Air France–KLM (Air France) ArcelorMittal CDC ...   \n",
      "\n",
      "                                                1  \\\n",
      "0  Danone Decathlon[206] FDJ GL events Groupe ADP   \n",
      "\n",
      "                                                   2  \n",
      "0  Île-de-France Mobilités Le Coq Sportif PwC Int...  \n",
      "Index([0, 1, 2], dtype='int64')\n",
      "\n",
      "Table 18\n",
      "                                                   0  \\\n",
      "0  Abatable Abéo [fr] Air Liquide Airweave Aquati...   \n",
      "\n",
      "                                                   1  \\\n",
      "0  ES Global Eviden [fr] Fitness Park [fr] Fnac D...   \n",
      "\n",
      "                                                   2  \\\n",
      "0  Myrtha Pools Nestlé (Garden Gourmet) OnePlan O...   \n",
      "\n",
      "                                                   3  \n",
      "0  Schneider Electric SEDIF [fr] SLX SNCF Sodexo ...  \n",
      "Index([0, 1, 2, 3], dtype='int64')\n",
      "\n",
      "Table 19\n",
      "                                    vteOlympic Games  \\\n",
      "0                            Olympic sports Olympism   \n",
      "1  IOC Charter Olympic Congress IOC meetings Inte...   \n",
      "2                                                IOC   \n",
      "3                                             Medals   \n",
      "4                                            Nations   \n",
      "\n",
      "                                  vteOlympic Games.1 Unnamed: 2  \n",
      "0                            Olympic sports Olympism        NaN  \n",
      "1  IOC Charter Olympic Congress IOC meetings Inte...        NaN  \n",
      "2  Charter Olympic Congress IOC meetings Internat...        NaN  \n",
      "3  Medal table All-time medal table youth Medal t...        NaN  \n",
      "4  Summer Olympics Winter Olympics tropical natio...        NaN  \n",
      "Index(['vteOlympic Games', 'vteOlympic Games.1', 'Unnamed: 2'], dtype='object')\n",
      "\n",
      "Table 20\n",
      "             0                                                  1\n",
      "0          IOC  Charter Olympic Congress IOC meetings Internat...\n",
      "1       Medals  Medal table All-time medal table youth Medal t...\n",
      "2      Nations  Summer Olympics Winter Olympics tropical natio...\n",
      "3  Host cities            Bids youth Venues youth Olympic Stadium\n",
      "4   Ceremonies  Olympic Mass People who opened the Olympics To...\n",
      "Index([0, 1], dtype='int64')\n",
      "\n",
      "Table 21\n",
      "  Olympic Games                                    Olympic Games.1  \\\n",
      "0        Summer  1896 Athens 1900 Paris 1904 St. Louis 1908 Lon...   \n",
      "1        Winter  1924 Chamonix 1928 St. Moritz 1932 Lake Placid...   \n",
      "\n",
      "   Olympic Games.2  \n",
      "0              NaN  \n",
      "1              NaN  \n",
      "Index(['Olympic Games', 'Olympic Games.1', 'Olympic Games.2'], dtype='object')\n",
      "\n",
      "Table 22\n",
      "                                 Youth Olympic Games  \\\n",
      "0                                             Summer   \n",
      "1                                             Winter   \n",
      "2  ^ Cancelled due to World War I ^ a b c d Cance...   \n",
      "\n",
      "                               Youth Olympic Games.1  \\\n",
      "0  2010 Singapore 2014 Nanjing 2018 Buenos Aires ...   \n",
      "1  2012 Innsbruck 2016 Lillehammer 2020 Lausanne ...   \n",
      "2  ^ Cancelled due to World War I ^ a b c d Cance...   \n",
      "\n",
      "                               Youth Olympic Games.2  \n",
      "0                                                NaN  \n",
      "1                                                NaN  \n",
      "2  ^ Cancelled due to World War I ^ a b c d Cance...  \n",
      "Index(['Youth Olympic Games', 'Youth Olympic Games.1',\n",
      "       'Youth Olympic Games.2'],\n",
      "      dtype='object')\n",
      "\n",
      "Table 23\n",
      "       vteQualification for the 2024 Summer Olympics  \\\n",
      "0  Archery Artistic swimming Athletics Badminton ...   \n",
      "1  2024 Olympic Qualifier Series (breaking, BMX f...   \n",
      "\n",
      "     vteQualification for the 2024 Summer Olympics.1  \n",
      "0  Archery Artistic swimming Athletics Badminton ...  \n",
      "1  2024 Olympic Qualifier Series (breaking, BMX f...  \n",
      "Index(['vteQualification for the 2024 Summer Olympics', 'vteQualification for the 2024 Summer Olympics.1'], dtype='object')\n",
      "\n",
      "Table 24\n",
      "  vteNational Olympic Committees at the 2024 Summer Olympics in Paris, France  \\\n",
      "0                                             Africa                            \n",
      "1                                           Americas                            \n",
      "2                                               Asia                            \n",
      "3                                             Europe                            \n",
      "4                                            Oceania                            \n",
      "\n",
      "  vteNational Olympic Committees at the 2024 Summer Olympics in Paris, France.1  \n",
      "0  Algeria Angola Benin Botswana Burkina Faso Bur...                             \n",
      "1  Antigua and Barbuda Argentina Aruba Bahamas Ba...                             \n",
      "2  Afghanistan Bahrain Bangladesh Bhutan Brunei C...                             \n",
      "3  Albania Andorra Armenia Austria Azerbaijan Bel...                             \n",
      "4  American Samoa Australia Cook Islands Fiji Gua...                             \n",
      "Index(['vteNational Olympic Committees at the 2024 Summer Olympics in Paris, France', 'vteNational Olympic Committees at the 2024 Summer Olympics in Paris, France.1'], dtype='object')\n",
      "\n",
      "Table 25\n",
      "  vteEvents at the 2024 Summer Olympics (Paris, France)  \\\n",
      "0  Archery Artistic swimming Athletics Badminton ...      \n",
      "1  Chronological summary Medal table List of meda...      \n",
      "\n",
      "  vteEvents at the 2024 Summer Olympics (Paris, France).1  \n",
      "0  Archery Artistic swimming Athletics Badminton ...       \n",
      "1  Chronological summary Medal table List of meda...       \n",
      "Index(['vteEvents at the 2024 Summer Olympics (Paris, France)', 'vteEvents at the 2024 Summer Olympics (Paris, France).1'], dtype='object')\n",
      "\n",
      "Table 26\n",
      "  vte Venues of the 2024 Summer Olympics (Paris)  \\\n",
      "0                               Grand Paris Zone   \n",
      "1                              Paris Centre Zone   \n",
      "2                                Versailles Zone   \n",
      "3                             Stand-alone venues   \n",
      "4                                Football stadia   \n",
      "\n",
      "    vte Venues of the 2024 Summer Olympics (Paris).1  \\\n",
      "0  Arena Paris Nord and Villepinte PMC Range Le B...   \n",
      "1  Bercy Arena Eiffel Tower Stadium Champ de Mars...   \n",
      "2  Élancourt Hill Le Golf National Palace of Vers...   \n",
      "3  National Shooting Centre, Châteauroux National...   \n",
      "4  Allianz Riviera, Nice Nouveau Stade de Bordeau...   \n",
      "\n",
      "   vte Venues of the 2024 Summer Olympics (Paris).2  \n",
      "0                                               NaN  \n",
      "1                                               NaN  \n",
      "2                                               NaN  \n",
      "3                                               NaN  \n",
      "4                                               NaN  \n",
      "Index(['vte Venues of the 2024 Summer Olympics (Paris)',\n",
      "       'vte Venues of the 2024 Summer Olympics (Paris).1',\n",
      "       'vte Venues of the 2024 Summer Olympics (Paris).2'],\n",
      "      dtype='object')\n"
     ]
    }
   ],
   "source": [
    "import pandas as pd\n",
    "\n",
    "\n",
    "url = \"https://en.wikipedia.org/wiki/2024_Summer_Olympics\"\n",
    "\n",
    "\n",
    "df_list = pd.read_html(url)\n",
    "\n",
    "print(f\"The number of table in the dataframe {len(df_list)}\")\n",
    "\n",
    "for i, table in enumerate(df_list):\n",
    "    print(f\"\\nTable {i}\")\n",
    "    print(table.head())  # Shows the first 5 rows\n",
    "    print(table.columns)  \n",
    "\n",
    "\n"
   ]
  },
  {
   "cell_type": "code",
   "execution_count": 30,
   "metadata": {},
   "outputs": [],
   "source": [
    "df_olympics_combined = pd.concat(df_list, ignore_index=True)"
   ]
  },
  {
   "cell_type": "code",
   "execution_count": 31,
   "metadata": {},
   "outputs": [
    {
     "data": {
      "text/html": [
       "<div>\n",
       "<style scoped>\n",
       "    .dataframe tbody tr th:only-of-type {\n",
       "        vertical-align: middle;\n",
       "    }\n",
       "\n",
       "    .dataframe tbody tr th {\n",
       "        vertical-align: top;\n",
       "    }\n",
       "\n",
       "    .dataframe thead th {\n",
       "        text-align: right;\n",
       "    }\n",
       "</style>\n",
       "<table border=\"1\" class=\"dataframe\">\n",
       "  <thead>\n",
       "    <tr style=\"text-align: right;\">\n",
       "      <th></th>\n",
       "      <th>0</th>\n",
       "      <th>1</th>\n",
       "      <th>City</th>\n",
       "      <th>Nation</th>\n",
       "      <th>Votes</th>\n",
       "      <th>Venue</th>\n",
       "      <th>Events</th>\n",
       "      <th>Capacity</th>\n",
       "      <th>Status</th>\n",
       "      <th>Ref.</th>\n",
       "      <th>...</th>\n",
       "      <th>Youth Olympic Games.2</th>\n",
       "      <th>vteQualification for the 2024 Summer Olympics</th>\n",
       "      <th>vteQualification for the 2024 Summer Olympics.1</th>\n",
       "      <th>vteNational Olympic Committees at the 2024 Summer Olympics in Paris, France</th>\n",
       "      <th>vteNational Olympic Committees at the 2024 Summer Olympics in Paris, France.1</th>\n",
       "      <th>vteEvents at the 2024 Summer Olympics (Paris, France)</th>\n",
       "      <th>vteEvents at the 2024 Summer Olympics (Paris, France).1</th>\n",
       "      <th>vte Venues of the 2024 Summer Olympics (Paris)</th>\n",
       "      <th>vte Venues of the 2024 Summer Olympics (Paris).1</th>\n",
       "      <th>vte Venues of the 2024 Summer Olympics (Paris).2</th>\n",
       "    </tr>\n",
       "  </thead>\n",
       "  <tbody>\n",
       "    <tr>\n",
       "      <th>0</th>\n",
       "      <td>Emblem of the 2024 Summer Olympics</td>\n",
       "      <td>Emblem of the 2024 Summer Olympics</td>\n",
       "      <td>NaN</td>\n",
       "      <td>NaN</td>\n",
       "      <td>NaN</td>\n",
       "      <td>NaN</td>\n",
       "      <td>NaN</td>\n",
       "      <td>NaN</td>\n",
       "      <td>NaN</td>\n",
       "      <td>NaN</td>\n",
       "      <td>...</td>\n",
       "      <td>NaN</td>\n",
       "      <td>NaN</td>\n",
       "      <td>NaN</td>\n",
       "      <td>NaN</td>\n",
       "      <td>NaN</td>\n",
       "      <td>NaN</td>\n",
       "      <td>NaN</td>\n",
       "      <td>NaN</td>\n",
       "      <td>NaN</td>\n",
       "      <td>NaN</td>\n",
       "    </tr>\n",
       "    <tr>\n",
       "      <th>1</th>\n",
       "      <td>Location</td>\n",
       "      <td>Paris, France</td>\n",
       "      <td>NaN</td>\n",
       "      <td>NaN</td>\n",
       "      <td>NaN</td>\n",
       "      <td>NaN</td>\n",
       "      <td>NaN</td>\n",
       "      <td>NaN</td>\n",
       "      <td>NaN</td>\n",
       "      <td>NaN</td>\n",
       "      <td>...</td>\n",
       "      <td>NaN</td>\n",
       "      <td>NaN</td>\n",
       "      <td>NaN</td>\n",
       "      <td>NaN</td>\n",
       "      <td>NaN</td>\n",
       "      <td>NaN</td>\n",
       "      <td>NaN</td>\n",
       "      <td>NaN</td>\n",
       "      <td>NaN</td>\n",
       "      <td>NaN</td>\n",
       "    </tr>\n",
       "    <tr>\n",
       "      <th>2</th>\n",
       "      <td>Motto</td>\n",
       "      <td>Games Wide Open (French: Ouvrons Grand les Jeu...</td>\n",
       "      <td>NaN</td>\n",
       "      <td>NaN</td>\n",
       "      <td>NaN</td>\n",
       "      <td>NaN</td>\n",
       "      <td>NaN</td>\n",
       "      <td>NaN</td>\n",
       "      <td>NaN</td>\n",
       "      <td>NaN</td>\n",
       "      <td>...</td>\n",
       "      <td>NaN</td>\n",
       "      <td>NaN</td>\n",
       "      <td>NaN</td>\n",
       "      <td>NaN</td>\n",
       "      <td>NaN</td>\n",
       "      <td>NaN</td>\n",
       "      <td>NaN</td>\n",
       "      <td>NaN</td>\n",
       "      <td>NaN</td>\n",
       "      <td>NaN</td>\n",
       "    </tr>\n",
       "    <tr>\n",
       "      <th>3</th>\n",
       "      <td>Nations</td>\n",
       "      <td>204 (including the AIN and EOR teams)</td>\n",
       "      <td>NaN</td>\n",
       "      <td>NaN</td>\n",
       "      <td>NaN</td>\n",
       "      <td>NaN</td>\n",
       "      <td>NaN</td>\n",
       "      <td>NaN</td>\n",
       "      <td>NaN</td>\n",
       "      <td>NaN</td>\n",
       "      <td>...</td>\n",
       "      <td>NaN</td>\n",
       "      <td>NaN</td>\n",
       "      <td>NaN</td>\n",
       "      <td>NaN</td>\n",
       "      <td>NaN</td>\n",
       "      <td>NaN</td>\n",
       "      <td>NaN</td>\n",
       "      <td>NaN</td>\n",
       "      <td>NaN</td>\n",
       "      <td>NaN</td>\n",
       "    </tr>\n",
       "    <tr>\n",
       "      <th>4</th>\n",
       "      <td>Athletes</td>\n",
       "      <td>10714</td>\n",
       "      <td>NaN</td>\n",
       "      <td>NaN</td>\n",
       "      <td>NaN</td>\n",
       "      <td>NaN</td>\n",
       "      <td>NaN</td>\n",
       "      <td>NaN</td>\n",
       "      <td>NaN</td>\n",
       "      <td>NaN</td>\n",
       "      <td>...</td>\n",
       "      <td>NaN</td>\n",
       "      <td>NaN</td>\n",
       "      <td>NaN</td>\n",
       "      <td>NaN</td>\n",
       "      <td>NaN</td>\n",
       "      <td>NaN</td>\n",
       "      <td>NaN</td>\n",
       "      <td>NaN</td>\n",
       "      <td>NaN</td>\n",
       "      <td>NaN</td>\n",
       "    </tr>\n",
       "  </tbody>\n",
       "</table>\n",
       "<p>5 rows × 73 columns</p>\n",
       "</div>"
      ],
      "text/plain": [
       "                                    0  \\\n",
       "0  Emblem of the 2024 Summer Olympics   \n",
       "1                            Location   \n",
       "2                               Motto   \n",
       "3                             Nations   \n",
       "4                            Athletes   \n",
       "\n",
       "                                                   1 City Nation Votes Venue  \\\n",
       "0                 Emblem of the 2024 Summer Olympics  NaN    NaN   NaN   NaN   \n",
       "1                                      Paris, France  NaN    NaN   NaN   NaN   \n",
       "2  Games Wide Open (French: Ouvrons Grand les Jeu...  NaN    NaN   NaN   NaN   \n",
       "3              204 (including the AIN and EOR teams)  NaN    NaN   NaN   NaN   \n",
       "4                                              10714  NaN    NaN   NaN   NaN   \n",
       "\n",
       "  Events Capacity Status Ref.  ... Youth Olympic Games.2  \\\n",
       "0    NaN      NaN    NaN  NaN  ...                   NaN   \n",
       "1    NaN      NaN    NaN  NaN  ...                   NaN   \n",
       "2    NaN      NaN    NaN  NaN  ...                   NaN   \n",
       "3    NaN      NaN    NaN  NaN  ...                   NaN   \n",
       "4    NaN      NaN    NaN  NaN  ...                   NaN   \n",
       "\n",
       "   vteQualification for the 2024 Summer Olympics  \\\n",
       "0                                            NaN   \n",
       "1                                            NaN   \n",
       "2                                            NaN   \n",
       "3                                            NaN   \n",
       "4                                            NaN   \n",
       "\n",
       "  vteQualification for the 2024 Summer Olympics.1  \\\n",
       "0                                             NaN   \n",
       "1                                             NaN   \n",
       "2                                             NaN   \n",
       "3                                             NaN   \n",
       "4                                             NaN   \n",
       "\n",
       "   vteNational Olympic Committees at the 2024 Summer Olympics in Paris, France  \\\n",
       "0                                                NaN                             \n",
       "1                                                NaN                             \n",
       "2                                                NaN                             \n",
       "3                                                NaN                             \n",
       "4                                                NaN                             \n",
       "\n",
       "  vteNational Olympic Committees at the 2024 Summer Olympics in Paris, France.1  \\\n",
       "0                                                NaN                              \n",
       "1                                                NaN                              \n",
       "2                                                NaN                              \n",
       "3                                                NaN                              \n",
       "4                                                NaN                              \n",
       "\n",
       "  vteEvents at the 2024 Summer Olympics (Paris, France)  \\\n",
       "0                                                NaN      \n",
       "1                                                NaN      \n",
       "2                                                NaN      \n",
       "3                                                NaN      \n",
       "4                                                NaN      \n",
       "\n",
       "   vteEvents at the 2024 Summer Olympics (Paris, France).1  \\\n",
       "0                                                NaN         \n",
       "1                                                NaN         \n",
       "2                                                NaN         \n",
       "3                                                NaN         \n",
       "4                                                NaN         \n",
       "\n",
       "  vte Venues of the 2024 Summer Olympics (Paris)  \\\n",
       "0                                            NaN   \n",
       "1                                            NaN   \n",
       "2                                            NaN   \n",
       "3                                            NaN   \n",
       "4                                            NaN   \n",
       "\n",
       "  vte Venues of the 2024 Summer Olympics (Paris).1  \\\n",
       "0                                              NaN   \n",
       "1                                              NaN   \n",
       "2                                              NaN   \n",
       "3                                              NaN   \n",
       "4                                              NaN   \n",
       "\n",
       "  vte Venues of the 2024 Summer Olympics (Paris).2  \n",
       "0                                              NaN  \n",
       "1                                              NaN  \n",
       "2                                              NaN  \n",
       "3                                              NaN  \n",
       "4                                              NaN  \n",
       "\n",
       "[5 rows x 73 columns]"
      ]
     },
     "execution_count": 31,
     "metadata": {},
     "output_type": "execute_result"
    }
   ],
   "source": [
    "df_olympics_combined.head()"
   ]
  },
  {
   "cell_type": "markdown",
   "metadata": {},
   "source": [
    "##   a) How many sports are represented in total?\n"
   ]
  },
  {
   "cell_type": "code",
   "execution_count": 32,
   "metadata": {},
   "outputs": [
    {
     "data": {
      "text/html": [
       "<div>\n",
       "<style scoped>\n",
       "    .dataframe tbody tr th:only-of-type {\n",
       "        vertical-align: middle;\n",
       "    }\n",
       "\n",
       "    .dataframe tbody tr th {\n",
       "        vertical-align: top;\n",
       "    }\n",
       "\n",
       "    .dataframe thead th {\n",
       "        text-align: right;\n",
       "    }\n",
       "</style>\n",
       "<table border=\"1\" class=\"dataframe\">\n",
       "  <thead>\n",
       "    <tr style=\"text-align: right;\">\n",
       "      <th></th>\n",
       "      <th>vteEvents at the 2024 Summer Olympics (Paris, France)</th>\n",
       "      <th>vteEvents at the 2024 Summer Olympics (Paris, France).1</th>\n",
       "    </tr>\n",
       "  </thead>\n",
       "  <tbody>\n",
       "    <tr>\n",
       "      <th>0</th>\n",
       "      <td>Archery Artistic swimming Athletics Badminton ...</td>\n",
       "      <td>Archery Artistic swimming Athletics Badminton ...</td>\n",
       "    </tr>\n",
       "    <tr>\n",
       "      <th>1</th>\n",
       "      <td>Chronological summary Medal table List of meda...</td>\n",
       "      <td>Chronological summary Medal table List of meda...</td>\n",
       "    </tr>\n",
       "  </tbody>\n",
       "</table>\n",
       "</div>"
      ],
      "text/plain": [
       "  vteEvents at the 2024 Summer Olympics (Paris, France)  \\\n",
       "0  Archery Artistic swimming Athletics Badminton ...      \n",
       "1  Chronological summary Medal table List of meda...      \n",
       "\n",
       "  vteEvents at the 2024 Summer Olympics (Paris, France).1  \n",
       "0  Archery Artistic swimming Athletics Badminton ...       \n",
       "1  Chronological summary Medal table List of meda...       "
      ]
     },
     "execution_count": 32,
     "metadata": {},
     "output_type": "execute_result"
    }
   ],
   "source": [
    "df_list[25]"
   ]
  },
  {
   "cell_type": "markdown",
   "metadata": {},
   "source": [
    "##   b) Make a bar chart over the top five countries in medal count.\n"
   ]
  },
  {
   "cell_type": "code",
   "execution_count": 33,
   "metadata": {},
   "outputs": [],
   "source": [
    "medal_list = df_list[12]"
   ]
  },
  {
   "cell_type": "code",
   "execution_count": 34,
   "metadata": {},
   "outputs": [
    {
     "data": {
      "text/html": [
       "<div>\n",
       "<style scoped>\n",
       "    .dataframe tbody tr th:only-of-type {\n",
       "        vertical-align: middle;\n",
       "    }\n",
       "\n",
       "    .dataframe tbody tr th {\n",
       "        vertical-align: top;\n",
       "    }\n",
       "\n",
       "    .dataframe thead th {\n",
       "        text-align: right;\n",
       "    }\n",
       "</style>\n",
       "<table border=\"1\" class=\"dataframe\">\n",
       "  <thead>\n",
       "    <tr style=\"text-align: right;\">\n",
       "      <th></th>\n",
       "      <th>Rank</th>\n",
       "      <th>NOC</th>\n",
       "      <th>Gold</th>\n",
       "      <th>Silver</th>\n",
       "      <th>Bronze</th>\n",
       "      <th>Total</th>\n",
       "    </tr>\n",
       "  </thead>\n",
       "  <tbody>\n",
       "    <tr>\n",
       "      <th>0</th>\n",
       "      <td>1</td>\n",
       "      <td>United States‡</td>\n",
       "      <td>40</td>\n",
       "      <td>44</td>\n",
       "      <td>42</td>\n",
       "      <td>126</td>\n",
       "    </tr>\n",
       "    <tr>\n",
       "      <th>1</th>\n",
       "      <td>2</td>\n",
       "      <td>China</td>\n",
       "      <td>40</td>\n",
       "      <td>27</td>\n",
       "      <td>24</td>\n",
       "      <td>91</td>\n",
       "    </tr>\n",
       "    <tr>\n",
       "      <th>2</th>\n",
       "      <td>3</td>\n",
       "      <td>Japan</td>\n",
       "      <td>20</td>\n",
       "      <td>12</td>\n",
       "      <td>13</td>\n",
       "      <td>45</td>\n",
       "    </tr>\n",
       "    <tr>\n",
       "      <th>3</th>\n",
       "      <td>4</td>\n",
       "      <td>Australia</td>\n",
       "      <td>18</td>\n",
       "      <td>19</td>\n",
       "      <td>16</td>\n",
       "      <td>53</td>\n",
       "    </tr>\n",
       "    <tr>\n",
       "      <th>4</th>\n",
       "      <td>5</td>\n",
       "      <td>France*</td>\n",
       "      <td>16</td>\n",
       "      <td>26</td>\n",
       "      <td>22</td>\n",
       "      <td>64</td>\n",
       "    </tr>\n",
       "  </tbody>\n",
       "</table>\n",
       "</div>"
      ],
      "text/plain": [
       "  Rank             NOC  Gold  Silver  Bronze  Total\n",
       "0    1  United States‡    40      44      42    126\n",
       "1    2           China    40      27      24     91\n",
       "2    3           Japan    20      12      13     45\n",
       "3    4       Australia    18      19      16     53\n",
       "4    5         France*    16      26      22     64"
      ]
     },
     "execution_count": 34,
     "metadata": {},
     "output_type": "execute_result"
    }
   ],
   "source": [
    "top_5_total_medals = medal_list.head(5)\n",
    "top_5_total_medals"
   ]
  },
  {
   "cell_type": "code",
   "execution_count": 35,
   "metadata": {},
   "outputs": [
    {
     "data": {
      "text/plain": [
       "<Axes: xlabel='NOC'>"
      ]
     },
     "execution_count": 35,
     "metadata": {},
     "output_type": "execute_result"
    },
    {
     "data": {
      "image/png": "[encoded data removed]",
      "text/plain": [
       "<Figure size 640x480 with 1 Axes>"
      ]
     },
     "metadata": {},
     "output_type": "display_data"
    }
   ],
   "source": [
    "top_5_total_medals.plot(x= \"NOC\" , y= \"Total\" , kind=\"bar\" )"
   ]
  },
  {
   "cell_type": "markdown",
   "metadata": {},
   "source": [
    "##   c) Make a bar chart over the top five countries in gold medal count.\n",
    "\n"
   ]
  },
  {
   "cell_type": "code",
   "execution_count": 36,
   "metadata": {},
   "outputs": [
    {
     "data": {
      "text/html": [
       "<div>\n",
       "<style scoped>\n",
       "    .dataframe tbody tr th:only-of-type {\n",
       "        vertical-align: middle;\n",
       "    }\n",
       "\n",
       "    .dataframe tbody tr th {\n",
       "        vertical-align: top;\n",
       "    }\n",
       "\n",
       "    .dataframe thead th {\n",
       "        text-align: right;\n",
       "    }\n",
       "</style>\n",
       "<table border=\"1\" class=\"dataframe\">\n",
       "  <thead>\n",
       "    <tr style=\"text-align: right;\">\n",
       "      <th></th>\n",
       "      <th>Rank</th>\n",
       "      <th>NOC</th>\n",
       "      <th>Gold</th>\n",
       "      <th>Silver</th>\n",
       "      <th>Bronze</th>\n",
       "      <th>Total</th>\n",
       "    </tr>\n",
       "  </thead>\n",
       "  <tbody>\n",
       "    <tr>\n",
       "      <th>0</th>\n",
       "      <td>1</td>\n",
       "      <td>United States‡</td>\n",
       "      <td>40</td>\n",
       "      <td>44</td>\n",
       "      <td>42</td>\n",
       "      <td>126</td>\n",
       "    </tr>\n",
       "    <tr>\n",
       "      <th>1</th>\n",
       "      <td>2</td>\n",
       "      <td>China</td>\n",
       "      <td>40</td>\n",
       "      <td>27</td>\n",
       "      <td>24</td>\n",
       "      <td>91</td>\n",
       "    </tr>\n",
       "    <tr>\n",
       "      <th>2</th>\n",
       "      <td>3</td>\n",
       "      <td>Japan</td>\n",
       "      <td>20</td>\n",
       "      <td>12</td>\n",
       "      <td>13</td>\n",
       "      <td>45</td>\n",
       "    </tr>\n",
       "    <tr>\n",
       "      <th>3</th>\n",
       "      <td>4</td>\n",
       "      <td>Australia</td>\n",
       "      <td>18</td>\n",
       "      <td>19</td>\n",
       "      <td>16</td>\n",
       "      <td>53</td>\n",
       "    </tr>\n",
       "    <tr>\n",
       "      <th>4</th>\n",
       "      <td>5</td>\n",
       "      <td>France*</td>\n",
       "      <td>16</td>\n",
       "      <td>26</td>\n",
       "      <td>22</td>\n",
       "      <td>64</td>\n",
       "    </tr>\n",
       "  </tbody>\n",
       "</table>\n",
       "</div>"
      ],
      "text/plain": [
       "  Rank             NOC  Gold  Silver  Bronze  Total\n",
       "0    1  United States‡    40      44      42    126\n",
       "1    2           China    40      27      24     91\n",
       "2    3           Japan    20      12      13     45\n",
       "3    4       Australia    18      19      16     53\n",
       "4    5         France*    16      26      22     64"
      ]
     },
     "execution_count": 36,
     "metadata": {},
     "output_type": "execute_result"
    }
   ],
   "source": [
    "medal_list = df_list[12]\n",
    "\n",
    "top_5_Gold_medal = medal_list.head(5)\n",
    "top_5_Gold_medal"
   ]
  },
  {
   "cell_type": "code",
   "execution_count": 37,
   "metadata": {},
   "outputs": [
    {
     "data": {
      "text/plain": [
       "<Axes: xlabel='NOC'>"
      ]
     },
     "execution_count": 37,
     "metadata": {},
     "output_type": "execute_result"
    },
    {
     "data": {
      "image/png": "[encoded data removed]",
      "text/plain": [
       "<Figure size 640x480 with 1 Axes>"
      ]
     },
     "metadata": {},
     "output_type": "display_data"
    }
   ],
   "source": [
    "top_5_Gold_medal.plot(x=\"NOC\" , y= \"Gold\" , kind=\"bar\")"
   ]
  },
  {
   "cell_type": "markdown",
   "metadata": {},
   "source": [
    "##  d) Choose a sport from and and make a bar chart over top five countries."
   ]
  },
  {
   "cell_type": "code",
   "execution_count": 39,
   "metadata": {},
   "outputs": [],
   "source": [
    "table_25  =df_list[25]"
   ]
  },
  {
   "cell_type": "code",
   "execution_count": 41,
   "metadata": {},
   "outputs": [
    {
     "data": {
      "text/plain": [
       "Index(['vteEvents at the 2024 Summer Olympics (Paris, France)', 'vteEvents at the 2024 Summer Olympics (Paris, France).1'], dtype='object')"
      ]
     },
     "execution_count": 41,
     "metadata": {},
     "output_type": "execute_result"
    }
   ],
   "source": [
    "table_25.columns"
   ]
  },
  {
   "cell_type": "code",
   "execution_count": 45,
   "metadata": {},
   "outputs": [
    {
     "name": "stdout",
     "output_type": "stream",
     "text": [
      "0    Archery Artistic swimming Athletics Badminton ...\n",
      "1    Chronological summary Medal table List of meda...\n",
      "Name: vteEvents at the 2024 Summer Olympics (Paris, France), dtype: object\n"
     ]
    }
   ],
   "source": [
    "selected_colummn = table_25[\"vteEvents at the 2024 Summer Olympics (Paris, France)\"]\n",
    "print(selected_colummn)"
   ]
  },
  {
   "cell_type": "code",
   "execution_count": 46,
   "metadata": {},
   "outputs": [
    {
     "name": "stdout",
     "output_type": "stream",
     "text": [
      "0    Archery Artistic swimming Athletics Badminton ...\n",
      "1    Chronological summary Medal table List of meda...\n",
      "Name: vteEvents at the 2024 Summer Olympics (Paris, France), dtype: object\n",
      "0    Archery Artistic swimming Athletics Badminton ...\n",
      "1    Chronological summary Medal table List of meda...\n",
      "Name: vteEvents at the 2024 Summer Olympics (Paris, France).1, dtype: object\n"
     ]
    }
   ],
   "source": [
    "column1 = table_25['vteEvents at the 2024 Summer Olympics (Paris, France)']\n",
    "\n",
    "colummn2 = table_25['vteEvents at the 2024 Summer Olympics (Paris, France).1']\n",
    "\n",
    "\n",
    "print(column1)\n",
    "print(colummn2)"
   ]
  },
  {
   "cell_type": "code",
   "execution_count": 47,
   "metadata": {},
   "outputs": [
    {
     "name": "stdout",
     "output_type": "stream",
     "text": [
      "['Archery', 'Artistic', 'swimming', 'Athletics', 'Badminton', 'Basketball', 'Boxing', 'Breaking', 'Canoeing', 'Cycling', 'Diving', 'Equestrian', 'Fencing', 'Field', 'hockey', 'Football', 'Golf', 'Gymnastics', 'Handball', 'Judo', 'Modern', 'pentathlon', 'Rowing', 'Rugby', 'sevens', 'Sailing', 'Shooting', 'Skateboarding', 'Sport', 'climbing', 'Surfing', 'Swimming', 'Table', 'tennis', 'Taekwondo', 'Tennis', 'Triathlon', 'Volleyball', 'Water', 'polo', 'Weightlifting', 'Wrestling']\n",
      "['Archery', 'Artistic', 'swimming', 'Athletics', 'Badminton', 'Basketball', 'Boxing', 'Breaking', 'Canoeing', 'Cycling', 'Diving', 'Equestrian', 'Fencing', 'Field', 'hockey', 'Football', 'Golf', 'Gymnastics', 'Handball', 'Judo', 'Modern', 'pentathlon', 'Rowing', 'Rugby', 'sevens', 'Sailing', 'Shooting', 'Skateboarding', 'Sport', 'climbing', 'Surfing', 'Swimming', 'Table', 'tennis', 'Taekwondo', 'Tennis', 'Triathlon', 'Volleyball', 'Water', 'polo', 'Weightlifting', 'Wrestling']\n"
     ]
    }
   ],
   "source": [
    "# Split the strings in the first column by space or any other delimiter\n",
    "sports_list_1 = table_25['vteEvents at the 2024 Summer Olympics (Paris, France)'][0].split()\n",
    "sports_list_2 = table_25['vteEvents at the 2024 Summer Olympics (Paris, France).1'][0].split()\n",
    "\n",
    "# Display the split lists\n",
    "print(sports_list_1)\n",
    "print(sports_list_2)\n"
   ]
  },
  {
   "cell_type": "markdown",
   "metadata": {},
   "source": [
    "##   e) How many venues are there in total?"
   ]
  },
  {
   "cell_type": "code",
   "execution_count": 95,
   "metadata": {},
   "outputs": [
    {
     "data": {
      "text/plain": [
       "23"
      ]
     },
     "execution_count": 95,
     "metadata": {},
     "output_type": "execute_result"
    }
   ],
   "source": [
    "concate_tbale = pd.concat([df_list[3]['Venue'], df_list[4]['Venue'], df_list[5]['Venue'], df_list[5]['Venue'], df_list[5]['Venue']])\n",
    "\n",
    "total_venue = concate_tbale.unique()\n",
    "\n",
    "len(total_venue)\n",
    "\n"
   ]
  },
  {
   "cell_type": "markdown",
   "metadata": {},
   "source": [
    "##   f) How many venues were built for the games?\n",
    "\n"
   ]
  },
  {
   "cell_type": "code",
   "execution_count": 127,
   "metadata": {},
   "outputs": [
    {
     "data": {
      "text/plain": [
       "16"
      ]
     },
     "execution_count": 127,
     "metadata": {},
     "output_type": "execute_result"
    }
   ],
   "source": [
    "concate_builtforgame = pd.concat([df_list[3][['Venue','Status']], df_list[7][['Venue' , 'Status']]])\n",
    "\n",
    "build_for_game = concate_builtforgame['Venue'].unique()\n",
    "\n",
    "len(build_for_game)"
   ]
  },
  {
   "cell_type": "markdown",
   "metadata": {},
   "source": [
    "##   g) How much capacity does this correspond to?\n",
    "\n"
   ]
  },
  {
   "cell_type": "code",
   "execution_count": null,
   "metadata": {},
   "outputs": [],
   "source": []
  },
  {
   "cell_type": "code",
   "execution_count": null,
   "metadata": {},
   "outputs": [],
   "source": []
  },
  {
   "cell_type": "code",
   "execution_count": null,
   "metadata": {},
   "outputs": [],
   "source": []
  },
  {
   "cell_type": "code",
   "execution_count": null,
   "metadata": {},
   "outputs": [],
   "source": []
  },
  {
   "cell_type": "code",
   "execution_count": null,
   "metadata": {},
   "outputs": [],
   "source": []
  },
  {
   "cell_type": "code",
   "execution_count": null,
   "metadata": {},
   "outputs": [],
   "source": []
  },
  {
   "cell_type": "code",
   "execution_count": null,
   "metadata": {},
   "outputs": [],
   "source": []
  },
  {
   "cell_type": "code",
   "execution_count": null,
   "metadata": {},
   "outputs": [],
   "source": []
  },
  {
   "cell_type": "code",
   "execution_count": null,
   "metadata": {},
   "outputs": [],
   "source": []
  },
  {
   "cell_type": "code",
   "execution_count": null,
   "metadata": {},
   "outputs": [],
   "source": []
  },
  {
   "cell_type": "code",
   "execution_count": null,
   "metadata": {},
   "outputs": [],
   "source": []
  },
  {
   "cell_type": "code",
   "execution_count": null,
   "metadata": {},
   "outputs": [],
   "source": []
  },
  {
   "cell_type": "code",
   "execution_count": null,
   "metadata": {},
   "outputs": [],
   "source": []
  },
  {
   "cell_type": "code",
   "execution_count": null,
   "metadata": {},
   "outputs": [],
   "source": []
  },
  {
   "cell_type": "markdown",
   "metadata": {},
   "source": [
    "# 3. Theory questions\n"
   ]
  },
  {
   "cell_type": "markdown",
   "metadata": {},
   "source": [
    "##  a) When should you use median over mean in statistics?\n",
    "\n",
    "- The reason to use Median over mean which is depend on datset\n",
    "\n",
    "- In satuation like salary in company like 10 emoplye is getting xyz salary in this satuation we will select Median to get the middle values istead of mean , which add all employee salary and divide by number of employee , which the high value will come , which will be not relaistic \n"
   ]
  },
  {
   "cell_type": "markdown",
   "metadata": {},
   "source": [
    "##   b) Salary for 90th percentile is 40000, what does this mean?\n",
    "\n",
    "- This mean that 90 percent employee in the department or company gets less than 40000 in salary and just 10 percent get more than 40000. "
   ]
  },
  {
   "cell_type": "markdown",
   "metadata": {},
   "source": [
    "##   c) What are the main data structures used in pandas, and what are their primary use cases?\n",
    "\n",
    "- In Pandas the mian data structre used are Series and DataFrame \n",
    "\n",
    "    - Series is one dimentional or you can call it single row/column data \n",
    "\n",
    "    - Dataframe is multi diementional or with rows and column data. \n",
    "\n",
    "- Primary use Cases \n",
    "\n",
    "\n",
    "\n"
   ]
  }
 ],
 "metadata": {
  "kernelspec": {
   "display_name": "Python 3",
   "language": "python",
   "name": "python3"
  },
  "language_info": {
   "codemirror_mode": {
    "name": "ipython",
    "version": 3
   },
   "file_extension": ".py",
   "mimetype": "text/x-python",
   "name": "python",
   "nbconvert_exporter": "python",
   "pygments_lexer": "ipython3",
   "version": "3.11.7"
  }
 },
 "nbformat": 4,
 "nbformat_minor": 2
}
