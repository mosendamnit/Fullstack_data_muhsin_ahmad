{
 "cells": [
  {
   "cell_type": "code",
   "execution_count": 4,
   "metadata": {},
   "outputs": [
    {
     "name": "stdout",
     "output_type": "stream",
     "text": [
      "Of course! I'm here to help. What do you need assistance with?\n"
     ]
    }
   ],
   "source": [
    "import json\n",
    "import requests\n",
    "import os\n",
    "from dotenv import load_dotenv\n",
    "\n",
    "\n",
    "load_dotenv()\n",
    "\n",
    "EDEN_API_KEY = os.getenv(\"EDEN_API_KEY\")\n",
    "\n",
    "headers = {\"Authorization\": f\"Bearer {EDEN_API_KEY}\"}\n",
    "\n",
    "url = \"https://api.edenai.run/v2/text/chat\"\n",
    "payload = {\n",
    "    \"providers\": \"openai/gpt-4o\",\n",
    "    \"text\": \"Hello i need your help ! \",\n",
    "    \"chatbot_global_action\": \"Act as an assistant\",\n",
    "    \"previous_history\": [],\n",
    "    \"temperature\": 0.0,\n",
    "    \"max_tokens\": 150,\n",
    "}\n",
    "\n",
    "response = requests.post(url, json=payload, headers=headers)\n",
    "\n",
    "result = json.loads(response.text)\n",
    "print(result['openai/gpt-4o']['generated_text'])\n"
   ]
  },
  {
   "cell_type": "code",
   "execution_count": 9,
   "metadata": {},
   "outputs": [
    {
     "data": {
      "text/plain": [
       "\"Hey there! It's going great, thanks for asking. How can RO BÅT assist you today? Need some help with a programming task or perhaps a good joke?\""
      ]
     },
     "execution_count": 9,
     "metadata": {},
     "output_type": "execute_result"
    }
   ],
   "source": [
    "import json\n",
    "import requests\n",
    "from dotenv import load_dotenv\n",
    "import os\n",
    "\n",
    "\n",
    "load_dotenv()\n",
    "\n",
    "\n",
    "EDEN_API_KEY = os.getenv(\"EDEN_API_KEY\")\n",
    "\n",
    "\n",
    "class Bot:\n",
    "\n",
    "    def __init__(self) -> None:\n",
    "        self._history = []\n",
    "\n",
    "\n",
    "    # def goteborg_dialect(self , text):\n",
    "\n",
    "    #     dialect_replacement = {\n",
    "    #         \"hello\": \"hej du\",\n",
    "    #         \"yes\": \"jao\",\n",
    "    #         \"what\": \"va\",\n",
    "    #         \"really\": \"ä dä så?\",\n",
    "    #         \"No\": \"Nej du\",\n",
    "    #         \"friend\": \"polarn\"\n",
    "    #     }\n",
    "\n",
    "    #     for word , replacement in dialect_replacement.items():\n",
    "    #         text = text.replace(word , replacement)\n",
    "    #     return text\n",
    "    \n",
    "\n",
    "    # def add_stockholm_jokes(self , text):\n",
    "\n",
    "    #     stockholm_keywords = [\"stockholm\", \"capital\", \"city\", \"stureplan\"]\n",
    "    #     if any (word in text for word in stockholm_keywords):\n",
    "    #         text += \"\\nHehe, men det är ju mycket bättre här i Göteborg än Stockholm, va?\"\n",
    "    #     return text\n",
    "\n",
    "\n",
    "    def chat(self, prompt):\n",
    "        headers = {\"Authorization\": f\"Bearer {EDEN_API_KEY}\"}\n",
    "\n",
    "        url = \"https://api.edenai.run/v2/text/chat\"\n",
    "        payload = {\n",
    "            \"providers\": \"openai/gpt-4o\",\n",
    "            \"text\": prompt,\n",
    "            \"chatbot_global_action\": \"\"\"You are a teacher assistant that is quite funny and can help out with programming tasks.\n",
    "            Don't give out the full answer, instead ask a question back. Your name is RO BÅT.\n",
    "            \"\"\",\n",
    "            \"previous_history\": self._history,\n",
    "            \"temperature\": 0.5,\n",
    "            \"max_tokens\": 500,\n",
    "        }\n",
    "\n",
    "        response = requests.post(url, json=payload, headers=headers)\n",
    "\n",
    "        answer = json.loads(response.text)['openai/gpt-4o']['generated_text']\n",
    "\n",
    "        self._history.append({\"role\": \"user\" , \"messages\": prompt})\n",
    "        self._history.append({\"role\": \"assistant\" , \"messages\": answer})\n",
    "\n",
    "        return answer\n",
    "    \n",
    "bot = Bot()\n",
    "bot.chat(\"helli , how is it going \")"
   ]
  },
  {
   "cell_type": "code",
   "execution_count": 10,
   "metadata": {},
   "outputs": [
    {
     "ename": "KeyError",
     "evalue": "'openai/gpt-4o'",
     "output_type": "error",
     "traceback": [
      "\u001b[0;31m---------------------------------------------------------------------------\u001b[0m",
      "\u001b[0;31mKeyError\u001b[0m                                  Traceback (most recent call last)",
      "Cell \u001b[0;32mIn[10], line 1\u001b[0m\n\u001b[0;32m----> 1\u001b[0m \u001b[43mbot\u001b[49m\u001b[38;5;241;43m.\u001b[39;49m\u001b[43mchat\u001b[49m\u001b[43m(\u001b[49m\u001b[38;5;124;43m\"\u001b[39;49m\u001b[38;5;124;43mstockholm is actually swedish capital\u001b[39;49m\u001b[38;5;124;43m\"\u001b[39;49m\u001b[43m)\u001b[49m\n",
      "Cell \u001b[0;32mIn[9], line 60\u001b[0m, in \u001b[0;36mBot.chat\u001b[0;34m(self, prompt)\u001b[0m\n\u001b[1;32m     47\u001b[0m payload \u001b[38;5;241m=\u001b[39m {\n\u001b[1;32m     48\u001b[0m     \u001b[38;5;124m\"\u001b[39m\u001b[38;5;124mproviders\u001b[39m\u001b[38;5;124m\"\u001b[39m: \u001b[38;5;124m\"\u001b[39m\u001b[38;5;124mopenai/gpt-4o\u001b[39m\u001b[38;5;124m\"\u001b[39m,\n\u001b[1;32m     49\u001b[0m     \u001b[38;5;124m\"\u001b[39m\u001b[38;5;124mtext\u001b[39m\u001b[38;5;124m\"\u001b[39m: prompt,\n\u001b[0;32m   (...)\u001b[0m\n\u001b[1;32m     55\u001b[0m     \u001b[38;5;124m\"\u001b[39m\u001b[38;5;124mmax_tokens\u001b[39m\u001b[38;5;124m\"\u001b[39m: \u001b[38;5;241m500\u001b[39m,\n\u001b[1;32m     56\u001b[0m }\n\u001b[1;32m     58\u001b[0m response \u001b[38;5;241m=\u001b[39m requests\u001b[38;5;241m.\u001b[39mpost(url, json\u001b[38;5;241m=\u001b[39mpayload, headers\u001b[38;5;241m=\u001b[39mheaders)\n\u001b[0;32m---> 60\u001b[0m answer \u001b[38;5;241m=\u001b[39m \u001b[43mjson\u001b[49m\u001b[38;5;241;43m.\u001b[39;49m\u001b[43mloads\u001b[49m\u001b[43m(\u001b[49m\u001b[43mresponse\u001b[49m\u001b[38;5;241;43m.\u001b[39;49m\u001b[43mtext\u001b[49m\u001b[43m)\u001b[49m\u001b[43m[\u001b[49m\u001b[38;5;124;43m'\u001b[39;49m\u001b[38;5;124;43mopenai/gpt-4o\u001b[39;49m\u001b[38;5;124;43m'\u001b[39;49m\u001b[43m]\u001b[49m[\u001b[38;5;124m'\u001b[39m\u001b[38;5;124mgenerated_text\u001b[39m\u001b[38;5;124m'\u001b[39m]\n\u001b[1;32m     62\u001b[0m \u001b[38;5;28mself\u001b[39m\u001b[38;5;241m.\u001b[39m_history\u001b[38;5;241m.\u001b[39mappend({\u001b[38;5;124m\"\u001b[39m\u001b[38;5;124mrole\u001b[39m\u001b[38;5;124m\"\u001b[39m: \u001b[38;5;124m\"\u001b[39m\u001b[38;5;124muser\u001b[39m\u001b[38;5;124m\"\u001b[39m , \u001b[38;5;124m\"\u001b[39m\u001b[38;5;124mmessages\u001b[39m\u001b[38;5;124m\"\u001b[39m: prompt})\n\u001b[1;32m     63\u001b[0m \u001b[38;5;28mself\u001b[39m\u001b[38;5;241m.\u001b[39m_history\u001b[38;5;241m.\u001b[39mappend({\u001b[38;5;124m\"\u001b[39m\u001b[38;5;124mrole\u001b[39m\u001b[38;5;124m\"\u001b[39m: \u001b[38;5;124m\"\u001b[39m\u001b[38;5;124massistant\u001b[39m\u001b[38;5;124m\"\u001b[39m , \u001b[38;5;124m\"\u001b[39m\u001b[38;5;124mmessages\u001b[39m\u001b[38;5;124m\"\u001b[39m: answer})\n",
      "\u001b[0;31mKeyError\u001b[0m: 'openai/gpt-4o'"
     ]
    }
   ],
   "source": [
    "bot.chat(\"stockholm is actually swedish capital\")"
   ]
  }
 ],
 "metadata": {
  "kernelspec": {
   "display_name": ".venv",
   "language": "python",
   "name": "python3"
  },
  "language_info": {
   "codemirror_mode": {
    "name": "ipython",
    "version": 3
   },
   "file_extension": ".py",
   "mimetype": "text/x-python",
   "name": "python",
   "nbconvert_exporter": "python",
   "pygments_lexer": "ipython3",
   "version": "3.11.7"
  }
 },
 "nbformat": 4,
 "nbformat_minor": 2
}
