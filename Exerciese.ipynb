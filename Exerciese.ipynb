{
 "cells": [
  {
   "cell_type": "markdown",
   "metadata": {},
   "source": [
    "# 0. Hire IT employee data\n"
   ]
  },
  {
   "cell_type": "markdown",
   "metadata": {},
   "source": [
    "##   a) Create a list of dictionaries to represent this data, where each dictionary represents each row.\n",
    "\n"
   ]
  },
  {
   "cell_type": "code",
   "execution_count": 2,
   "metadata": {},
   "outputs": [
    {
     "name": "stdout",
     "output_type": "stream",
     "text": [
      "{'employeeID': 0, 'name': 'Alice', 'department': 'HR', 'salary': 31000}\n",
      "{'employeeID': 1, 'name': 'Bob', 'department': 'IT', 'salary': 41000}\n",
      "{'employeeID': 2, 'name': 'Charlie', 'department': 'HR', 'salary': 28000}\n"
     ]
    }
   ],
   "source": [
    "employee0 = dict (\n",
    "    employeeID = 0,\n",
    "    name = \"Alice\",\n",
    "    department = \"HR\",\n",
    "    salary = 31000\n",
    "\n",
    ")\n",
    "\n",
    "employee1 = dict (\n",
    "    employeeID = 1,\n",
    "    name = \"Bob\",\n",
    "    department = \"IT\",\n",
    "    salary = 41000\n",
    "\n",
    ")\n",
    "\n",
    "employee2 = dict (\n",
    "    employeeID = 2,\n",
    "    name = \"Charlie\",\n",
    "    department = \"HR\",\n",
    "    salary = 28000\n",
    "\n",
    ")\n",
    "\n",
    "print(employee0)\n",
    "print(employee1)\n",
    "print(employee2)\n"
   ]
  },
  {
   "cell_type": "markdown",
   "metadata": {},
   "source": [
    "##   b) Extract the second record in this dataset.\n",
    "\n"
   ]
  },
  {
   "cell_type": "code",
   "execution_count": 3,
   "metadata": {},
   "outputs": [
    {
     "name": "stdout",
     "output_type": "stream",
     "text": [
      "{'employeeID': 1, 'name': 'Bob', 'department': 'IT', 'salary': 41000}\n"
     ]
    }
   ],
   "source": [
    "second_recod = employee1\n",
    "print(employee1)"
   ]
  },
  {
   "cell_type": "markdown",
   "metadata": {},
   "source": [
    "##   c) Extract all rows from this dataset and print it in this format\n",
    "\n"
   ]
  },
  {
   "cell_type": "code",
   "execution_count": 8,
   "metadata": {},
   "outputs": [
    {
     "name": "stdout",
     "output_type": "stream",
     "text": [
      "Alice works in department HR and earn 31000\n",
      "Bob works in department IT and earn 41000\n",
      "Charlie works in department HR and earn 28000\n"
     ]
    }
   ],
   "source": [
    "print(f\"{employee0['name']} works in department {employee0['department']} and earn {employee0['salary']}\")\n",
    "print(f\"{employee1['name']} works in department {employee1['department']} and earn {employee1['salary']}\")\n",
    "print(f\"{employee2['name']} works in department {employee2['department']} and earn {employee2['salary']}\")"
   ]
  },
  {
   "cell_type": "markdown",
   "metadata": {},
   "source": [
    "##   d) Find out the average salary in Hire IT.\n",
    "\n"
   ]
  },
  {
   "cell_type": "code",
   "execution_count": null,
   "metadata": {},
   "outputs": [],
   "source": [
    "avreage_salary = sum({employee0['salary']} , {employee1['salary']} , {employee2['salary']}) / "
   ]
  },
  {
   "cell_type": "markdown",
   "metadata": {},
   "source": [
    "##   e) Find out the average salary among the HR department in Hire IT.\n",
    "\n"
   ]
  },
  {
   "cell_type": "code",
   "execution_count": null,
   "metadata": {},
   "outputs": [],
   "source": []
  },
  {
   "cell_type": "markdown",
   "metadata": {},
   "source": [
    "##   f) Extract all records where the department is HR.\n",
    "\n"
   ]
  },
  {
   "cell_type": "code",
   "execution_count": 14,
   "metadata": {},
   "outputs": [
    {
     "name": "stdout",
     "output_type": "stream",
     "text": [
      "{'employeeID': 0, 'name': 'Alice', 'department': 'HR', 'salary': 31000}\n",
      "{'employeeID': 2, 'name': 'Charlie', 'department': 'HR', 'salary': 28000}\n"
     ]
    }
   ],
   "source": [
    "employee = [ employee0 , employee1 , employee2]\n",
    "\n",
    "hr_employee = [emp for emp in employee if emp[\"department\"] == \"HR\"]\n",
    "\n",
    "for emp in hr_employee:\n",
    "    print(emp)"
   ]
  },
  {
   "cell_type": "markdown",
   "metadata": {},
   "source": [
    "##   g) Find all unique departments in this list.\n",
    "\n"
   ]
  },
  {
   "cell_type": "code",
   "execution_count": 15,
   "metadata": {},
   "outputs": [
    {
     "name": "stdout",
     "output_type": "stream",
     "text": [
      "{'HR', 'IT'}\n"
     ]
    }
   ],
   "source": [
    "employee = [ employee0 , employee1 , employee2]\n",
    "\n",
    "unique_department = {emp[\"department\"] for emp in employee}\n",
    "print(unique_department)"
   ]
  },
  {
   "cell_type": "markdown",
   "metadata": {},
   "source": [
    "##   h) Add this age column into our list of dictionaries. None should be used for empty fields.\n",
    "\n"
   ]
  },
  {
   "cell_type": "code",
   "execution_count": 18,
   "metadata": {},
   "outputs": [
    {
     "name": "stdout",
     "output_type": "stream",
     "text": [
      "{'employeeID': 0, 'name': 'Alice', 'department': 'HR', 'salary': 31000, 'age': 26}\n",
      "{'employeeID': 1, 'name': 'Bob', 'department': 'IT', 'salary': 41000, 'age': 37}\n",
      "{'employeeID': 2, 'name': 'Charlie', 'department': 'HR', 'salary': 28000, 'age': None}\n"
     ]
    }
   ],
   "source": [
    "employee0[\"age\"] = 26\n",
    "employee1[\"age\"] = 37\n",
    "employee2[\"age\"] = None\n",
    "\n",
    "\n",
    "print(employee0)\n",
    "print(employee1)\n",
    "print(employee2)"
   ]
  },
  {
   "cell_type": "markdown",
   "metadata": {},
   "source": [
    "##   i) A new employee named David starts at the IT department, with salary 35000 and has the age 30. Create a function to add this record to the dataset.\n",
    "\n"
   ]
  },
  {
   "cell_type": "code",
   "execution_count": 19,
   "metadata": {},
   "outputs": [
    {
     "name": "stdout",
     "output_type": "stream",
     "text": [
      "{'employee3': ' David', 'department': 'IT', 'salary': 35000, 'age': 30}\n"
     ]
    }
   ],
   "source": [
    "employee3 = dict(\n",
    "    employee3 = \" David\",\n",
    "    department = \"IT\",\n",
    "    salary = 35000,\n",
    "    age = 30\n",
    ")\n",
    "\n",
    "print(employee3)"
   ]
  },
  {
   "cell_type": "markdown",
   "metadata": {},
   "source": [
    "# 1. Gotta catch em all\n"
   ]
  },
  {
   "cell_type": "markdown",
   "metadata": {},
   "source": [
    "##  a) Define a Pokemon class with attributes for name, type, and level. Instantiate a pokemon named Pikachu and give it an electric type with level 10."
   ]
  },
  {
   "cell_type": "code",
   "execution_count": 20,
   "metadata": {},
   "outputs": [
    {
     "name": "stdout",
     "output_type": "stream",
     "text": [
      "The Pokemon name is Pikachu . \n",
      "The pokemon type is electric\n",
      "The Pokemon is at 10 .\n"
     ]
    }
   ],
   "source": [
    "class Pokemon:\n",
    "    def __init__(self , name , type , level) -> None:\n",
    "        self.name = name\n",
    "        self.type = type\n",
    "        self.level = level\n",
    "\n",
    "    def give_name (self):\n",
    "        print(f\"The Pokemon name is {self.name} . \")\n",
    "\n",
    "    def get_type(self):\n",
    "        print(f\"The pokemon type is {self.type}\")\n",
    "\n",
    "    def get_level(self):\n",
    "        print(f\"The Pokemon is at {self.level} .\")\n",
    "\n",
    "\n",
    "pokemon = Pokemon(\"Pikachu\" , \"electric\" ,  10)\n",
    "\n",
    "\n",
    "pokemon.give_name()\n",
    "pokemon.get_type()\n",
    "pokemon.get_level()"
   ]
  },
  {
   "cell_type": "markdown",
   "metadata": {},
   "source": [
    "## b) Implement __str__() method to display the Pokemon's details. Also implement a __repr__() method."
   ]
  },
  {
   "cell_type": "code",
   "execution_count": 21,
   "metadata": {},
   "outputs": [
    {
     "name": "stdout",
     "output_type": "stream",
     "text": [
      " Pikachu is a type electric at level 10\n"
     ]
    },
    {
     "data": {
      "text/plain": [
       "' Pokemon(name = Pikachu , pokemon_type = electric , Pokemon_level = 10)'"
      ]
     },
     "execution_count": 21,
     "metadata": {},
     "output_type": "execute_result"
    }
   ],
   "source": [
    "class Pokemon:\n",
    "    def __init__(self , name , type , level) -> None:\n",
    "        self.name = name\n",
    "        self.type = type\n",
    "        self.level = level\n",
    "\n",
    "\n",
    "    def __str__(self) -> str:\n",
    "        return f\" {self.name} is a type {self.type} at level {self.level}\"\n",
    "    \n",
    "    def __repr__(self) -> str:\n",
    "        return f\" Pokemon(name = {self.name} , pokemon_type = {self.type} , Pokemon_level = {self.level})\"\n",
    "\n",
    "\n",
    "pokemon = Pokemon(\"Pikachu\", \"electric\", 10)\n",
    "\n",
    "\n",
    "print(pokemon)\n",
    "\n",
    "repr(pokemon)"
   ]
  },
  {
   "cell_type": "markdown",
   "metadata": {},
   "source": [
    "##   c) Create a subclass WaterPokemon that inherits from Pokemon and add a unique method splash. This method prints out the pokemons name and that it splashes some water.\n",
    "\n"
   ]
  },
  {
   "cell_type": "code",
   "execution_count": 32,
   "metadata": {},
   "outputs": [
    {
     "name": "stdout",
     "output_type": "stream",
     "text": [
      "The WaterPokemon splash some water.\n",
      " WaterPokemon is a type WaterPokemon at level 5\n"
     ]
    }
   ],
   "source": [
    "class Pokemon:\n",
    "    def __init__(self , name , type , level) -> None:\n",
    "        self.name = name\n",
    "        self.type = type\n",
    "        self.level = level\n",
    "\n",
    "\n",
    "    def __str__(self) -> str:\n",
    "        return f\" {self.name} is a type {self.type} at level {self.level}\"\n",
    "    \n",
    "    def __repr__(self) -> str:\n",
    "        return f\" Pokemon(name = {self.name} , pokemon_type = {self.type} , Pokemon_level = {self.level})\"\n",
    "\n",
    "\n",
    "class WaterPokemon(Pokemon):\n",
    "    def __init__(self, name, level) -> None:\n",
    "        super().__init__(name, type= \"WaterPokemon\", level= level)\n",
    "\n",
    "    def splash(self):\n",
    "        print(f\"The {self.name} splash some water.\")\n",
    "\n",
    "\n",
    "\n",
    "water_poke = WaterPokemon(name = \"WaterPokemon\" , level = 5)\n",
    "\n",
    "\n",
    "water_poke.splash()\n",
    "\n",
    "print(water_poke)"
   ]
  },
  {
   "cell_type": "markdown",
   "metadata": {},
   "source": [
    "# d) Now instantiate two Squirtles and a Polywag. Squirtles and Polywags are of type WaterPokemon."
   ]
  },
  {
   "cell_type": "code",
   "execution_count": 37,
   "metadata": {},
   "outputs": [
    {
     "name": "stdout",
     "output_type": "stream",
     "text": [
      " squirtles is a type of WaterPokemon at level 5\n",
      " Polywag is a type of WaterPokemon at level 8\n"
     ]
    }
   ],
   "source": [
    "class Pokemon:\n",
    "    def __init__(self , name , type , level) -> None:\n",
    "        self.name = name\n",
    "        self.type = type\n",
    "        self.level = level\n",
    "\n",
    "\n",
    "    def __str__(self) -> str:\n",
    "        return f\" {self.name} is a type of {self.type} at level {self.level}\"\n",
    "    \n",
    "    def __repr__(self) -> str:\n",
    "        return f\" Pokemon(name = {self.name} , pokemon_type = {self.type} , Pokemon_level = {self.level})\"\n",
    "\n",
    "\n",
    "class WaterPokemon(Pokemon):\n",
    "    def __init__(self, name, level) -> None:\n",
    "        super().__init__(name, type= \"WaterPokemon\", level= level)\n",
    "\n",
    "\n",
    "squirtles_type = WaterPokemon (\n",
    "    name = \"squirtles\",\n",
    "    level = 5\n",
    ")\n",
    "\n",
    "polywag_type = WaterPokemon(\n",
    "    name = \"Polywag\",\n",
    "    level = 8\n",
    ")\n",
    "\n",
    "\n",
    "print(squirtles_type)\n",
    "print(polywag_type)\n",
    "\n"
   ]
  },
  {
   "cell_type": "markdown",
   "metadata": {},
   "source": [
    "#   e) Loop through a tuple of all your instantiated pokemons and print them out.\n",
    "\n"
   ]
  },
  {
   "cell_type": "code",
   "execution_count": 40,
   "metadata": {},
   "outputs": [
    {
     "name": "stdout",
     "output_type": "stream",
     "text": [
      "( Pokemon(name = squirtles , pokemon_type = WaterPokemon , Pokemon_level = 5),  Pokemon(name = Polywag , pokemon_type = WaterPokemon , Pokemon_level = 8))\n"
     ]
    }
   ],
   "source": [
    "pokemon_tuple = (squirtles_type , polywag_type)\n",
    "\n",
    "print(pokemon_tuple)"
   ]
  },
  {
   "cell_type": "markdown",
   "metadata": {},
   "source": [
    "# 3. Theory questions\n"
   ]
  },
  {
   "cell_type": "markdown",
   "metadata": {},
   "source": [
    "## These study questions are good to get an overview of how snowflake works."
   ]
  },
  {
   "cell_type": "markdown",
   "metadata": {},
   "source": [
    "##   a) What is the difference between dictionary and lists?\n",
    "\n",
    "### Dictionary : Store the information in form of Key and its Values. \n",
    "- Mutable \n",
    "- Store in {} curly bracket\n",
    "\n",
    "\n",
    "### List : Store information in same list the same data type. \n",
    "- Mutable \n",
    "- Store in [] square bracket "
   ]
  },
  {
   "cell_type": "markdown",
   "metadata": {},
   "source": [
    "##   b) What are postional arguments in functions?\n",
    "\n",
    "-  Positional argument: The argument that are passed to a function on based in which they are define in Function\n",
    "\n",
    "- For example :  def greeting (Name , Age): Fuction with two parameter Name and Age , first is Name and second is Age\n",
    "\n",
    "- So in fuction call First we have to write Name and second Age , If not then error will come  \n",
    "\n"
   ]
  },
  {
   "cell_type": "markdown",
   "metadata": {},
   "source": [
    "##   c) What is the difference between using postional arguments and keyword arguments in functions?\n",
    "\n",
    "- Keyword Argument : The keyword argument is totaly opposite of position argument , in the call part the order of parameter doesnt matter . \n",
    "\n",
    "- for example : def greeting (Name , Age):\n",
    "\n",
    "\n",
    "hello_ = greeting( Age = 34 , Name = \"Mohsin \")  The code will run without any error , even the parameter are called in wrong order . "
   ]
  },
  {
   "cell_type": "markdown",
   "metadata": {},
   "source": [
    "###   d) What is the difference between a list , Set and a tuple? "
   ]
  },
  {
   "cell_type": "code",
   "execution_count": 60,
   "metadata": {},
   "outputs": [
    {
     "name": "stdout",
     "output_type": "stream",
     "text": [
      "['apple', 'orange', 'banana', 'mango', 'pineapple', 5]\n",
      "6\n",
      "apple\n",
      "orange\n",
      "banana\n",
      "mango\n",
      "pineapple\n",
      "5\n",
      "True\n",
      "['apple', 'orange', 'banana', 'mango', 'pineapple', 5, 5]\n"
     ]
    }
   ],
   "source": [
    "## List [] : List is mutable , \n",
    "#All the element doesnt have to have a same data type.  \n",
    "\n",
    "fruits = [\"apple\" , \"orange\" , \"banana\" , \"mango\" , \"pineapple\" , 5]\n",
    "\n",
    "# Print each element in list\n",
    "print(fruits)\n",
    "\n",
    "#print the number of elements in the list\n",
    "print(len(fruits))\n",
    "\n",
    "# pritn the eletrate the list\n",
    "for fruit in fruits:\n",
    "    print(fruit) \n",
    "\n",
    "#To check is the element is avalable or not \n",
    "print(\"apple\" in fruits)\n",
    "\n",
    "fruits.append(5)\n",
    "print(fruits)\n"
   ]
  },
  {
   "cell_type": "code",
   "execution_count": 61,
   "metadata": {},
   "outputs": [
    {
     "name": "stdout",
     "output_type": "stream",
     "text": [
      "{'mango', 'orange', 'pineapple', 'apple', 'banana'}\n",
      "5\n",
      "mango\n",
      "orange\n",
      "pineapple\n",
      "apple\n",
      "banana\n",
      "True\n",
      "{'mango', 'orange', 'pineapple', 'apple', 'Water mellon', 'banana'}\n",
      "{'mango', 'orange', 'pineapple', 'Water mellon', 'banana'}\n",
      "{'mango', 'orange', 'pineapple', 'Water mellon', 45, 'banana'}\n"
     ]
    }
   ],
   "source": [
    "# Set {} : Unordered and immutable but Add/Remove is allow , No duplicate\n",
    "# Elements in set doesnt has to be same data type , different data type can also be in set. \n",
    "\n",
    "fruits = {\"apple\" , \"orange\" , \"banana\" , \"mango\" , \"pineapple\"}\n",
    "\n",
    "# Print each element in list\n",
    "print(fruits)\n",
    "\n",
    "#print the number of elements in the list\n",
    "print(len(fruits))\n",
    "\n",
    "# pritn the eletrate the list\n",
    "for fruit in fruits:\n",
    "    print(fruit) \n",
    "\n",
    "#To check is the element is avalable or not \n",
    "print(\"apple\" in fruits)\n",
    "\n",
    "# Add new element in the set\n",
    "fruits.add(\"Water mellon\")\n",
    "print(fruits)\n",
    "\n",
    "# Remove element from the set\n",
    "fruits.remove(\"apple\")\n",
    "print(fruits)\n",
    "\n",
    "# Can add different data type element in the set \n",
    "fruits.add(45)\n",
    "print(fruits)\n",
    "\n"
   ]
  },
  {
   "cell_type": "code",
   "execution_count": 63,
   "metadata": {},
   "outputs": [
    {
     "name": "stdout",
     "output_type": "stream",
     "text": [
      "('apple', 'orange', 'banana', 'mango', 'pineapple', 5)\n",
      "6\n",
      "apple\n",
      "orange\n",
      "banana\n",
      "mango\n",
      "pineapple\n",
      "5\n",
      "True\n"
     ]
    }
   ],
   "source": [
    "# Tuple () : Ordered , unchangeable  , Duplicate is ok and Faster\n",
    "\n",
    "fruits = (\"apple\" , \"orange\" , \"banana\" , \"mango\" , \"pineapple\" , 5)\n",
    "\n",
    "# Print each element in list\n",
    "print(fruits)\n",
    "\n",
    "#print the number of elements in the list\n",
    "print(len(fruits))\n",
    "\n",
    "# pritn the eletrate the list\n",
    "for fruit in fruits:\n",
    "    print(fruit) \n",
    "\n",
    "#To check is the element is avalable or not \n",
    "print(\"apple\" in fruits)\n"
   ]
  },
  {
   "cell_type": "markdown",
   "metadata": {},
   "source": [
    "###   e) Explain the concept of Python's dynamic typing.\n",
    "\n"
   ]
  },
  {
   "cell_type": "markdown",
   "metadata": {},
   "source": [
    "###   f) What is the purpose behind the __repr__() method in a class?\n",
    "\n",
    "- __repr__() in class used to see how object are shown when you print it and also __repr__() is use to see the offical representation of object in String formate. \n"
   ]
  },
  {
   "cell_type": "code",
   "execution_count": 73,
   "metadata": {},
   "outputs": [
    {
     "name": "stdout",
     "output_type": "stream",
     "text": [
      "Car make=  'Toyota' , Car model='Corolla' , Car year='2021' \n"
     ]
    }
   ],
   "source": [
    "class Car:\n",
    "    def __init__(self , make , model , year) -> None:\n",
    "        self.make = make \n",
    "        self.model = model\n",
    "        self.year = year\n",
    "\n",
    "\n",
    "    def __repr__(self) -> str:\n",
    "        return f\"Car make=  '{self.make}' , Car model='{self.model}' , Car year='{self.year}' \"\n",
    "    \n",
    "car = Car(\"Toyota\" , \"Corolla\" , 2021)\n",
    "\n",
    "print(repr(car))"
   ]
  },
  {
   "cell_type": "markdown",
   "metadata": {},
   "source": [
    "###   g) How does __str__() method differ from __repr__() method?\n",
    "\n",
    "- __str__() has same fuction as __repr__() but str() give a user friendly print the object in the end\n",
    "\n",
    "- __repr__() gives the offical and easy to understand by developer when you print the object "
   ]
  },
  {
   "cell_type": "code",
   "execution_count": 74,
   "metadata": {},
   "outputs": [
    {
     "name": "stdout",
     "output_type": "stream",
     "text": [
      " Toyota , Corolla , 2021\n",
      "Car make=  'Toyota' , Car model='Corolla' , Car year='2021' \n"
     ]
    }
   ],
   "source": [
    "class Car:\n",
    "    def __init__(self , make , model , year) -> None:\n",
    "        self.make = make \n",
    "        self.model = model\n",
    "        self.year = year\n",
    "\n",
    "    def __str__(self) -> str:\n",
    "        return f\" {self.make} , {self.model} , {self.year}\"\n",
    "\n",
    "\n",
    "    def __repr__(self) -> str:\n",
    "        return f\"Car make=  '{self.make}' , Car model='{self.model}' , Car year='{self.year}' \"\n",
    "    \n",
    "car = Car(\"Toyota\" , \"Corolla\" , 2021)\n",
    "\n",
    "print(car)\n",
    "\n",
    "print(repr(car))"
   ]
  },
  {
   "cell_type": "markdown",
   "metadata": {},
   "source": [
    "###  h) Why do you want to encapsulate objects?\n",
    "\n"
   ]
  }
 ],
 "metadata": {
  "kernelspec": {
   "display_name": "venv",
   "language": "python",
   "name": "python3"
  },
  "language_info": {
   "codemirror_mode": {
    "name": "ipython",
    "version": 3
   },
   "file_extension": ".py",
   "mimetype": "text/x-python",
   "name": "python",
   "nbconvert_exporter": "python",
   "pygments_lexer": "ipython3",
   "version": "3.11.7"
  }
 },
 "nbformat": 4,
 "nbformat_minor": 2
}
