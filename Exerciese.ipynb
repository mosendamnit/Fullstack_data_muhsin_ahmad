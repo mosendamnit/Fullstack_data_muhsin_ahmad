{
 "cells": [
  {
   "cell_type": "markdown",
   "metadata": {},
   "source": [
    "# 0. Hire IT employee data\n"
   ]
  },
  {
   "cell_type": "markdown",
   "metadata": {},
   "source": [
    "##   a) Create a list of dictionaries to represent this data, where each dictionary represents each row.\n",
    "\n"
   ]
  },
  {
   "cell_type": "code",
   "execution_count": 2,
   "metadata": {},
   "outputs": [
    {
     "name": "stdout",
     "output_type": "stream",
     "text": [
      "{'employeeID': 0, 'name': 'Alice', 'department': 'HR', 'salary': 31000}\n",
      "{'employeeID': 1, 'name': 'Bob', 'department': 'IT', 'salary': 41000}\n",
      "{'employeeID': 2, 'name': 'Charlie', 'department': 'HR', 'salary': 28000}\n"
     ]
    }
   ],
   "source": [
    "employee0 = dict (\n",
    "    employeeID = 0,\n",
    "    name = \"Alice\",\n",
    "    department = \"HR\",\n",
    "    salary = 31000\n",
    "\n",
    ")\n",
    "\n",
    "employee1 = dict (\n",
    "    employeeID = 1,\n",
    "    name = \"Bob\",\n",
    "    department = \"IT\",\n",
    "    salary = 41000\n",
    "\n",
    ")\n",
    "\n",
    "employee2 = dict (\n",
    "    employeeID = 2,\n",
    "    name = \"Charlie\",\n",
    "    department = \"HR\",\n",
    "    salary = 28000\n",
    "\n",
    ")\n",
    "\n",
    "print(employee0)\n",
    "print(employee1)\n",
    "print(employee2)\n"
   ]
  },
  {
   "cell_type": "markdown",
   "metadata": {},
   "source": [
    "##   b) Extract the second record in this dataset.\n",
    "\n"
   ]
  },
  {
   "cell_type": "code",
   "execution_count": 3,
   "metadata": {},
   "outputs": [
    {
     "name": "stdout",
     "output_type": "stream",
     "text": [
      "{'employeeID': 1, 'name': 'Bob', 'department': 'IT', 'salary': 41000}\n"
     ]
    }
   ],
   "source": [
    "second_recod = employee1\n",
    "print(employee1)"
   ]
  },
  {
   "cell_type": "markdown",
   "metadata": {},
   "source": [
    "##   c) Extract all rows from this dataset and print it in this format\n",
    "\n"
   ]
  },
  {
   "cell_type": "code",
   "execution_count": 8,
   "metadata": {},
   "outputs": [
    {
     "name": "stdout",
     "output_type": "stream",
     "text": [
      "Alice works in department HR and earn 31000\n",
      "Bob works in department IT and earn 41000\n",
      "Charlie works in department HR and earn 28000\n"
     ]
    }
   ],
   "source": [
    "print(f\"{employee0['name']} works in department {employee0['department']} and earn {employee0['salary']}\")\n",
    "print(f\"{employee1['name']} works in department {employee1['department']} and earn {employee1['salary']}\")\n",
    "print(f\"{employee2['name']} works in department {employee2['department']} and earn {employee2['salary']}\")"
   ]
  },
  {
   "cell_type": "markdown",
   "metadata": {},
   "source": [
    "##   d) Find out the average salary in Hire IT.\n",
    "\n"
   ]
  },
  {
   "cell_type": "code",
   "execution_count": null,
   "metadata": {},
   "outputs": [],
   "source": [
    "avreage_salary = sum({employee0['salary']} , {employee1['salary']} , {employee2['salary']}) / "
   ]
  },
  {
   "cell_type": "markdown",
   "metadata": {},
   "source": [
    "##   e) Find out the average salary among the HR department in Hire IT.\n",
    "\n"
   ]
  },
  {
   "cell_type": "code",
   "execution_count": null,
   "metadata": {},
   "outputs": [],
   "source": []
  },
  {
   "cell_type": "markdown",
   "metadata": {},
   "source": [
    "##   f) Extract all records where the department is HR.\n",
    "\n"
   ]
  },
  {
   "cell_type": "code",
   "execution_count": 14,
   "metadata": {},
   "outputs": [
    {
     "name": "stdout",
     "output_type": "stream",
     "text": [
      "{'employeeID': 0, 'name': 'Alice', 'department': 'HR', 'salary': 31000}\n",
      "{'employeeID': 2, 'name': 'Charlie', 'department': 'HR', 'salary': 28000}\n"
     ]
    }
   ],
   "source": [
    "employee = [ employee0 , employee1 , employee2]\n",
    "\n",
    "hr_employee = [emp for emp in employee if emp[\"department\"] == \"HR\"]\n",
    "\n",
    "for emp in hr_employee:\n",
    "    print(emp)"
   ]
  },
  {
   "cell_type": "markdown",
   "metadata": {},
   "source": [
    "##   g) Find all unique departments in this list.\n",
    "\n"
   ]
  },
  {
   "cell_type": "code",
   "execution_count": 15,
   "metadata": {},
   "outputs": [
    {
     "name": "stdout",
     "output_type": "stream",
     "text": [
      "{'HR', 'IT'}\n"
     ]
    }
   ],
   "source": [
    "employee = [ employee0 , employee1 , employee2]\n",
    "\n",
    "unique_department = {emp[\"department\"] for emp in employee}\n",
    "print(unique_department)"
   ]
  },
  {
   "cell_type": "markdown",
   "metadata": {},
   "source": [
    "##   h) Add this age column into our list of dictionaries. None should be used for empty fields.\n",
    "\n"
   ]
  },
  {
   "cell_type": "code",
   "execution_count": 18,
   "metadata": {},
   "outputs": [
    {
     "name": "stdout",
     "output_type": "stream",
     "text": [
      "{'employeeID': 0, 'name': 'Alice', 'department': 'HR', 'salary': 31000, 'age': 26}\n",
      "{'employeeID': 1, 'name': 'Bob', 'department': 'IT', 'salary': 41000, 'age': 37}\n",
      "{'employeeID': 2, 'name': 'Charlie', 'department': 'HR', 'salary': 28000, 'age': None}\n"
     ]
    }
   ],
   "source": [
    "employee0[\"age\"] = 26\n",
    "employee1[\"age\"] = 37\n",
    "employee2[\"age\"] = None\n",
    "\n",
    "\n",
    "print(employee0)\n",
    "print(employee1)\n",
    "print(employee2)"
   ]
  },
  {
   "cell_type": "markdown",
   "metadata": {},
   "source": [
    "##   i) A new employee named David starts at the IT department, with salary 35000 and has the age 30. Create a function to add this record to the dataset.\n",
    "\n"
   ]
  },
  {
   "cell_type": "code",
   "execution_count": 19,
   "metadata": {},
   "outputs": [
    {
     "name": "stdout",
     "output_type": "stream",
     "text": [
      "{'employee3': ' David', 'department': 'IT', 'salary': 35000, 'age': 30}\n"
     ]
    }
   ],
   "source": [
    "employee3 = dict(\n",
    "    employee3 = \" David\",\n",
    "    department = \"IT\",\n",
    "    salary = 35000,\n",
    "    age = 30\n",
    ")\n",
    "\n",
    "print(employee3)"
   ]
  },
  {
   "cell_type": "markdown",
   "metadata": {},
   "source": [
    "# 1. Gotta catch em all\n"
   ]
  },
  {
   "cell_type": "markdown",
   "metadata": {},
   "source": [
    "##  a) Define a Pokemon class with attributes for name, type, and level. Instantiate a pokemon named Pikachu and give it an electric type with level 10."
   ]
  },
  {
   "cell_type": "code",
   "execution_count": 20,
   "metadata": {},
   "outputs": [
    {
     "name": "stdout",
     "output_type": "stream",
     "text": [
      "The Pokemon name is Pikachu . \n",
      "The pokemon type is electric\n",
      "The Pokemon is at 10 .\n"
     ]
    }
   ],
   "source": [
    "class Pokemon:\n",
    "    def __init__(self , name , type , level) -> None:\n",
    "        self.name = name\n",
    "        self.type = type\n",
    "        self.level = level\n",
    "\n",
    "    def give_name (self):\n",
    "        print(f\"The Pokemon name is {self.name} . \")\n",
    "\n",
    "    def get_type(self):\n",
    "        print(f\"The pokemon type is {self.type}\")\n",
    "\n",
    "    def get_level(self):\n",
    "        print(f\"The Pokemon is at {self.level} .\")\n",
    "\n",
    "\n",
    "pokemon = Pokemon(\"Pikachu\" , \"electric\" ,  10)\n",
    "\n",
    "\n",
    "pokemon.give_name()\n",
    "pokemon.get_type()\n",
    "pokemon.get_level()"
   ]
  },
  {
   "cell_type": "markdown",
   "metadata": {},
   "source": [
    "## b) Implement __str__() method to display the Pokemon's details. Also implement a __repr__() method."
   ]
  },
  {
   "cell_type": "code",
   "execution_count": 21,
   "metadata": {},
   "outputs": [
    {
     "name": "stdout",
     "output_type": "stream",
     "text": [
      " Pikachu is a type electric at level 10\n"
     ]
    },
    {
     "data": {
      "text/plain": [
       "' Pokemon(name = Pikachu , pokemon_type = electric , Pokemon_level = 10)'"
      ]
     },
     "execution_count": 21,
     "metadata": {},
     "output_type": "execute_result"
    }
   ],
   "source": [
    "class Pokemon:\n",
    "    def __init__(self , name , type , level) -> None:\n",
    "        self.name = name\n",
    "        self.type = type\n",
    "        self.level = level\n",
    "\n",
    "\n",
    "    def __str__(self) -> str:\n",
    "        return f\" {self.name} is a type {self.type} at level {self.level}\"\n",
    "    \n",
    "    def __repr__(self) -> str:\n",
    "        return f\" Pokemon(name = {self.name} , pokemon_type = {self.type} , Pokemon_level = {self.level})\"\n",
    "\n",
    "\n",
    "pokemon = Pokemon(\"Pikachu\", \"electric\", 10)\n",
    "\n",
    "\n",
    "print(pokemon)\n",
    "\n",
    "repr(pokemon)"
   ]
  },
  {
   "cell_type": "markdown",
   "metadata": {},
   "source": [
    "##   c) Create a subclass WaterPokemon that inherits from Pokemon and add a unique method splash. This method prints out the pokemons name and that it splashes some water.\n",
    "\n"
   ]
  },
  {
   "cell_type": "code",
   "execution_count": 32,
   "metadata": {},
   "outputs": [
    {
     "name": "stdout",
     "output_type": "stream",
     "text": [
      "The WaterPokemon splash some water.\n",
      " WaterPokemon is a type WaterPokemon at level 5\n"
     ]
    }
   ],
   "source": [
    "class Pokemon:\n",
    "    def __init__(self , name , type , level) -> None:\n",
    "        self.name = name\n",
    "        self.type = type\n",
    "        self.level = level\n",
    "\n",
    "\n",
    "    def __str__(self) -> str:\n",
    "        return f\" {self.name} is a type {self.type} at level {self.level}\"\n",
    "    \n",
    "    def __repr__(self) -> str:\n",
    "        return f\" Pokemon(name = {self.name} , pokemon_type = {self.type} , Pokemon_level = {self.level})\"\n",
    "\n",
    "\n",
    "class WaterPokemon(Pokemon):\n",
    "    def __init__(self, name, level) -> None:\n",
    "        super().__init__(name, type= \"WaterPokemon\", level= level)\n",
    "\n",
    "    def splash(self):\n",
    "        print(f\"The {self.name} splash some water.\")\n",
    "\n",
    "\n",
    "\n",
    "water_poke = WaterPokemon(name = \"WaterPokemon\" , level = 5)\n",
    "\n",
    "\n",
    "water_poke.splash()\n",
    "\n",
    "print(water_poke)"
   ]
  },
  {
   "cell_type": "markdown",
   "metadata": {},
   "source": [
    "# d) Now instantiate two Squirtles and a Polywag. Squirtles and Polywags are of type WaterPokemon."
   ]
  },
  {
   "cell_type": "code",
   "execution_count": 37,
   "metadata": {},
   "outputs": [
    {
     "name": "stdout",
     "output_type": "stream",
     "text": [
      " squirtles is a type of WaterPokemon at level 5\n",
      " Polywag is a type of WaterPokemon at level 8\n"
     ]
    }
   ],
   "source": [
    "class Pokemon:\n",
    "    def __init__(self , name , type , level) -> None:\n",
    "        self.name = name\n",
    "        self.type = type\n",
    "        self.level = level\n",
    "\n",
    "\n",
    "    def __str__(self) -> str:\n",
    "        return f\" {self.name} is a type of {self.type} at level {self.level}\"\n",
    "    \n",
    "    def __repr__(self) -> str:\n",
    "        return f\" Pokemon(name = {self.name} , pokemon_type = {self.type} , Pokemon_level = {self.level})\"\n",
    "\n",
    "\n",
    "class WaterPokemon(Pokemon):\n",
    "    def __init__(self, name, level) -> None:\n",
    "        super().__init__(name, type= \"WaterPokemon\", level= level)\n",
    "\n",
    "\n",
    "squirtles_type = WaterPokemon (\n",
    "    name = \"squirtles\",\n",
    "    level = 5\n",
    ")\n",
    "\n",
    "polywag_type = WaterPokemon(\n",
    "    name = \"Polywag\",\n",
    "    level = 8\n",
    ")\n",
    "\n",
    "\n",
    "print(squirtles_type)\n",
    "print(polywag_type)\n",
    "\n"
   ]
  },
  {
   "cell_type": "markdown",
   "metadata": {},
   "source": [
    "#   e) Loop through a tuple of all your instantiated pokemons and print them out.\n",
    "\n"
   ]
  },
  {
   "cell_type": "code",
   "execution_count": 40,
   "metadata": {},
   "outputs": [
    {
     "name": "stdout",
     "output_type": "stream",
     "text": [
      "( Pokemon(name = squirtles , pokemon_type = WaterPokemon , Pokemon_level = 5),  Pokemon(name = Polywag , pokemon_type = WaterPokemon , Pokemon_level = 8))\n"
     ]
    }
   ],
   "source": [
    "pokemon_tuple = (squirtles_type , polywag_type)\n",
    "\n",
    "print(pokemon_tuple)"
   ]
  }
 ],
 "metadata": {
  "kernelspec": {
   "display_name": "venv",
   "language": "python",
   "name": "python3"
  },
  "language_info": {
   "codemirror_mode": {
    "name": "ipython",
    "version": 3
   },
   "file_extension": ".py",
   "mimetype": "text/x-python",
   "name": "python",
   "nbconvert_exporter": "python",
   "pygments_lexer": "ipython3",
   "version": "3.11.7"
  }
 },
 "nbformat": 4,
 "nbformat_minor": 2
}
