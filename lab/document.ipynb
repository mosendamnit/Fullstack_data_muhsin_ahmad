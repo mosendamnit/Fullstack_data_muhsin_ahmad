{
 "cells": [
  {
   "cell_type": "markdown",
   "metadata": {},
   "source": [
    "# Explaination of Lab"
   ]
  },
  {
   "cell_type": "markdown",
   "metadata": {},
   "source": [
    "## 00-a Clone course repository\n",
    "- First of all clone the LAB repository in your own github "
   ]
  },
  {
   "cell_type": "markdown",
   "metadata": {},
   "source": [
    "## 00-b Gitignore\n",
    "- After creating the lab repositry in your github create the gitignore file and put following to ignore them during your lab project\n",
    "- .wal\n",
    "- .DS Store\n",
    "- .dbeaver\n",
    "- .project"
   ]
  },
  {
   "cell_type": "markdown",
   "metadata": {},
   "source": [
    "## 00-c Changing folder name\n",
    "\n",
    "- To perform this lab , we have alot of data in different schemas and we want to change the name of those schemas.\n",
    "- For example from Datum 2024-08-13_2024-09-10 AIgineer and those schemas we have in lab in backend folder - raw data.\n",
    "- We want to keep the schema name like Datum and rest remove it and copy them in clean data folder. \n",
    "\n",
    "### To perform this action we did some coding.\n",
    "\n",
    "- Frist to all mention the path for raw data folder with the help of Pathlib and same for clean data folder \n",
    "- Create the clean folder so copy the renamed schemas  and this copying the schemas is happended with help of #copytree\n",
    "- With the help of below block of code , change the raw schema into new schema name. \n",
    "```python\n",
    "from pathlib import Path\n",
    "from shutil import copytree, rmtree\n",
    "\n",
    "raw_data_path = Path(__file__).parent / \"raw_data\"\n",
    "cleaned_data_path = Path(__file__).parent / \"cleaned_data\"\n",
    "\n",
    "if cleaned_data_path.is_dir():\n",
    "    rmtree(cleaned_data_path)\n",
    "\n",
    "cleaned_data_path.mkdir(parents=True, exist_ok=True)\n",
    "\n",
    "for folder in raw_data_path.iterdir():\n",
    "    new_name = folder.name.split()[0]\n",
    "    copytree(folder, cleaned_data_path / new_name)\n",
    "```\n"
   ]
  },
  {
   "cell_type": "markdown",
   "metadata": {},
   "source": [
    "# 00-d Ingesting the CSV file in database with help of Python\n",
    "\n",
    "- We have two CSV files in data folder and find where is the CSV file is with help of DATA_PATH.\n",
    "- With the hep of setup_schema funtions set a schema with the name of supplier_invoice.\n",
    "- Clean up the file name , create a table for those invoices and import the CSV data into the data.  \n",
    "\n",
    "```python\n",
    "def ingest_csv_data_to_duckdb():\n",
    "    \"\"\"ingesting the cleaned csv data to duckdb\"\"\"\n",
    "    translation_table = str.maketrans({\"å\": \"a\", \"ä\": \"a\", \"ö\": \"o\"})\n",
    "\n",
    "    for directory_path in CLEANED_DATA_PATH.glob(\"*\"):\n",
    "        schema_name = directory_path.name.lower().translate(translation_table)\n",
    "        for csv_path in directory_path.glob(\"*\"):\n",
    "            table_name = csv_path.name.lower().split(\".\")[0].translate(translation_table)\n",
    "```"
   ]
  },
  {
   "cell_type": "markdown",
   "metadata": {},
   "source": [
    "## 00-e EDA on different schema\n",
    "\n",
    "- Exploratry data analysist to better understand the data\n",
    "- We explor different schema for exmaple datum and explor the two table in that schema like table and total.\n",
    "- We fix the format of date column into Year-Month-Day.\n",
    "- We have also join them to explor the data also see them in another angel. \n",
    "\n",
    "```sql\n",
    "SELECT\n",
    "    STRFTIME('%y-%m-%d', GEO_TOT.Datum) AS Datum,\n",
    "    ANY_VALUE(GEO_TAB.Visningar) AS Visningar,\n",
    "    ANY_VALUE(GEO_TAB.\"Visningstid (timmar)\") AS \"Visningstid (timmar)\",\n",
    "    GEO_TAB.Geografi\n",
    "FROM  \n",
    "    geografi.tabelldata AS geo_tab\n",
    "CROSS JOIN\n",
    "    geografi.totalt AS geo_tot\n",
    "GROUP BY\n",
    "    GEO_TAB.Geografi,\n",
    "    STRFTIME('%y-%m-%d', GEO_TOT.Datum);\n",
    "```\n",
    "\n",
    "\n",
    "- Same way i did the EDA for geografi schema , run the different table in the schema to have good understand\n",
    "- Did the Cross Join the two table in geografi schema and Group by different column to see on which Date , Geografi , Visningar , Visningar (timmar) and Genomsnittlig visningslängd \n",
    "\n",
    "```sql\n",
    "SELECT * FROM  geografi.diagramdata d ;\n",
    "   \n",
    "SELECT  * FROM  geografi.tabelldata t ;\n",
    "  \n",
    "SELECT * FROM  geografi.totalt t ;\n",
    "\n",
    "SELECT\n",
    "    STRFTIME('%y-%m-%d', GEO_TOT.Datum) AS Datum,\n",
    "    GEO_TAB.* \n",
    "FROM  \n",
    "    geografi.tabelldata AS geo_tab\n",
    "CROSS JOIN\n",
    "    geografi.totalt  AS geo_tot\n",
    "GROUP BY\n",
    "    Datum, GEO_TAB.Geografi , GEO_TAB.Visningar , GEO_TAB.\"Visningstid (timmar)\" , GEO_TAB.\"Genomsnittlig visningslängd\" ;\n",
    "\n",
    "\n"
   ]
  },
  {
   "cell_type": "markdown",
   "metadata": {},
   "source": []
  }
 ],
 "metadata": {
  "kernelspec": {
   "display_name": ".venv",
   "language": "python",
   "name": "python3"
  },
  "language_info": {
   "name": "python",
   "version": "3.11.7"
  }
 },
 "nbformat": 4,
 "nbformat_minor": 2
}
