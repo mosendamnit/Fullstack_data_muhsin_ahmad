{
 "cells": [
  {
   "cell_type": "markdown",
   "metadata": {},
   "source": [
    "# Explaination of Lab"
   ]
  },
  {
   "cell_type": "markdown",
   "metadata": {},
   "source": [
    "## 00-a Clone course repository\n",
    "- First of all clone the LAB repository in your own github "
   ]
  },
  {
   "cell_type": "markdown",
   "metadata": {},
   "source": [
    "## 00-b Gitignore\n",
    "- After creating the lab repositry in your github create the gitignore file and put following to ignore them during your lab project\n",
    "- .wal\n",
    "- .DS Store\n",
    "- .dbeaver\n",
    "- .project"
   ]
  },
  {
   "cell_type": "markdown",
   "metadata": {},
   "source": [
    "## 00-c Changing folder name\n",
    "\n",
    "- To perform this lab , we have alot of data in different schemas and we want to change the name of those schemas.\n",
    "- For example from Datum 2024-08-13_2024-09-10 AIgineer and those schemas we have in lab in backend folder - raw data.\n",
    "- We want to keep the schema name like Datum and rest remove it and copy them in clean data folder. \n",
    "\n",
    "### To perform this action we did some coding.\n",
    "\n",
    "- Frist to all mention the path for raw data folder with the help of Pathlib and same for clean data folder \n",
    "- Create the clean folder so copy the renamed schemas  and this copying the schemas is happended with help of #copytree\n",
    "- With the help of below block of code , change the raw schema into new schema name. \n",
    "```python\n",
    "for folder in raw_data_path.iterdir():\n",
    "    new_name = folder.name.split()[0]\n",
    "    copytree(folder, cleaned_data_path / new_name)\n",
    "```\n"
   ]
  },
  {
   "cell_type": "markdown",
   "metadata": {},
   "source": [
    "# 00-d Ingesting the CSV file in database with help of Python\n",
    "\n",
    "- We have two CSV files in data folder and find where is the CSV file is with help of DATA_PATH.\n",
    "- With the hep of setup_schema funtions set a schema with the name of supplier_invoice.\n",
    "- Clean up the file name , create a table for those invoices and import the CSV data into the data.  "
   ]
  }
 ],
 "metadata": {
  "kernelspec": {
   "display_name": ".venv",
   "language": "python",
   "name": "python3"
  },
  "language_info": {
   "name": "python",
   "version": "3.11.7"
  }
 },
 "nbformat": 4,
 "nbformat_minor": 2
}
