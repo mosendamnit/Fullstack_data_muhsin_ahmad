{
 "cells": [
  {
   "cell_type": "code",
   "execution_count": 1,
   "metadata": {},
   "outputs": [
    {
     "data": {
      "text/plain": [
       "('Mohsin', 34, True)"
      ]
     },
     "execution_count": 1,
     "metadata": {},
     "output_type": "execute_result"
    }
   ],
   "source": [
    "name = \"Mohsin\"\n",
    "age = 34\n",
    "love_cat = True\n",
    "\n",
    "\n",
    "name , age , love_cat"
   ]
  },
  {
   "cell_type": "markdown",
   "metadata": {},
   "source": [
    "# f-string"
   ]
  },
  {
   "cell_type": "code",
   "execution_count": 2,
   "metadata": {},
   "outputs": [
    {
     "name": "stdout",
     "output_type": "stream",
     "text": [
      "name data type:  <class 'str'>\n",
      "age data type:  <class 'int'>\n",
      "love_cat data type:  <class 'bool'>\n"
     ]
    }
   ],
   "source": [
    "print(f\"name data type:  {type(name)}\")\n",
    "print(f\"age data type:  {type(age)}\")\n",
    "print(f\"love_cat data type:  {type(love_cat)}\")"
   ]
  },
  {
   "cell_type": "markdown",
   "metadata": {},
   "source": [
    "# List"
   ]
  },
  {
   "cell_type": "code",
   "execution_count": 4,
   "metadata": {},
   "outputs": [
    {
     "data": {
      "text/plain": [
       "['Mohsin', 34, True]"
      ]
     },
     "execution_count": 4,
     "metadata": {},
     "output_type": "execute_result"
    }
   ],
   "source": [
    "hobby = [\"youtube\" , \"playstation\" , \"cycling\" , \"swimming\"]\n",
    "# list can be a collection of different data type element\n",
    "\n",
    "person = [\"Mohsin\" , 34 , True]\n",
    "person"
   ]
  },
  {
   "cell_type": "code",
   "execution_count": 5,
   "metadata": {},
   "outputs": [
    {
     "data": {
      "text/plain": [
       "['Mohsin', 34, True, ['youtube', 'playstation', 'cycling', 'swimming']]"
      ]
     },
     "execution_count": 5,
     "metadata": {},
     "output_type": "execute_result"
    }
   ],
   "source": [
    "person.append(hobby)\n",
    "person"
   ]
  },
  {
   "cell_type": "code",
   "execution_count": 8,
   "metadata": {},
   "outputs": [
    {
     "name": "stdout",
     "output_type": "stream",
     "text": [
      "person[0] = 'Mohsin'\n",
      "person[1] = 34\n"
     ]
    }
   ],
   "source": [
    "print(f\"{person[0] = }\")\n",
    "print(f\"{person[1] = }\")\n"
   ]
  },
  {
   "cell_type": "code",
   "execution_count": 14,
   "metadata": {},
   "outputs": [
    {
     "name": "stdout",
     "output_type": "stream",
     "text": [
      "original list\n",
      "person =['Mohsin', 34, True, ['youtube', 'playstation', 'cycling', 'swimming']] \n",
      "\n",
      "slice fromm 0 to 2\n",
      " ['Mohsin', 34] \n",
      "\n",
      "print every second element\n",
      " ['Mohsin', True]\n",
      "Print in reverse order\n",
      "[['youtube', 'playstation', 'cycling', 'swimming'], True, 34, 'Mohsin']\n"
     ]
    }
   ],
   "source": [
    "print(\"original list\")\n",
    "print(f\"{person =} \\n\")\n",
    "\n",
    "print(\"slice fromm 0 to 2\")\n",
    "print(f\" {person[:2]} \\n\")\n",
    "\n",
    "\n",
    "print(\"print every second element\")\n",
    "print(f\" {person[0::2]}\")\n",
    "\n",
    "print(\"Print in reverse order\")\n",
    "print(f\"{person[: : -1]}\")"
   ]
  },
  {
   "cell_type": "markdown",
   "metadata": {},
   "source": [
    "# Iterating over lists "
   ]
  },
  {
   "cell_type": "code",
   "execution_count": 21,
   "metadata": {},
   "outputs": [
    {
     "name": "stdout",
     "output_type": "stream",
     "text": [
      "numbers = [0, 1, 2, 3, 4, 5, 6, 7, 8, 9]\n",
      "square = [0, 1, 4, 9, 16, 25, 36, 49, 64, 81]\n",
      " 8 before we cross the 500\n"
     ]
    }
   ],
   "source": [
    "numbers = []\n",
    "\n",
    "for i in range(10):\n",
    "    numbers.append(i)\n",
    "\n",
    "print(f\"{numbers = }\")\n",
    "\n",
    "\n",
    "square = []\n",
    "\n",
    "for number in numbers:\n",
    "    square.append(number**2)\n",
    "\n",
    "print(f\"{square = }\")\n",
    "\n",
    "\n",
    "i , cubes = 0 , [0]\n",
    "\n",
    "while (i+1) **3 < 500 :\n",
    "    i +=1\n",
    "    cubes.append(i**3)\n",
    "\n",
    "print(f\" {len(cubes)} before we cross the 500\")"
   ]
  },
  {
   "cell_type": "markdown",
   "metadata": {},
   "source": [
    "# list comprehensions for list creations"
   ]
  },
  {
   "cell_type": "code",
   "execution_count": 23,
   "metadata": {},
   "outputs": [
    {
     "name": "stdout",
     "output_type": "stream",
     "text": [
      " number = [0, 1, 2, 3, 4, 5, 6, 7, 8, 9]\n",
      " square = [0, 1, 4, 9, 16, 25, 36, 49, 64, 81]\n",
      " cubes = [0, 1, 8, 27, 64, 125, 216, 343]\n"
     ]
    }
   ],
   "source": [
    "number = [ number for number in range(10)]\n",
    "square = [number **2 for number in range(10)]\n",
    "\n",
    "# if -statement in list comprehension\n",
    "\n",
    "cubes = [number **3 for number in range(10) if number **3 < 500]\n",
    "\n",
    "print(f\" {number = }\")\n",
    "print(f\" {square = }\")\n",
    "print(f\" {cubes = }\")"
   ]
  },
  {
   "cell_type": "code",
   "execution_count": 39,
   "metadata": {},
   "outputs": [
    {
     "name": "stdout",
     "output_type": "stream",
     "text": [
      "dices = [2, 5, 3, 4, 1, 6, 2, 4, 3, 4]\n",
      "unique_dices = {1, 2, 3, 4, 5, 6}\n"
     ]
    }
   ],
   "source": [
    "import random as rnd\n",
    "\n",
    "dices = [\n",
    "    rnd.randint(1, 6) for i in range(10)\n",
    "]\n",
    "\n",
    "print(f\"{dices = }\")\n",
    "\n",
    "unique_dices = set(dices)\n",
    "print(f\"{unique_dices = }\")"
   ]
  },
  {
   "cell_type": "markdown",
   "metadata": {},
   "source": [
    "# set logic"
   ]
  },
  {
   "cell_type": "code",
   "execution_count": 41,
   "metadata": {},
   "outputs": [
    {
     "name": "stdout",
     "output_type": "stream",
     "text": [
      "unique_dices = {1, 2, 3, 4, 5, 6}\n",
      "set2 ={1, 10, 3, 15}\n",
      "\n",
      "unique_dices.union(set2) = {1, 2, 3, 4, 5, 6, 10, 15}\n",
      "unique_dices |  set2 = {1, 2, 3, 4, 5, 6, 10, 15} \n",
      "\n"
     ]
    }
   ],
   "source": [
    "set2 = {1,3,10,15}\n",
    "\n",
    "print(f\"{unique_dices = }\")\n",
    "print(f\"{set2 =}\\n\")\n",
    "\n",
    "\n",
    "print(f\"{unique_dices.union(set2) = }\") # union\n",
    "print(f\"{unique_dices |  set2 = } \\n\")\n",
    "\n"
   ]
  },
  {
   "cell_type": "markdown",
   "metadata": {},
   "source": [
    "# Dictionary - two different syntaxes\n",
    "The two different syntaxes to create dictionary in Python are\n",
    "\n",
    "using the dict keyword\n",
    "using bracket syntax"
   ]
  },
  {
   "cell_type": "code",
   "execution_count": 44,
   "metadata": {},
   "outputs": [
    {
     "name": "stdout",
     "output_type": "stream",
     "text": [
      "Print both synatx format of dictionary \n",
      " {'name': 'Mohsin', 'age': 34, 'love_cat': True} \n",
      " {'name': 'Mohsin', 'age ': 34, 'love_cat': True}\n"
     ]
    },
    {
     "data": {
      "text/plain": [
       "('0x10cb896c0', '0x10cb179c0')"
      ]
     },
     "execution_count": 44,
     "metadata": {},
     "output_type": "execute_result"
    }
   ],
   "source": [
    "person_dict_syntax = dict (\n",
    "    name = \"Mohsin\" , age = 34 , love_cat = True\n",
    ")\n",
    "\n",
    "person_bracket_syntax = {\n",
    "    \"name\" : \"Mohsin\",\n",
    "    \"age \" : 34,\n",
    "    \"love_cat\" : True,\n",
    "}\n",
    "\n",
    "\n",
    "print(f\"Print both synatx format of dictionary \\n {person_dict_syntax} \\n {person_bracket_syntax}\")\n",
    "\n",
    "\n",
    "hex(id(person_bracket_syntax)) , hex(id(person_dict_syntax))"
   ]
  },
  {
   "cell_type": "code",
   "execution_count": 49,
   "metadata": {},
   "outputs": [
    {
     "data": {
      "text/plain": [
       "('0x10cb8f8c0', '0x10cb8f680')"
      ]
     },
     "execution_count": 49,
     "metadata": {},
     "output_type": "execute_result"
    }
   ],
   "source": [
    "person_dict_syntax = dict (\n",
    "    name = \"Mohsin\" , age = 34 , love_cat = True\n",
    ")\n",
    "\n",
    "person2_dict_syntax = dict (\n",
    "    name = \"Mohsin\" , age = 34 , love_cat = True\n",
    ")\n",
    "\n",
    "hex(id(person_dict_syntax)) , hex(id(person2_dict_syntax))   # It doesnt matter how dict is constructed the memory address will be different unless the variable and values are same . "
   ]
  },
  {
   "cell_type": "markdown",
   "metadata": {},
   "source": [
    "# Iterating over dictionary"
   ]
  },
  {
   "cell_type": "code",
   "execution_count": 50,
   "metadata": {},
   "outputs": [
    {
     "name": "stdout",
     "output_type": "stream",
     "text": [
      "name\n",
      "age\n",
      "love_cat\n"
     ]
    }
   ],
   "source": [
    "for key in person2_dict_syntax:\n",
    "    print(key)"
   ]
  },
  {
   "cell_type": "code",
   "execution_count": 58,
   "metadata": {},
   "outputs": [
    {
     "name": "stdout",
     "output_type": "stream",
     "text": [
      "Key: Value\n",
      "name Mohsin\n",
      "age 34\n",
      "love_cat True\n"
     ]
    }
   ],
   "source": [
    "print ( \"Key\" \":\" \" Value\")\n",
    "\n",
    "for key , value in person_dict_syntax.items():\n",
    "    print(key , value)"
   ]
  },
  {
   "cell_type": "markdown",
   "metadata": {},
   "source": [
    "# dictionary comprehension"
   ]
  },
  {
   "cell_type": "code",
   "execution_count": 60,
   "metadata": {},
   "outputs": [
    {
     "data": {
      "text/plain": [
       "{'supervised learning': 'learns from labeled data.',\n",
       " 'unsupervised learning': 'finds patterns in unlabeled data.',\n",
       " 'feature engineering': 'enhances input features for models.',\n",
       " 'overfitting': 'model fits training data too closely.',\n",
       " 'cross-validation': 'evaluates model performance robustly.'}"
      ]
     },
     "execution_count": 60,
     "metadata": {},
     "output_type": "execute_result"
    }
   ],
   "source": [
    "ml_terms = [\n",
    "    \"Supervised Learning\",\n",
    "    \"Unsupervised Learning\",\n",
    "    \"Feature Engineering\",\n",
    "    \"Overfitting\",\n",
    "    \"Cross-Validation\"\n",
    "]\n",
    "\n",
    "\n",
    "ml_explanations = [\n",
    "    \"Learns from labeled data.\",\n",
    "    \"Finds patterns in unlabeled data.\",\n",
    "    \"Enhances input features for models.\",\n",
    "    \"Model fits training data too closely.\",\n",
    "    \"Evaluates model performance robustly.\"\n",
    "]\n",
    "\n",
    "\n",
    "glossary = {terms.lower() : explanations.lower() for terms , explanations in zip(ml_terms , ml_explanations)}\n",
    "\n",
    "glossary\n"
   ]
  },
  {
   "cell_type": "markdown",
   "metadata": {},
   "source": [
    "# Strings\n",
    "important to understand how to manipulate strings as we will clean a lot of data in our work"
   ]
  },
  {
   "cell_type": "code",
   "execution_count": 70,
   "metadata": {},
   "outputs": [
    {
     "name": "stdout",
     "output_type": "stream",
     "text": [
      "len(ml_term) = 19\n",
      "ml_term.strip() = 'sUpervised LearNing'\n",
      "ml_term.split() = ['sUpervised', 'LearNing']\n",
      "Print Cleaned data \n",
      "' '.join(ml_term.split()).lower() = 'supervised learning'\n"
     ]
    }
   ],
   "source": [
    "ml_term = \"sUpervised LearNing\"\n",
    "\n",
    "print(f\"{len(ml_term) = }\")\n",
    "\n",
    "print(f\"{ml_term.strip() = }\")\n",
    "print(f\"{ml_term.split() = }\")\n",
    "\n",
    "print(\"Print Cleaned data \")\n",
    "print(f\"{' '.join(ml_term.split()).lower() = }\")\n",
    "\n",
    "\n"
   ]
  },
  {
   "cell_type": "markdown",
   "metadata": {},
   "source": [
    "# if-statement\n",
    "\n",
    "- conditional control structure\n",
    "- execute block of code if condition fulfilled\n",
    "- Some concepts of if-statements have been covered already throughout other concepts, hence this section will be shorter and try cover parts that are new"
   ]
  },
  {
   "cell_type": "code",
   "execution_count": 74,
   "metadata": {},
   "outputs": [
    {
     "name": "stdout",
     "output_type": "stream",
     "text": [
      "Positive  prediction for disces with probibitly 0.8\n"
     ]
    }
   ],
   "source": [
    "prediction_probability = 0.8\n",
    "\n",
    "if prediction_probability > 0.5:\n",
    "    y_pred = 1\n",
    "else:\n",
    "    y_pred = 0\n",
    "\n",
    "Prediction = \"Positive \" if y_pred else \"Negative\"\n",
    "\n",
    "print(\n",
    "    f\"{Prediction} prediction for disces with probibitly {prediction_probability}\"\n",
    ")\n"
   ]
  },
  {
   "cell_type": "code",
   "execution_count": 75,
   "metadata": {},
   "outputs": [
    {
     "name": "stdout",
     "output_type": "stream",
     "text": [
      "The accuracy of your model is 0.3 and the performace is Bad\n"
     ]
    }
   ],
   "source": [
    "accuracy = float (input(\"give your model accuracy\"))\n",
    "\n",
    "if accuracy > .9:\n",
    "    model_perfomace = \"Good\"\n",
    "\n",
    "elif accuracy > .7:\n",
    "    model_perfomace = \"Moderate\"\n",
    "\n",
    "else:\n",
    "    model_perfomace = \"Bad\"\n",
    "\n",
    "print(f\"The accuracy of your model is {accuracy} and the performace is {model_perfomace}\")"
   ]
  },
  {
   "cell_type": "markdown",
   "metadata": {},
   "source": [
    "# function"
   ]
  },
  {
   "cell_type": "code",
   "execution_count": 80,
   "metadata": {},
   "outputs": [
    {
     "name": "stdout",
     "output_type": "stream",
     "text": [
      "27\n",
      "[0, 1, 8, 27, 64]\n"
     ]
    }
   ],
   "source": [
    "def cube (x):\n",
    "    return x**3\n",
    "\n",
    "print(cube(3))\n",
    "\n",
    "cubes = [cube(x) for x in range(5)]\n",
    "print(cubes)"
   ]
  },
  {
   "cell_type": "code",
   "execution_count": 82,
   "metadata": {},
   "outputs": [
    {
     "data": {
      "text/plain": [
       "3"
      ]
     },
     "execution_count": 82,
     "metadata": {},
     "output_type": "execute_result"
    }
   ],
   "source": [
    "def smallest (number1 , number2):\n",
    "    if number1 > number2:\n",
    "        return number2\n",
    "    \n",
    "    return number1\n",
    "\n",
    "smallest(3, 7)\n"
   ]
  },
  {
   "cell_type": "code",
   "execution_count": 83,
   "metadata": {},
   "outputs": [
    {
     "name": "stdout",
     "output_type": "stream",
     "text": [
      "3.0\n"
     ]
    }
   ],
   "source": [
    "def my_mean (*args):\n",
    "    sum = 0\n",
    "    for arg in args:\n",
    "        sum += arg\n",
    "    return sum / len(args)\n",
    "\n",
    "print(my_mean(1,2,3,4,5))"
   ]
  },
  {
   "cell_type": "markdown",
   "metadata": {},
   "source": [
    "# Matplotlib"
   ]
  },
  {
   "cell_type": "code",
   "execution_count": 1,
   "metadata": {},
   "outputs": [
    {
     "data": {
      "image/png": "[encoded data removed]",
      "text/plain": [
       "<Figure size 640x480 with 1 Axes>"
      ]
     },
     "metadata": {},
     "output_type": "display_data"
    }
   ],
   "source": [
    "import matplotlib.pyplot as plt\n",
    "\n",
    "# Sample data\n",
    "x = [1, 2, 3, 4, 5]\n",
    "y = [2, 3, 5, 7, 11]\n",
    "\n",
    "# Create a basic plot\n",
    "plt.plot(x, y)\n",
    "\n",
    "# Add a title and labels\n",
    "plt.title(\"Basic Line Plot\")\n",
    "plt.xlabel(\"X-axis\")\n",
    "plt.ylabel(\"Y-axis\")\n",
    "\n",
    "# Show the plot\n",
    "plt.show()\n"
   ]
  }
 ],
 "metadata": {
  "kernelspec": {
   "display_name": "venv",
   "language": "python",
   "name": "python3"
  },
  "language_info": {
   "codemirror_mode": {
    "name": "ipython",
    "version": 3
   },
   "file_extension": ".py",
   "mimetype": "text/x-python",
   "name": "python",
   "nbconvert_exporter": "python",
   "pygments_lexer": "ipython3",
   "version": "3.11.7"
  }
 },
 "nbformat": 4,
 "nbformat_minor": 2
}
